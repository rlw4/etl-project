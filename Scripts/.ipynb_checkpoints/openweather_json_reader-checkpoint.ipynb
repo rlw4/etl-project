{
 "cells": [
  {
   "cell_type": "code",
   "execution_count": 20,
   "metadata": {},
   "outputs": [],
   "source": [
    "import pandas as pd\n",
    "import numpy as np\n",
    "import requests\n",
    "from datetime import datetime as dt\n",
    "import time\n",
    "import json"
   ]
  },
  {
   "cell_type": "code",
   "execution_count": 21,
   "metadata": {},
   "outputs": [],
   "source": [
    "path =  \"Resources/atlanta_weather_history.json\"\n",
    "openweather_data = json.load(open(path))\n",
    "\n",
    "##Only two inputs are a list of timestamps and list of game IDs\n",
    "timestamp_list = [1262304000, 1262307600, 1262311200, 1262314800, 1262318400]\n",
    "game_ids = [1, 2, 3, 4, 5]\n",
    "\n",
    "for value in openweather_data:\n",
    "    if timestamp == value['dt']:\n",
    "        output = [[value['main']['temp'], \n",
    "            value['main']['humidity'], \n",
    "            value['clouds']['all'],\n",
    "            value['weather'][0]['main'],\n",
    "            value['wind']['speed']]]\n"
   ]
  },
  {
   "cell_type": "code",
   "execution_count": 22,
   "metadata": {},
   "outputs": [
    {
     "data": {
      "text/plain": [
       "[[1262304000, 7.16, 96, 90, 'Mist', 1.5]]"
      ]
     },
     "metadata": {},
     "output_type": "display_data"
    },
    {
     "data": {
      "text/plain": [
       "[[1262307600, 7.33, 92, 90, 'Mist', 2.16]]"
      ]
     },
     "metadata": {},
     "output_type": "display_data"
    },
    {
     "data": {
      "text/plain": [
       "[[1262311200, 7.33, 100, 90, 'Mist', 1.5]]"
      ]
     },
     "metadata": {},
     "output_type": "display_data"
    },
    {
     "data": {
      "text/plain": [
       "[[1262314800, 7.24, 92, 90, 'Mist', 2.64]]"
      ]
     },
     "metadata": {},
     "output_type": "display_data"
    },
    {
     "data": {
      "text/plain": [
       "[[1262318400, 7.13, 92, 75, 'Mist', 1.5]]"
      ]
     },
     "metadata": {},
     "output_type": "display_data"
    },
    {
     "data": {
      "text/html": [
       "<div>\n",
       "<style scoped>\n",
       "    .dataframe tbody tr th:only-of-type {\n",
       "        vertical-align: middle;\n",
       "    }\n",
       "\n",
       "    .dataframe tbody tr th {\n",
       "        vertical-align: top;\n",
       "    }\n",
       "\n",
       "    .dataframe thead th {\n",
       "        text-align: right;\n",
       "    }\n",
       "</style>\n",
       "<table border=\"1\" class=\"dataframe\">\n",
       "  <thead>\n",
       "    <tr style=\"text-align: right;\">\n",
       "      <th></th>\n",
       "      <th>Game_IDs</th>\n",
       "      <th>Timestamp</th>\n",
       "      <th>Temperature</th>\n",
       "      <th>Humidity</th>\n",
       "      <th>Cloudiness</th>\n",
       "      <th>Weather</th>\n",
       "      <th>Wind Speed</th>\n",
       "    </tr>\n",
       "  </thead>\n",
       "  <tbody>\n",
       "    <tr>\n",
       "      <th>0</th>\n",
       "      <td>1</td>\n",
       "      <td>1262304000</td>\n",
       "      <td>7.16</td>\n",
       "      <td>96</td>\n",
       "      <td>90</td>\n",
       "      <td>Mist</td>\n",
       "      <td>1.50</td>\n",
       "    </tr>\n",
       "    <tr>\n",
       "      <th>1</th>\n",
       "      <td>2</td>\n",
       "      <td>1262307600</td>\n",
       "      <td>7.33</td>\n",
       "      <td>92</td>\n",
       "      <td>90</td>\n",
       "      <td>Mist</td>\n",
       "      <td>2.16</td>\n",
       "    </tr>\n",
       "    <tr>\n",
       "      <th>2</th>\n",
       "      <td>3</td>\n",
       "      <td>1262311200</td>\n",
       "      <td>7.33</td>\n",
       "      <td>100</td>\n",
       "      <td>90</td>\n",
       "      <td>Mist</td>\n",
       "      <td>1.50</td>\n",
       "    </tr>\n",
       "    <tr>\n",
       "      <th>3</th>\n",
       "      <td>4</td>\n",
       "      <td>1262314800</td>\n",
       "      <td>7.24</td>\n",
       "      <td>92</td>\n",
       "      <td>90</td>\n",
       "      <td>Mist</td>\n",
       "      <td>2.64</td>\n",
       "    </tr>\n",
       "    <tr>\n",
       "      <th>4</th>\n",
       "      <td>5</td>\n",
       "      <td>1262318400</td>\n",
       "      <td>7.13</td>\n",
       "      <td>92</td>\n",
       "      <td>75</td>\n",
       "      <td>Mist</td>\n",
       "      <td>1.50</td>\n",
       "    </tr>\n",
       "  </tbody>\n",
       "</table>\n",
       "</div>"
      ],
      "text/plain": [
       "   Game_IDs   Timestamp  Temperature  Humidity  Cloudiness Weather  Wind Speed\n",
       "0         1  1262304000         7.16        96          90    Mist        1.50\n",
       "1         2  1262307600         7.33        92          90    Mist        2.16\n",
       "2         3  1262311200         7.33       100          90    Mist        1.50\n",
       "3         4  1262314800         7.24        92          90    Mist        2.64\n",
       "4         5  1262318400         7.13        92          75    Mist        1.50"
      ]
     },
     "metadata": {},
     "output_type": "display_data"
    }
   ],
   "source": [
    "gameweather_data = pd.DataFrame()\n",
    "\n",
    "for timestamp in timestamp_list:\n",
    "    \n",
    "    #Organizes location and date object for api call\n",
    "    #timestamp = timestamp_list[i]\n",
    "    \n",
    "    for value in openweather_data:\n",
    "        try:\n",
    "            if timestamp == value['dt']:\n",
    "                weather = [[value['dt'],\n",
    "                            value['main']['temp'], \n",
    "                            value['main']['humidity'], \n",
    "                            value['clouds']['all'],\n",
    "                            value['weather'][0]['main'],\n",
    "                            value['wind']['speed']]]\n",
    "                \n",
    "                display(weather)\n",
    "                gameweather_data = gameweather_data.append(weather)\n",
    "            \n",
    "    \n",
    "        except (KeyError, IndexError):\n",
    "            print(\"Missing field/result... skipping.\")\n",
    "\n",
    "#end for\n",
    "gameweather_data.columns = ['Timestamp','Temperature', 'Humidity', 'Cloudiness', 'Weather', 'Wind Speed']\n",
    "gameweather_data. insert(0, 'Game_IDs', game_ids)\n",
    "gameweather_data = gameweather_data.reset_index(drop = True)\n",
    "\n",
    "display(gameweather_data)\n"
   ]
  },
  {
   "cell_type": "code",
   "execution_count": 26,
   "metadata": {},
   "outputs": [
    {
     "data": {
      "text/plain": [
       "'08-01-2020'"
      ]
     },
     "metadata": {},
     "output_type": "display_data"
    },
    {
     "data": {
      "text/plain": [
       "822182580.0"
      ]
     },
     "metadata": {},
     "output_type": "display_data"
    }
   ],
   "source": [
    "##MOCK DATA FOR INPUT##\n",
    "mock_data = {'Game_ID':  ['1', '2', '3', '4', '5'],\n",
    "        'Location': ['new york', 'los angeles', 'chicago', 'houston', 'miami', ],\n",
    "        'Date': ['03-21-1996', '08-01-2020', '01-20-1980', '12-01-2001', '11-15-2008']\n",
    "        }\n",
    "mock_data_df = pd.DataFrame(mock_data)\n",
    "cities = mock_data_df['Location']\n",
    "times = mock_data_df['Date']\n",
    "\n",
    "display(mock_data_df['Date'][1])\n",
    "\n",
    "\n",
    "#Organizes location\n",
    "city_name = mock_data_df['Location'][0]\n",
    "\n",
    "#Timestamp conversion\n",
    "date = mock_data_df['Date'][0]\n",
    "datetime_obj = dt.strptime(date, '%M-%d-%Y')\n",
    "timestamp = (datetime_obj - dt(1970, 1, 1)).total_seconds()\n",
    "display(timestamp)"
   ]
  },
  {
   "cell_type": "code",
   "execution_count": null,
   "metadata": {},
   "outputs": [],
   "source": []
  }
 ],
 "metadata": {
  "kernelspec": {
   "display_name": "Python 3",
   "language": "python",
   "name": "python3"
  },
  "language_info": {
   "codemirror_mode": {
    "name": "ipython",
    "version": 3
   },
   "file_extension": ".py",
   "mimetype": "text/x-python",
   "name": "python",
   "nbconvert_exporter": "python",
   "pygments_lexer": "ipython3",
   "version": "3.8.5"
  }
 },
 "nbformat": 4,
 "nbformat_minor": 4
}
