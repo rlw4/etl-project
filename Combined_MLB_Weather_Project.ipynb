{
 "cells": [
  {
   "cell_type": "code",
   "execution_count": 1,
   "metadata": {},
   "outputs": [],
   "source": [
    "import pandas as pd\n",
    "import numpy as np\n",
    "import requests\n",
    "from datetime import datetime as dt\n",
    "import time\n",
    "import json\n",
    "import matplotlib.pyplot as plt\n",
    "import scipy.stats as st\n",
    "from scipy.stats import linregress"
   ]
  },
  {
   "cell_type": "code",
   "execution_count": 3,
   "metadata": {},
   "outputs": [
    {
     "data": {
      "text/html": [
       "<div>\n",
       "<style scoped>\n",
       "    .dataframe tbody tr th:only-of-type {\n",
       "        vertical-align: middle;\n",
       "    }\n",
       "\n",
       "    .dataframe tbody tr th {\n",
       "        vertical-align: top;\n",
       "    }\n",
       "\n",
       "    .dataframe thead th {\n",
       "        text-align: right;\n",
       "    }\n",
       "</style>\n",
       "<table border=\"1\" class=\"dataframe\">\n",
       "  <thead>\n",
       "    <tr style=\"text-align: right;\">\n",
       "      <th></th>\n",
       "      <th>\"away_team</th>\n",
       "      <th>away_team_score</th>\n",
       "      <th>date</th>\n",
       "      <th>game_id</th>\n",
       "      <th>home_team</th>\n",
       "      <th>home_team_score</th>\n",
       "      <th>note</th>\n",
       "      <th>season</th>\n",
       "      <th>year\"</th>\n",
       "    </tr>\n",
       "  </thead>\n",
       "  <tbody>\n",
       "    <tr>\n",
       "      <th>NaN</th>\n",
       "      <td>\"chw</td>\n",
       "      <td>4</td>\n",
       "      <td>\"\"Thu</td>\n",
       "      <td>Mar 4\"\"</td>\n",
       "      <td>300304103.0</td>\n",
       "      <td>laa</td>\n",
       "      <td>4</td>\n",
       "      <td>Preseason</td>\n",
       "      <td>2010\"</td>\n",
       "    </tr>\n",
       "    <tr>\n",
       "      <th>NaN</th>\n",
       "      <td>\"lad</td>\n",
       "      <td>8</td>\n",
       "      <td>\"\"Fri</td>\n",
       "      <td>Mar 5\"\"</td>\n",
       "      <td>300305104.0</td>\n",
       "      <td>chw</td>\n",
       "      <td>3</td>\n",
       "      <td>Preseason</td>\n",
       "      <td>2010\"</td>\n",
       "    </tr>\n",
       "    <tr>\n",
       "      <th>NaN</th>\n",
       "      <td>\"chw</td>\n",
       "      <td>15</td>\n",
       "      <td>\"\"Sat</td>\n",
       "      <td>Mar 6\"\"</td>\n",
       "      <td>300306116.0</td>\n",
       "      <td>chc</td>\n",
       "      <td>3</td>\n",
       "      <td>Preseason</td>\n",
       "      <td>2010\"</td>\n",
       "    </tr>\n",
       "    <tr>\n",
       "      <th>NaN</th>\n",
       "      <td>\"chw</td>\n",
       "      <td>8</td>\n",
       "      <td>\"\"Sat</td>\n",
       "      <td>Mar 6\"\"</td>\n",
       "      <td>300306119.0</td>\n",
       "      <td>lad</td>\n",
       "      <td>4</td>\n",
       "      <td>Preseason</td>\n",
       "      <td>2010\"</td>\n",
       "    </tr>\n",
       "    <tr>\n",
       "      <th>NaN</th>\n",
       "      <td>\"sea</td>\n",
       "      <td>5</td>\n",
       "      <td>\"\"Mon</td>\n",
       "      <td>Mar 8\"\"</td>\n",
       "      <td>300308104.0</td>\n",
       "      <td>chw</td>\n",
       "      <td>4</td>\n",
       "      <td>Preseason</td>\n",
       "      <td>2010\"</td>\n",
       "    </tr>\n",
       "  </tbody>\n",
       "</table>\n",
       "</div>"
      ],
      "text/plain": [
       "    \"away_team away_team_score   date   game_id    home_team home_team_score  \\\n",
       "NaN       \"chw               4  \"\"Thu   Mar 4\"\"  300304103.0             laa   \n",
       "NaN       \"lad               8  \"\"Fri   Mar 5\"\"  300305104.0             chw   \n",
       "NaN       \"chw              15  \"\"Sat   Mar 6\"\"  300306116.0             chc   \n",
       "NaN       \"chw               8  \"\"Sat   Mar 6\"\"  300306119.0             lad   \n",
       "NaN       \"sea               5  \"\"Mon   Mar 8\"\"  300308104.0             chw   \n",
       "\n",
       "    note     season  year\"  \n",
       "NaN    4  Preseason  2010\"  \n",
       "NaN    3  Preseason  2010\"  \n",
       "NaN    3  Preseason  2010\"  \n",
       "NaN    4  Preseason  2010\"  \n",
       "NaN    4  Preseason  2010\"  "
      ]
     },
     "execution_count": 3,
     "metadata": {},
     "output_type": "execute_result"
    }
   ],
   "source": [
    "#read csv file\n",
    "csv_file=\"mlb_games.csv\"\n",
    "mlb_games_df=pd.read_csv(csv_file,sep='[,]',engine=\"python\",index_col=7)\n",
    "mlb_games_df.head()"
   ]
  },
  {
   "cell_type": "code",
   "execution_count": 4,
   "metadata": {},
   "outputs": [
    {
     "data": {
      "text/html": [
       "<div>\n",
       "<style scoped>\n",
       "    .dataframe tbody tr th:only-of-type {\n",
       "        vertical-align: middle;\n",
       "    }\n",
       "\n",
       "    .dataframe tbody tr th {\n",
       "        vertical-align: top;\n",
       "    }\n",
       "\n",
       "    .dataframe thead th {\n",
       "        text-align: right;\n",
       "    }\n",
       "</style>\n",
       "<table border=\"1\" class=\"dataframe\">\n",
       "  <thead>\n",
       "    <tr style=\"text-align: right;\">\n",
       "      <th></th>\n",
       "      <th>\"away_team</th>\n",
       "      <th>away_team_score</th>\n",
       "      <th>date</th>\n",
       "      <th>game_id</th>\n",
       "      <th>home_team</th>\n",
       "      <th>home_team_score</th>\n",
       "      <th>note</th>\n",
       "      <th>season</th>\n",
       "      <th>year\"</th>\n",
       "    </tr>\n",
       "  </thead>\n",
       "  <tbody>\n",
       "    <tr>\n",
       "      <th>NaN</th>\n",
       "      <td>\"chw</td>\n",
       "      <td>7</td>\n",
       "      <td>\"\"Fri</td>\n",
       "      <td>Apr 2\"\"</td>\n",
       "      <td>300402115.0</td>\n",
       "      <td>atl</td>\n",
       "      <td>2</td>\n",
       "      <td>Preseason</td>\n",
       "      <td>2010\"</td>\n",
       "    </tr>\n",
       "    <tr>\n",
       "      <th>NaN</th>\n",
       "      <td>\"chw</td>\n",
       "      <td>12</td>\n",
       "      <td>\"\"Sat</td>\n",
       "      <td>Apr 3\"\"</td>\n",
       "      <td>300403115.0</td>\n",
       "      <td>atl</td>\n",
       "      <td>4</td>\n",
       "      <td>Preseason</td>\n",
       "      <td>2010\"</td>\n",
       "    </tr>\n",
       "    <tr>\n",
       "      <th>NaN</th>\n",
       "      <td>\"chw</td>\n",
       "      <td>7</td>\n",
       "      <td>\"\"Fri</td>\n",
       "      <td>Aug 30\"\"</td>\n",
       "      <td>401076755.0</td>\n",
       "      <td>atl</td>\n",
       "      <td>10</td>\n",
       "      <td>Regular Season</td>\n",
       "      <td>2019\"</td>\n",
       "    </tr>\n",
       "    <tr>\n",
       "      <th>NaN</th>\n",
       "      <td>\"chw</td>\n",
       "      <td>5</td>\n",
       "      <td>\"\"Sat</td>\n",
       "      <td>Aug 31\"\"</td>\n",
       "      <td>401076759.0</td>\n",
       "      <td>atl</td>\n",
       "      <td>11</td>\n",
       "      <td>Regular Season</td>\n",
       "      <td>2019\"</td>\n",
       "    </tr>\n",
       "    <tr>\n",
       "      <th>NaN</th>\n",
       "      <td>\"chw</td>\n",
       "      <td>3</td>\n",
       "      <td>\"\"Sun</td>\n",
       "      <td>Sep 1\"\"</td>\n",
       "      <td>401076786.0</td>\n",
       "      <td>atl</td>\n",
       "      <td>5</td>\n",
       "      <td>Regular Season</td>\n",
       "      <td>2019\"</td>\n",
       "    </tr>\n",
       "  </tbody>\n",
       "</table>\n",
       "</div>"
      ],
      "text/plain": [
       "    \"away_team away_team_score   date    game_id    home_team home_team_score  \\\n",
       "NaN       \"chw               7  \"\"Fri    Apr 2\"\"  300402115.0             atl   \n",
       "NaN       \"chw              12  \"\"Sat    Apr 3\"\"  300403115.0             atl   \n",
       "NaN       \"chw               7  \"\"Fri   Aug 30\"\"  401076755.0             atl   \n",
       "NaN       \"chw               5  \"\"Sat   Aug 31\"\"  401076759.0             atl   \n",
       "NaN       \"chw               3  \"\"Sun    Sep 1\"\"  401076786.0             atl   \n",
       "\n",
       "    note          season  year\"  \n",
       "NaN    2       Preseason  2010\"  \n",
       "NaN    4       Preseason  2010\"  \n",
       "NaN   10  Regular Season  2019\"  \n",
       "NaN   11  Regular Season  2019\"  \n",
       "NaN    5  Regular Season  2019\"  "
      ]
     },
     "execution_count": 4,
     "metadata": {},
     "output_type": "execute_result"
    }
   ],
   "source": [
    "mlb_games_df1=mlb_games_df.loc[(mlb_games_df[\"home_team_score\"]==\"atl\")]\n",
    "mlb_games_df1.head()"
   ]
  },
  {
   "cell_type": "code",
   "execution_count": 5,
   "metadata": {},
   "outputs": [
    {
     "data": {
      "text/html": [
       "<div>\n",
       "<style scoped>\n",
       "    .dataframe tbody tr th:only-of-type {\n",
       "        vertical-align: middle;\n",
       "    }\n",
       "\n",
       "    .dataframe tbody tr th {\n",
       "        vertical-align: top;\n",
       "    }\n",
       "\n",
       "    .dataframe thead th {\n",
       "        text-align: right;\n",
       "    }\n",
       "</style>\n",
       "<table border=\"1\" class=\"dataframe\">\n",
       "  <thead>\n",
       "    <tr style=\"text-align: right;\">\n",
       "      <th></th>\n",
       "      <th>\"away_team</th>\n",
       "      <th>away_team_score</th>\n",
       "      <th>date</th>\n",
       "      <th>game_id</th>\n",
       "      <th>home_team</th>\n",
       "      <th>home_team_score</th>\n",
       "      <th>note</th>\n",
       "      <th>season</th>\n",
       "      <th>year\"</th>\n",
       "    </tr>\n",
       "  </thead>\n",
       "  <tbody>\n",
       "    <tr>\n",
       "      <th>NaN</th>\n",
       "      <td>\"cle</td>\n",
       "      <td>8</td>\n",
       "      <td>Mon 7pm</td>\n",
       "      <td>Jun 27\"\"</td>\n",
       "      <td>360627115.0</td>\n",
       "      <td>atl</td>\n",
       "      <td>3</td>\n",
       "      <td>Regular Season</td>\n",
       "      <td>2016\"</td>\n",
       "    </tr>\n",
       "    <tr>\n",
       "      <th>NaN</th>\n",
       "      <td>\"det</td>\n",
       "      <td>3</td>\n",
       "      <td>Mon 7pm</td>\n",
       "      <td>Mar 27\"\"</td>\n",
       "      <td>370327115.0</td>\n",
       "      <td>atl</td>\n",
       "      <td>11</td>\n",
       "      <td>Preseason</td>\n",
       "      <td>2017\"</td>\n",
       "    </tr>\n",
       "    <tr>\n",
       "      <th>NaN</th>\n",
       "      <td>\"min</td>\n",
       "      <td>1</td>\n",
       "      <td>Mon 7pm</td>\n",
       "      <td>May 20\"\"</td>\n",
       "      <td>330520115.0</td>\n",
       "      <td>atl</td>\n",
       "      <td>5</td>\n",
       "      <td>Regular Season</td>\n",
       "      <td>2013\"</td>\n",
       "    </tr>\n",
       "    <tr>\n",
       "      <th>NaN</th>\n",
       "      <td>\"bos</td>\n",
       "      <td>8</td>\n",
       "      <td>Mon 7pm</td>\n",
       "      <td>May 26\"\"</td>\n",
       "      <td>340526115.0</td>\n",
       "      <td>atl</td>\n",
       "      <td>6</td>\n",
       "      <td>Regular Season</td>\n",
       "      <td>2014\"</td>\n",
       "    </tr>\n",
       "    <tr>\n",
       "      <th>NaN</th>\n",
       "      <td>\"bos</td>\n",
       "      <td>1</td>\n",
       "      <td>Mon 7pm</td>\n",
       "      <td>Apr 25\"\"</td>\n",
       "      <td>360425115.0</td>\n",
       "      <td>atl</td>\n",
       "      <td>0</td>\n",
       "      <td>Regular Season</td>\n",
       "      <td>2016\"</td>\n",
       "    </tr>\n",
       "    <tr>\n",
       "      <th>...</th>\n",
       "      <td>...</td>\n",
       "      <td>...</td>\n",
       "      <td>...</td>\n",
       "      <td>...</td>\n",
       "      <td>...</td>\n",
       "      <td>...</td>\n",
       "      <td>...</td>\n",
       "      <td>...</td>\n",
       "      <td>...</td>\n",
       "    </tr>\n",
       "    <tr>\n",
       "      <th>NaN</th>\n",
       "      <td>\"mia</td>\n",
       "      <td>5</td>\n",
       "      <td>Mon 7pm</td>\n",
       "      <td>Sep 7\"\"</td>\n",
       "      <td>401226292.0</td>\n",
       "      <td>atl</td>\n",
       "      <td>4 F/10</td>\n",
       "      <td>Regular Season</td>\n",
       "      <td>2020\"</td>\n",
       "    </tr>\n",
       "    <tr>\n",
       "      <th>NaN</th>\n",
       "      <td>\"mia</td>\n",
       "      <td>4</td>\n",
       "      <td>Mon 7pm</td>\n",
       "      <td>Sep 21\"\"</td>\n",
       "      <td>401226476.0</td>\n",
       "      <td>atl</td>\n",
       "      <td>5</td>\n",
       "      <td>Regular Season</td>\n",
       "      <td>2020\"</td>\n",
       "    </tr>\n",
       "    <tr>\n",
       "      <th>NaN</th>\n",
       "      <td>\"lad</td>\n",
       "      <td>1</td>\n",
       "      <td>Mon 7pm</td>\n",
       "      <td>Oct 12\"\"</td>\n",
       "      <td>401246380.0</td>\n",
       "      <td>atl</td>\n",
       "      <td>5</td>\n",
       "      <td>League Championship Series</td>\n",
       "      <td>2020\"</td>\n",
       "    </tr>\n",
       "    <tr>\n",
       "      <th>NaN</th>\n",
       "      <td>\"mia</td>\n",
       "      <td>1 F/11</td>\n",
       "      <td>Mon 7pm</td>\n",
       "      <td>Sep 27\"\"</td>\n",
       "      <td>300927115.0</td>\n",
       "      <td>atl</td>\n",
       "      <td>2</td>\n",
       "      <td>Regular Season</td>\n",
       "      <td>2010\"</td>\n",
       "    </tr>\n",
       "    <tr>\n",
       "      <th>NaN</th>\n",
       "      <td>\"mia</td>\n",
       "      <td>5</td>\n",
       "      <td>Mon 7pm</td>\n",
       "      <td>Sep 12\"\"</td>\n",
       "      <td>310912115.0</td>\n",
       "      <td>atl</td>\n",
       "      <td>4 F/12</td>\n",
       "      <td>Regular Season</td>\n",
       "      <td>2011\"</td>\n",
       "    </tr>\n",
       "  </tbody>\n",
       "</table>\n",
       "<p>122 rows × 9 columns</p>\n",
       "</div>"
      ],
      "text/plain": [
       "    \"away_team away_team_score     date    game_id    home_team  \\\n",
       "NaN       \"cle               8  Mon 7pm   Jun 27\"\"  360627115.0   \n",
       "NaN       \"det               3  Mon 7pm   Mar 27\"\"  370327115.0   \n",
       "NaN       \"min               1  Mon 7pm   May 20\"\"  330520115.0   \n",
       "NaN       \"bos               8  Mon 7pm   May 26\"\"  340526115.0   \n",
       "NaN       \"bos               1  Mon 7pm   Apr 25\"\"  360425115.0   \n",
       "..         ...             ...      ...        ...          ...   \n",
       "NaN       \"mia               5  Mon 7pm    Sep 7\"\"  401226292.0   \n",
       "NaN       \"mia               4  Mon 7pm   Sep 21\"\"  401226476.0   \n",
       "NaN       \"lad               1  Mon 7pm   Oct 12\"\"  401246380.0   \n",
       "NaN       \"mia          1 F/11  Mon 7pm   Sep 27\"\"  300927115.0   \n",
       "NaN       \"mia               5  Mon 7pm   Sep 12\"\"  310912115.0   \n",
       "\n",
       "    home_team_score    note                      season  year\"  \n",
       "NaN             atl       3              Regular Season  2016\"  \n",
       "NaN             atl      11                   Preseason  2017\"  \n",
       "NaN             atl       5              Regular Season  2013\"  \n",
       "NaN             atl       6              Regular Season  2014\"  \n",
       "NaN             atl       0              Regular Season  2016\"  \n",
       "..              ...     ...                         ...    ...  \n",
       "NaN             atl  4 F/10              Regular Season  2020\"  \n",
       "NaN             atl       5              Regular Season  2020\"  \n",
       "NaN             atl       5  League Championship Series  2020\"  \n",
       "NaN             atl       2              Regular Season  2010\"  \n",
       "NaN             atl  4 F/12              Regular Season  2011\"  \n",
       "\n",
       "[122 rows x 9 columns]"
      ]
     },
     "execution_count": 5,
     "metadata": {},
     "output_type": "execute_result"
    }
   ],
   "source": [
    "mlb_games_df2=mlb_games_df1.loc[(mlb_games_df1[\"date\"]=='\"\"Mon')].replace('\"\"Mon', 'Mon 7pm')\n",
    "mlb_games_df2"
   ]
  },
  {
   "cell_type": "code",
   "execution_count": 6,
   "metadata": {},
   "outputs": [
    {
     "data": {
      "text/html": [
       "<div>\n",
       "<style scoped>\n",
       "    .dataframe tbody tr th:only-of-type {\n",
       "        vertical-align: middle;\n",
       "    }\n",
       "\n",
       "    .dataframe tbody tr th {\n",
       "        vertical-align: top;\n",
       "    }\n",
       "\n",
       "    .dataframe thead th {\n",
       "        text-align: right;\n",
       "    }\n",
       "</style>\n",
       "<table border=\"1\" class=\"dataframe\">\n",
       "  <thead>\n",
       "    <tr style=\"text-align: right;\">\n",
       "      <th></th>\n",
       "      <th>\"away_team</th>\n",
       "      <th>away_team_score</th>\n",
       "      <th>date</th>\n",
       "      <th>game_id</th>\n",
       "      <th>home_team</th>\n",
       "      <th>home_team_score</th>\n",
       "      <th>note</th>\n",
       "      <th>season</th>\n",
       "      <th>year\"</th>\n",
       "    </tr>\n",
       "  </thead>\n",
       "  <tbody>\n",
       "    <tr>\n",
       "      <th>NaN</th>\n",
       "      <td>\"cle</td>\n",
       "      <td>0</td>\n",
       "      <td>Tue 7pm</td>\n",
       "      <td>Aug 27\"\"</td>\n",
       "      <td>330827115.0</td>\n",
       "      <td>atl</td>\n",
       "      <td>2</td>\n",
       "      <td>Regular Season</td>\n",
       "      <td>2013\"</td>\n",
       "    </tr>\n",
       "    <tr>\n",
       "      <th>NaN</th>\n",
       "      <td>\"cle</td>\n",
       "      <td>5</td>\n",
       "      <td>Tue 7pm</td>\n",
       "      <td>Jun 28\"\"</td>\n",
       "      <td>360628115.0</td>\n",
       "      <td>atl</td>\n",
       "      <td>3</td>\n",
       "      <td>Regular Season</td>\n",
       "      <td>2016\"</td>\n",
       "    </tr>\n",
       "    <tr>\n",
       "      <th>NaN</th>\n",
       "      <td>\"kc</td>\n",
       "      <td>3</td>\n",
       "      <td>Tue 7pm</td>\n",
       "      <td>Apr 16\"\"</td>\n",
       "      <td>330416115.0</td>\n",
       "      <td>atl</td>\n",
       "      <td>6</td>\n",
       "      <td>Regular Season</td>\n",
       "      <td>2013\"</td>\n",
       "    </tr>\n",
       "    <tr>\n",
       "      <th>NaN</th>\n",
       "      <td>\"kc</td>\n",
       "      <td>5</td>\n",
       "      <td>Tue 7pm</td>\n",
       "      <td>Jul 23\"\"</td>\n",
       "      <td>401076254.0</td>\n",
       "      <td>atl</td>\n",
       "      <td>4</td>\n",
       "      <td>Regular Season</td>\n",
       "      <td>2019\"</td>\n",
       "    </tr>\n",
       "    <tr>\n",
       "      <th>NaN</th>\n",
       "      <td>\"min</td>\n",
       "      <td>2 F/10</td>\n",
       "      <td>Tue 7pm</td>\n",
       "      <td>Mar 29\"\"</td>\n",
       "      <td>310329115.0</td>\n",
       "      <td>atl</td>\n",
       "      <td>4</td>\n",
       "      <td>Preseason</td>\n",
       "      <td>2011\"</td>\n",
       "    </tr>\n",
       "    <tr>\n",
       "      <th>...</th>\n",
       "      <td>...</td>\n",
       "      <td>...</td>\n",
       "      <td>...</td>\n",
       "      <td>...</td>\n",
       "      <td>...</td>\n",
       "      <td>...</td>\n",
       "      <td>...</td>\n",
       "      <td>...</td>\n",
       "      <td>...</td>\n",
       "    </tr>\n",
       "    <tr>\n",
       "      <th>NaN</th>\n",
       "      <td>\"lad</td>\n",
       "      <td>7</td>\n",
       "      <td>Tue 7pm</td>\n",
       "      <td>Oct 13\"\"</td>\n",
       "      <td>401246381.0</td>\n",
       "      <td>atl</td>\n",
       "      <td>8</td>\n",
       "      <td>League Championship Series</td>\n",
       "      <td>2020\"</td>\n",
       "    </tr>\n",
       "    <tr>\n",
       "      <th>NaN</th>\n",
       "      <td>\"mia</td>\n",
       "      <td>3</td>\n",
       "      <td>Tue 7pm</td>\n",
       "      <td>Mar 16\"\"</td>\n",
       "      <td>300316115.0</td>\n",
       "      <td>atl</td>\n",
       "      <td>6</td>\n",
       "      <td>Preseason</td>\n",
       "      <td>2010\"</td>\n",
       "    </tr>\n",
       "    <tr>\n",
       "      <th>NaN</th>\n",
       "      <td>\"mia</td>\n",
       "      <td>2</td>\n",
       "      <td>Tue 7pm</td>\n",
       "      <td>Sep 28\"\"</td>\n",
       "      <td>300928115.0</td>\n",
       "      <td>atl</td>\n",
       "      <td>3</td>\n",
       "      <td>Regular Season</td>\n",
       "      <td>2010\"</td>\n",
       "    </tr>\n",
       "    <tr>\n",
       "      <th>NaN</th>\n",
       "      <td>\"mia</td>\n",
       "      <td>0</td>\n",
       "      <td>Tue 7pm</td>\n",
       "      <td>Apr 12\"\"</td>\n",
       "      <td>310412115.0</td>\n",
       "      <td>atl</td>\n",
       "      <td>5</td>\n",
       "      <td>Regular Season</td>\n",
       "      <td>2011\"</td>\n",
       "    </tr>\n",
       "    <tr>\n",
       "      <th>NaN</th>\n",
       "      <td>\"mia</td>\n",
       "      <td>1</td>\n",
       "      <td>Tue 7pm</td>\n",
       "      <td>Sep 13\"\"</td>\n",
       "      <td>310913115.0</td>\n",
       "      <td>atl</td>\n",
       "      <td>7</td>\n",
       "      <td>Regular Season</td>\n",
       "      <td>2011\"</td>\n",
       "    </tr>\n",
       "  </tbody>\n",
       "</table>\n",
       "<p>166 rows × 9 columns</p>\n",
       "</div>"
      ],
      "text/plain": [
       "    \"away_team away_team_score     date    game_id    home_team  \\\n",
       "NaN       \"cle               0  Tue 7pm   Aug 27\"\"  330827115.0   \n",
       "NaN       \"cle               5  Tue 7pm   Jun 28\"\"  360628115.0   \n",
       "NaN        \"kc               3  Tue 7pm   Apr 16\"\"  330416115.0   \n",
       "NaN        \"kc               5  Tue 7pm   Jul 23\"\"  401076254.0   \n",
       "NaN       \"min          2 F/10  Tue 7pm   Mar 29\"\"  310329115.0   \n",
       "..         ...             ...      ...        ...          ...   \n",
       "NaN       \"lad               7  Tue 7pm   Oct 13\"\"  401246381.0   \n",
       "NaN       \"mia               3  Tue 7pm   Mar 16\"\"  300316115.0   \n",
       "NaN       \"mia               2  Tue 7pm   Sep 28\"\"  300928115.0   \n",
       "NaN       \"mia               0  Tue 7pm   Apr 12\"\"  310412115.0   \n",
       "NaN       \"mia               1  Tue 7pm   Sep 13\"\"  310913115.0   \n",
       "\n",
       "    home_team_score note                      season  year\"  \n",
       "NaN             atl    2              Regular Season  2013\"  \n",
       "NaN             atl    3              Regular Season  2016\"  \n",
       "NaN             atl    6              Regular Season  2013\"  \n",
       "NaN             atl    4              Regular Season  2019\"  \n",
       "NaN             atl    4                   Preseason  2011\"  \n",
       "..              ...  ...                         ...    ...  \n",
       "NaN             atl    8  League Championship Series  2020\"  \n",
       "NaN             atl    6                   Preseason  2010\"  \n",
       "NaN             atl    3              Regular Season  2010\"  \n",
       "NaN             atl    5              Regular Season  2011\"  \n",
       "NaN             atl    7              Regular Season  2011\"  \n",
       "\n",
       "[166 rows x 9 columns]"
      ]
     },
     "execution_count": 6,
     "metadata": {},
     "output_type": "execute_result"
    }
   ],
   "source": [
    "mlb_games_df3=mlb_games_df1.loc[(mlb_games_df1[\"date\"]=='\"\"Tue')].replace('\"\"Tue', 'Tue 7pm')\n",
    "mlb_games_df3"
   ]
  },
  {
   "cell_type": "code",
   "execution_count": 7,
   "metadata": {},
   "outputs": [
    {
     "data": {
      "text/html": [
       "<div>\n",
       "<style scoped>\n",
       "    .dataframe tbody tr th:only-of-type {\n",
       "        vertical-align: middle;\n",
       "    }\n",
       "\n",
       "    .dataframe tbody tr th {\n",
       "        vertical-align: top;\n",
       "    }\n",
       "\n",
       "    .dataframe thead th {\n",
       "        text-align: right;\n",
       "    }\n",
       "</style>\n",
       "<table border=\"1\" class=\"dataframe\">\n",
       "  <thead>\n",
       "    <tr style=\"text-align: right;\">\n",
       "      <th></th>\n",
       "      <th>\"away_team</th>\n",
       "      <th>away_team_score</th>\n",
       "      <th>date</th>\n",
       "      <th>game_id</th>\n",
       "      <th>home_team</th>\n",
       "      <th>home_team_score</th>\n",
       "      <th>note</th>\n",
       "      <th>season</th>\n",
       "      <th>year\"</th>\n",
       "    </tr>\n",
       "  </thead>\n",
       "  <tbody>\n",
       "    <tr>\n",
       "      <th>NaN</th>\n",
       "      <td>\"cle</td>\n",
       "      <td>2</td>\n",
       "      <td>Wed 7pm</td>\n",
       "      <td>Aug 28\"\"</td>\n",
       "      <td>330828115.0</td>\n",
       "      <td>atl</td>\n",
       "      <td>3</td>\n",
       "      <td>Regular Season</td>\n",
       "      <td>2013\"</td>\n",
       "    </tr>\n",
       "    <tr>\n",
       "      <th>NaN</th>\n",
       "      <td>\"cle</td>\n",
       "      <td>3</td>\n",
       "      <td>Wed 7pm</td>\n",
       "      <td>Jun 29\"\"</td>\n",
       "      <td>360629115.0</td>\n",
       "      <td>atl</td>\n",
       "      <td>0</td>\n",
       "      <td>Regular Season</td>\n",
       "      <td>2016\"</td>\n",
       "    </tr>\n",
       "    <tr>\n",
       "      <th>NaN</th>\n",
       "      <td>\"det</td>\n",
       "      <td>6</td>\n",
       "      <td>Wed 7pm</td>\n",
       "      <td>Feb 26\"\"</td>\n",
       "      <td>340226115.0</td>\n",
       "      <td>atl</td>\n",
       "      <td>5</td>\n",
       "      <td>Preseason</td>\n",
       "      <td>2014\"</td>\n",
       "    </tr>\n",
       "    <tr>\n",
       "      <th>NaN</th>\n",
       "      <td>\"det</td>\n",
       "      <td>2</td>\n",
       "      <td>Wed 7pm</td>\n",
       "      <td>Mar 21\"\"</td>\n",
       "      <td>380321115.0</td>\n",
       "      <td>atl</td>\n",
       "      <td>3</td>\n",
       "      <td>Preseason</td>\n",
       "      <td>2018\"</td>\n",
       "    </tr>\n",
       "    <tr>\n",
       "      <th>NaN</th>\n",
       "      <td>\"det</td>\n",
       "      <td>2</td>\n",
       "      <td>Wed 7pm</td>\n",
       "      <td>Mar 6\"\"</td>\n",
       "      <td>401079162.0</td>\n",
       "      <td>atl</td>\n",
       "      <td>8</td>\n",
       "      <td>Preseason</td>\n",
       "      <td>2019\"</td>\n",
       "    </tr>\n",
       "    <tr>\n",
       "      <th>...</th>\n",
       "      <td>...</td>\n",
       "      <td>...</td>\n",
       "      <td>...</td>\n",
       "      <td>...</td>\n",
       "      <td>...</td>\n",
       "      <td>...</td>\n",
       "      <td>...</td>\n",
       "      <td>...</td>\n",
       "      <td>...</td>\n",
       "    </tr>\n",
       "    <tr>\n",
       "      <th>NaN</th>\n",
       "      <td>\"lad</td>\n",
       "      <td>15</td>\n",
       "      <td>Wed 7pm</td>\n",
       "      <td>Oct 14\"\"</td>\n",
       "      <td>401246382.0</td>\n",
       "      <td>atl</td>\n",
       "      <td>3</td>\n",
       "      <td>League Championship Series</td>\n",
       "      <td>2020\"</td>\n",
       "    </tr>\n",
       "    <tr>\n",
       "      <th>NaN</th>\n",
       "      <td>\"mia</td>\n",
       "      <td>1</td>\n",
       "      <td>Wed 7pm</td>\n",
       "      <td>Sep 29\"\"</td>\n",
       "      <td>300929115.0</td>\n",
       "      <td>atl</td>\n",
       "      <td>5</td>\n",
       "      <td>Regular Season</td>\n",
       "      <td>2010\"</td>\n",
       "    </tr>\n",
       "    <tr>\n",
       "      <th>NaN</th>\n",
       "      <td>\"mia</td>\n",
       "      <td>4</td>\n",
       "      <td>Wed 7pm</td>\n",
       "      <td>Mar 23\"\"</td>\n",
       "      <td>310323115.0</td>\n",
       "      <td>atl</td>\n",
       "      <td>4 F/11</td>\n",
       "      <td>Preseason</td>\n",
       "      <td>2011\"</td>\n",
       "    </tr>\n",
       "    <tr>\n",
       "      <th>NaN</th>\n",
       "      <td>\"mia</td>\n",
       "      <td>5</td>\n",
       "      <td>Wed 7pm</td>\n",
       "      <td>Apr 13\"\"</td>\n",
       "      <td>310413115.0</td>\n",
       "      <td>atl</td>\n",
       "      <td>1</td>\n",
       "      <td>Regular Season</td>\n",
       "      <td>2011\"</td>\n",
       "    </tr>\n",
       "    <tr>\n",
       "      <th>NaN</th>\n",
       "      <td>\"mia</td>\n",
       "      <td>1</td>\n",
       "      <td>Wed 7pm</td>\n",
       "      <td>Sep 14\"\"</td>\n",
       "      <td>310914115.0</td>\n",
       "      <td>atl</td>\n",
       "      <td>4</td>\n",
       "      <td>Regular Season</td>\n",
       "      <td>2011\"</td>\n",
       "    </tr>\n",
       "  </tbody>\n",
       "</table>\n",
       "<p>173 rows × 9 columns</p>\n",
       "</div>"
      ],
      "text/plain": [
       "    \"away_team away_team_score     date    game_id    home_team  \\\n",
       "NaN       \"cle               2  Wed 7pm   Aug 28\"\"  330828115.0   \n",
       "NaN       \"cle               3  Wed 7pm   Jun 29\"\"  360629115.0   \n",
       "NaN       \"det               6  Wed 7pm   Feb 26\"\"  340226115.0   \n",
       "NaN       \"det               2  Wed 7pm   Mar 21\"\"  380321115.0   \n",
       "NaN       \"det               2  Wed 7pm    Mar 6\"\"  401079162.0   \n",
       "..         ...             ...      ...        ...          ...   \n",
       "NaN       \"lad              15  Wed 7pm   Oct 14\"\"  401246382.0   \n",
       "NaN       \"mia               1  Wed 7pm   Sep 29\"\"  300929115.0   \n",
       "NaN       \"mia               4  Wed 7pm   Mar 23\"\"  310323115.0   \n",
       "NaN       \"mia               5  Wed 7pm   Apr 13\"\"  310413115.0   \n",
       "NaN       \"mia               1  Wed 7pm   Sep 14\"\"  310914115.0   \n",
       "\n",
       "    home_team_score    note                      season  year\"  \n",
       "NaN             atl       3              Regular Season  2013\"  \n",
       "NaN             atl       0              Regular Season  2016\"  \n",
       "NaN             atl       5                   Preseason  2014\"  \n",
       "NaN             atl       3                   Preseason  2018\"  \n",
       "NaN             atl       8                   Preseason  2019\"  \n",
       "..              ...     ...                         ...    ...  \n",
       "NaN             atl       3  League Championship Series  2020\"  \n",
       "NaN             atl       5              Regular Season  2010\"  \n",
       "NaN             atl  4 F/11                   Preseason  2011\"  \n",
       "NaN             atl       1              Regular Season  2011\"  \n",
       "NaN             atl       4              Regular Season  2011\"  \n",
       "\n",
       "[173 rows x 9 columns]"
      ]
     },
     "execution_count": 7,
     "metadata": {},
     "output_type": "execute_result"
    }
   ],
   "source": [
    "mlb_games_df4=mlb_games_df1.loc[(mlb_games_df1[\"date\"]=='\"\"Wed')].replace('\"\"Wed', 'Wed 7pm')\n",
    "mlb_games_df4"
   ]
  },
  {
   "cell_type": "code",
   "execution_count": 8,
   "metadata": {},
   "outputs": [
    {
     "data": {
      "text/html": [
       "<div>\n",
       "<style scoped>\n",
       "    .dataframe tbody tr th:only-of-type {\n",
       "        vertical-align: middle;\n",
       "    }\n",
       "\n",
       "    .dataframe tbody tr th {\n",
       "        vertical-align: top;\n",
       "    }\n",
       "\n",
       "    .dataframe thead th {\n",
       "        text-align: right;\n",
       "    }\n",
       "</style>\n",
       "<table border=\"1\" class=\"dataframe\">\n",
       "  <thead>\n",
       "    <tr style=\"text-align: right;\">\n",
       "      <th></th>\n",
       "      <th>\"away_team</th>\n",
       "      <th>away_team_score</th>\n",
       "      <th>date</th>\n",
       "      <th>game_id</th>\n",
       "      <th>home_team</th>\n",
       "      <th>home_team_score</th>\n",
       "      <th>note</th>\n",
       "      <th>season</th>\n",
       "      <th>year\"</th>\n",
       "    </tr>\n",
       "  </thead>\n",
       "  <tbody>\n",
       "    <tr>\n",
       "      <th>NaN</th>\n",
       "      <td>\"cle</td>\n",
       "      <td>1</td>\n",
       "      <td>Thu 7pm</td>\n",
       "      <td>Aug 29\"\"</td>\n",
       "      <td>330829115.0</td>\n",
       "      <td>atl</td>\n",
       "      <td>3</td>\n",
       "      <td>Regular Season</td>\n",
       "      <td>2013\"</td>\n",
       "    </tr>\n",
       "    <tr>\n",
       "      <th>NaN</th>\n",
       "      <td>\"det</td>\n",
       "      <td>3</td>\n",
       "      <td>Thu 7pm</td>\n",
       "      <td>Mar 3\"\"</td>\n",
       "      <td>310303115.0</td>\n",
       "      <td>atl</td>\n",
       "      <td>4</td>\n",
       "      <td>Preseason</td>\n",
       "      <td>2011\"</td>\n",
       "    </tr>\n",
       "    <tr>\n",
       "      <th>NaN</th>\n",
       "      <td>\"det</td>\n",
       "      <td>9</td>\n",
       "      <td>Thu 7pm</td>\n",
       "      <td>Mar 7\"\"</td>\n",
       "      <td>330307115.0</td>\n",
       "      <td>atl</td>\n",
       "      <td>2</td>\n",
       "      <td>Preseason</td>\n",
       "      <td>2013\"</td>\n",
       "    </tr>\n",
       "    <tr>\n",
       "      <th>NaN</th>\n",
       "      <td>\"det</td>\n",
       "      <td>8</td>\n",
       "      <td>Thu 7pm</td>\n",
       "      <td>Mar 3\"\"</td>\n",
       "      <td>360303115.0</td>\n",
       "      <td>atl</td>\n",
       "      <td>2</td>\n",
       "      <td>Preseason</td>\n",
       "      <td>2016\"</td>\n",
       "    </tr>\n",
       "    <tr>\n",
       "      <th>NaN</th>\n",
       "      <td>\"det</td>\n",
       "      <td>5</td>\n",
       "      <td>Thu 7pm</td>\n",
       "      <td>Mar 16\"\"</td>\n",
       "      <td>370316115.0</td>\n",
       "      <td>atl</td>\n",
       "      <td>3</td>\n",
       "      <td>Preseason</td>\n",
       "      <td>2017\"</td>\n",
       "    </tr>\n",
       "    <tr>\n",
       "      <th>...</th>\n",
       "      <td>...</td>\n",
       "      <td>...</td>\n",
       "      <td>...</td>\n",
       "      <td>...</td>\n",
       "      <td>...</td>\n",
       "      <td>...</td>\n",
       "      <td>...</td>\n",
       "      <td>...</td>\n",
       "      <td>...</td>\n",
       "    </tr>\n",
       "    <tr>\n",
       "      <th>NaN</th>\n",
       "      <td>\"phi</td>\n",
       "      <td>4</td>\n",
       "      <td>Thu 7pm</td>\n",
       "      <td>Sep 19\"\"</td>\n",
       "      <td>401077022.0</td>\n",
       "      <td>atl</td>\n",
       "      <td>5</td>\n",
       "      <td>Regular Season</td>\n",
       "      <td>2019\"</td>\n",
       "    </tr>\n",
       "    <tr>\n",
       "      <th>NaN</th>\n",
       "      <td>\"mia</td>\n",
       "      <td>4</td>\n",
       "      <td>Thu 7pm</td>\n",
       "      <td>Sep 24\"\"</td>\n",
       "      <td>401226517.0</td>\n",
       "      <td>atl</td>\n",
       "      <td>2</td>\n",
       "      <td>Regular Season</td>\n",
       "      <td>2020\"</td>\n",
       "    </tr>\n",
       "    <tr>\n",
       "      <th>NaN</th>\n",
       "      <td>\"lad</td>\n",
       "      <td>2</td>\n",
       "      <td>Thu 7pm</td>\n",
       "      <td>Oct 15\"\"</td>\n",
       "      <td>401246383.0</td>\n",
       "      <td>atl</td>\n",
       "      <td>10</td>\n",
       "      <td>League Championship Series</td>\n",
       "      <td>2020\"</td>\n",
       "    </tr>\n",
       "    <tr>\n",
       "      <th>NaN</th>\n",
       "      <td>\"mia</td>\n",
       "      <td>6</td>\n",
       "      <td>Thu 7pm</td>\n",
       "      <td>Apr 14\"\"</td>\n",
       "      <td>310414115.0</td>\n",
       "      <td>atl</td>\n",
       "      <td>5</td>\n",
       "      <td>Regular Season</td>\n",
       "      <td>2011\"</td>\n",
       "    </tr>\n",
       "    <tr>\n",
       "      <th>NaN</th>\n",
       "      <td>\"mia</td>\n",
       "      <td>5</td>\n",
       "      <td>Thu 7pm</td>\n",
       "      <td>Mar 22\"\"</td>\n",
       "      <td>320322115.0</td>\n",
       "      <td>atl</td>\n",
       "      <td>5 F/10</td>\n",
       "      <td>Preseason</td>\n",
       "      <td>2012\"</td>\n",
       "    </tr>\n",
       "  </tbody>\n",
       "</table>\n",
       "<p>125 rows × 9 columns</p>\n",
       "</div>"
      ],
      "text/plain": [
       "    \"away_team away_team_score     date    game_id    home_team  \\\n",
       "NaN       \"cle               1  Thu 7pm   Aug 29\"\"  330829115.0   \n",
       "NaN       \"det               3  Thu 7pm    Mar 3\"\"  310303115.0   \n",
       "NaN       \"det               9  Thu 7pm    Mar 7\"\"  330307115.0   \n",
       "NaN       \"det               8  Thu 7pm    Mar 3\"\"  360303115.0   \n",
       "NaN       \"det               5  Thu 7pm   Mar 16\"\"  370316115.0   \n",
       "..         ...             ...      ...        ...          ...   \n",
       "NaN       \"phi               4  Thu 7pm   Sep 19\"\"  401077022.0   \n",
       "NaN       \"mia               4  Thu 7pm   Sep 24\"\"  401226517.0   \n",
       "NaN       \"lad               2  Thu 7pm   Oct 15\"\"  401246383.0   \n",
       "NaN       \"mia               6  Thu 7pm   Apr 14\"\"  310414115.0   \n",
       "NaN       \"mia               5  Thu 7pm   Mar 22\"\"  320322115.0   \n",
       "\n",
       "    home_team_score    note                      season  year\"  \n",
       "NaN             atl       3              Regular Season  2013\"  \n",
       "NaN             atl       4                   Preseason  2011\"  \n",
       "NaN             atl       2                   Preseason  2013\"  \n",
       "NaN             atl       2                   Preseason  2016\"  \n",
       "NaN             atl       3                   Preseason  2017\"  \n",
       "..              ...     ...                         ...    ...  \n",
       "NaN             atl       5              Regular Season  2019\"  \n",
       "NaN             atl       2              Regular Season  2020\"  \n",
       "NaN             atl      10  League Championship Series  2020\"  \n",
       "NaN             atl       5              Regular Season  2011\"  \n",
       "NaN             atl  5 F/10                   Preseason  2012\"  \n",
       "\n",
       "[125 rows x 9 columns]"
      ]
     },
     "execution_count": 8,
     "metadata": {},
     "output_type": "execute_result"
    }
   ],
   "source": [
    "mlb_games_df5=mlb_games_df1.loc[(mlb_games_df1[\"date\"]=='\"\"Thu')].replace('\"\"Thu', 'Thu 7pm')\n",
    "mlb_games_df5"
   ]
  },
  {
   "cell_type": "code",
   "execution_count": 9,
   "metadata": {},
   "outputs": [
    {
     "data": {
      "text/html": [
       "<div>\n",
       "<style scoped>\n",
       "    .dataframe tbody tr th:only-of-type {\n",
       "        vertical-align: middle;\n",
       "    }\n",
       "\n",
       "    .dataframe tbody tr th {\n",
       "        vertical-align: top;\n",
       "    }\n",
       "\n",
       "    .dataframe thead th {\n",
       "        text-align: right;\n",
       "    }\n",
       "</style>\n",
       "<table border=\"1\" class=\"dataframe\">\n",
       "  <thead>\n",
       "    <tr style=\"text-align: right;\">\n",
       "      <th></th>\n",
       "      <th>\"away_team</th>\n",
       "      <th>away_team_score</th>\n",
       "      <th>date</th>\n",
       "      <th>game_id</th>\n",
       "      <th>home_team</th>\n",
       "      <th>home_team_score</th>\n",
       "      <th>note</th>\n",
       "      <th>season</th>\n",
       "      <th>year\"</th>\n",
       "    </tr>\n",
       "  </thead>\n",
       "  <tbody>\n",
       "    <tr>\n",
       "      <th>NaN</th>\n",
       "      <td>\"chw</td>\n",
       "      <td>7</td>\n",
       "      <td>Fri 7pm</td>\n",
       "      <td>Apr 2\"\"</td>\n",
       "      <td>300402115.0</td>\n",
       "      <td>atl</td>\n",
       "      <td>2</td>\n",
       "      <td>Preseason</td>\n",
       "      <td>2010\"</td>\n",
       "    </tr>\n",
       "    <tr>\n",
       "      <th>NaN</th>\n",
       "      <td>\"chw</td>\n",
       "      <td>7</td>\n",
       "      <td>Fri 7pm</td>\n",
       "      <td>Aug 30\"\"</td>\n",
       "      <td>401076755.0</td>\n",
       "      <td>atl</td>\n",
       "      <td>10</td>\n",
       "      <td>Regular Season</td>\n",
       "      <td>2019\"</td>\n",
       "    </tr>\n",
       "    <tr>\n",
       "      <th>NaN</th>\n",
       "      <td>\"det</td>\n",
       "      <td>4</td>\n",
       "      <td>Fri 7pm</td>\n",
       "      <td>Mar 19\"\"</td>\n",
       "      <td>300319115.0</td>\n",
       "      <td>atl</td>\n",
       "      <td>4 F/10</td>\n",
       "      <td>Preseason</td>\n",
       "      <td>2010\"</td>\n",
       "    </tr>\n",
       "    <tr>\n",
       "      <th>NaN</th>\n",
       "      <td>\"det</td>\n",
       "      <td>3</td>\n",
       "      <td>Fri 7pm</td>\n",
       "      <td>Mar 26\"\"</td>\n",
       "      <td>300326115.0</td>\n",
       "      <td>atl</td>\n",
       "      <td>5</td>\n",
       "      <td>Preseason</td>\n",
       "      <td>2010\"</td>\n",
       "    </tr>\n",
       "    <tr>\n",
       "      <th>NaN</th>\n",
       "      <td>\"det</td>\n",
       "      <td>1</td>\n",
       "      <td>Fri 7pm</td>\n",
       "      <td>Jun 25\"\"</td>\n",
       "      <td>300625115.0</td>\n",
       "      <td>atl</td>\n",
       "      <td>3</td>\n",
       "      <td>Regular Season</td>\n",
       "      <td>2010\"</td>\n",
       "    </tr>\n",
       "    <tr>\n",
       "      <th>...</th>\n",
       "      <td>...</td>\n",
       "      <td>...</td>\n",
       "      <td>...</td>\n",
       "      <td>...</td>\n",
       "      <td>...</td>\n",
       "      <td>...</td>\n",
       "      <td>...</td>\n",
       "      <td>...</td>\n",
       "      <td>...</td>\n",
       "    </tr>\n",
       "    <tr>\n",
       "      <th>NaN</th>\n",
       "      <td>\"wsh</td>\n",
       "      <td>10</td>\n",
       "      <td>Fri 7pm</td>\n",
       "      <td>Sep 4\"\"</td>\n",
       "      <td>401226247.0</td>\n",
       "      <td>atl</td>\n",
       "      <td>9 F/7</td>\n",
       "      <td>Regular Season</td>\n",
       "      <td>2020\"</td>\n",
       "    </tr>\n",
       "    <tr>\n",
       "      <th>NaN</th>\n",
       "      <td>\"lad</td>\n",
       "      <td>7</td>\n",
       "      <td>Fri 7pm</td>\n",
       "      <td>Oct 16\"\"</td>\n",
       "      <td>401246384.0</td>\n",
       "      <td>atl</td>\n",
       "      <td>3</td>\n",
       "      <td>League Championship Series</td>\n",
       "      <td>2020\"</td>\n",
       "    </tr>\n",
       "    <tr>\n",
       "      <th>NaN</th>\n",
       "      <td>\"mia</td>\n",
       "      <td>3 F/11</td>\n",
       "      <td>Fri 7pm</td>\n",
       "      <td>Jul 2\"\"</td>\n",
       "      <td>300702115.0</td>\n",
       "      <td>atl</td>\n",
       "      <td>4</td>\n",
       "      <td>Regular Season</td>\n",
       "      <td>2010\"</td>\n",
       "    </tr>\n",
       "    <tr>\n",
       "      <th>NaN</th>\n",
       "      <td>\"mia</td>\n",
       "      <td>7</td>\n",
       "      <td>Fri 7pm</td>\n",
       "      <td>Aug 27\"\"</td>\n",
       "      <td>300827115.0</td>\n",
       "      <td>atl</td>\n",
       "      <td>1</td>\n",
       "      <td>Regular Season</td>\n",
       "      <td>2010\"</td>\n",
       "    </tr>\n",
       "    <tr>\n",
       "      <th>NaN</th>\n",
       "      <td>\"mia</td>\n",
       "      <td>0</td>\n",
       "      <td>Fri 7pm</td>\n",
       "      <td>Jul 29\"\"</td>\n",
       "      <td>310729115.0</td>\n",
       "      <td>atl</td>\n",
       "      <td>5</td>\n",
       "      <td>Regular Season</td>\n",
       "      <td>2011\"</td>\n",
       "    </tr>\n",
       "  </tbody>\n",
       "</table>\n",
       "<p>183 rows × 9 columns</p>\n",
       "</div>"
      ],
      "text/plain": [
       "    \"away_team away_team_score     date    game_id    home_team  \\\n",
       "NaN       \"chw               7  Fri 7pm    Apr 2\"\"  300402115.0   \n",
       "NaN       \"chw               7  Fri 7pm   Aug 30\"\"  401076755.0   \n",
       "NaN       \"det               4  Fri 7pm   Mar 19\"\"  300319115.0   \n",
       "NaN       \"det               3  Fri 7pm   Mar 26\"\"  300326115.0   \n",
       "NaN       \"det               1  Fri 7pm   Jun 25\"\"  300625115.0   \n",
       "..         ...             ...      ...        ...          ...   \n",
       "NaN       \"wsh              10  Fri 7pm    Sep 4\"\"  401226247.0   \n",
       "NaN       \"lad               7  Fri 7pm   Oct 16\"\"  401246384.0   \n",
       "NaN       \"mia          3 F/11  Fri 7pm    Jul 2\"\"  300702115.0   \n",
       "NaN       \"mia               7  Fri 7pm   Aug 27\"\"  300827115.0   \n",
       "NaN       \"mia               0  Fri 7pm   Jul 29\"\"  310729115.0   \n",
       "\n",
       "    home_team_score    note                      season  year\"  \n",
       "NaN             atl       2                   Preseason  2010\"  \n",
       "NaN             atl      10              Regular Season  2019\"  \n",
       "NaN             atl  4 F/10                   Preseason  2010\"  \n",
       "NaN             atl       5                   Preseason  2010\"  \n",
       "NaN             atl       3              Regular Season  2010\"  \n",
       "..              ...     ...                         ...    ...  \n",
       "NaN             atl   9 F/7              Regular Season  2020\"  \n",
       "NaN             atl       3  League Championship Series  2020\"  \n",
       "NaN             atl       4              Regular Season  2010\"  \n",
       "NaN             atl       1              Regular Season  2010\"  \n",
       "NaN             atl       5              Regular Season  2011\"  \n",
       "\n",
       "[183 rows x 9 columns]"
      ]
     },
     "execution_count": 9,
     "metadata": {},
     "output_type": "execute_result"
    }
   ],
   "source": [
    "mlb_games_df6=mlb_games_df1.loc[(mlb_games_df1[\"date\"]=='\"\"Fri')].replace('\"\"Fri', 'Fri 7pm')\n",
    "mlb_games_df6"
   ]
  },
  {
   "cell_type": "code",
   "execution_count": 10,
   "metadata": {},
   "outputs": [
    {
     "data": {
      "text/html": [
       "<div>\n",
       "<style scoped>\n",
       "    .dataframe tbody tr th:only-of-type {\n",
       "        vertical-align: middle;\n",
       "    }\n",
       "\n",
       "    .dataframe tbody tr th {\n",
       "        vertical-align: top;\n",
       "    }\n",
       "\n",
       "    .dataframe thead th {\n",
       "        text-align: right;\n",
       "    }\n",
       "</style>\n",
       "<table border=\"1\" class=\"dataframe\">\n",
       "  <thead>\n",
       "    <tr style=\"text-align: right;\">\n",
       "      <th></th>\n",
       "      <th>\"away_team</th>\n",
       "      <th>away_team_score</th>\n",
       "      <th>date</th>\n",
       "      <th>game_id</th>\n",
       "      <th>home_team</th>\n",
       "      <th>home_team_score</th>\n",
       "      <th>note</th>\n",
       "      <th>season</th>\n",
       "      <th>year\"</th>\n",
       "    </tr>\n",
       "  </thead>\n",
       "  <tbody>\n",
       "    <tr>\n",
       "      <th>NaN</th>\n",
       "      <td>\"chw</td>\n",
       "      <td>12</td>\n",
       "      <td>Sat 1pm</td>\n",
       "      <td>Apr 3\"\"</td>\n",
       "      <td>300403115.0</td>\n",
       "      <td>atl</td>\n",
       "      <td>4</td>\n",
       "      <td>Preseason</td>\n",
       "      <td>2010\"</td>\n",
       "    </tr>\n",
       "    <tr>\n",
       "      <th>NaN</th>\n",
       "      <td>\"chw</td>\n",
       "      <td>5</td>\n",
       "      <td>Sat 1pm</td>\n",
       "      <td>Aug 31\"\"</td>\n",
       "      <td>401076759.0</td>\n",
       "      <td>atl</td>\n",
       "      <td>11</td>\n",
       "      <td>Regular Season</td>\n",
       "      <td>2019\"</td>\n",
       "    </tr>\n",
       "    <tr>\n",
       "      <th>NaN</th>\n",
       "      <td>\"det</td>\n",
       "      <td>3</td>\n",
       "      <td>Sat 1pm</td>\n",
       "      <td>Jun 26\"\"</td>\n",
       "      <td>300626115.0</td>\n",
       "      <td>atl</td>\n",
       "      <td>4</td>\n",
       "      <td>Regular Season</td>\n",
       "      <td>2010\"</td>\n",
       "    </tr>\n",
       "    <tr>\n",
       "      <th>NaN</th>\n",
       "      <td>\"det</td>\n",
       "      <td>2</td>\n",
       "      <td>Sat 1pm</td>\n",
       "      <td>Mar 3\"\"</td>\n",
       "      <td>320303115.0</td>\n",
       "      <td>atl</td>\n",
       "      <td>0</td>\n",
       "      <td>Preseason</td>\n",
       "      <td>2012\"</td>\n",
       "    </tr>\n",
       "    <tr>\n",
       "      <th>NaN</th>\n",
       "      <td>\"det</td>\n",
       "      <td>2</td>\n",
       "      <td>Sat 1pm</td>\n",
       "      <td>Mar 31\"\"</td>\n",
       "      <td>320331115.0</td>\n",
       "      <td>atl</td>\n",
       "      <td>1 F/6</td>\n",
       "      <td>Preseason</td>\n",
       "      <td>2012\"</td>\n",
       "    </tr>\n",
       "    <tr>\n",
       "      <th>...</th>\n",
       "      <td>...</td>\n",
       "      <td>...</td>\n",
       "      <td>...</td>\n",
       "      <td>...</td>\n",
       "      <td>...</td>\n",
       "      <td>...</td>\n",
       "      <td>...</td>\n",
       "      <td>...</td>\n",
       "      <td>...</td>\n",
       "    </tr>\n",
       "    <tr>\n",
       "      <th>NaN</th>\n",
       "      <td>\"mia</td>\n",
       "      <td>1</td>\n",
       "      <td>Sat 1pm</td>\n",
       "      <td>Jul 3\"\"</td>\n",
       "      <td>300703115.0</td>\n",
       "      <td>atl</td>\n",
       "      <td>4</td>\n",
       "      <td>Regular Season</td>\n",
       "      <td>2010\"</td>\n",
       "    </tr>\n",
       "    <tr>\n",
       "      <th>NaN</th>\n",
       "      <td>\"mia</td>\n",
       "      <td>3</td>\n",
       "      <td>Sat 1pm</td>\n",
       "      <td>Aug 28\"\"</td>\n",
       "      <td>300828115.0</td>\n",
       "      <td>atl</td>\n",
       "      <td>12</td>\n",
       "      <td>Regular Season</td>\n",
       "      <td>2010\"</td>\n",
       "    </tr>\n",
       "    <tr>\n",
       "      <th>NaN</th>\n",
       "      <td>\"mia</td>\n",
       "      <td>1</td>\n",
       "      <td>Sat 1pm</td>\n",
       "      <td>Jul 30\"\"</td>\n",
       "      <td>310730115.0</td>\n",
       "      <td>atl</td>\n",
       "      <td>5</td>\n",
       "      <td>Regular Season</td>\n",
       "      <td>2011\"</td>\n",
       "    </tr>\n",
       "    <tr>\n",
       "      <th>NaN</th>\n",
       "      <td>\"nym</td>\n",
       "      <td>3</td>\n",
       "      <td>Sat 1pm</td>\n",
       "      <td>Mar 19\"\"</td>\n",
       "      <td>310319115.0</td>\n",
       "      <td>atl</td>\n",
       "      <td>3 F/10</td>\n",
       "      <td>Preseason</td>\n",
       "      <td>2011\"</td>\n",
       "    </tr>\n",
       "    <tr>\n",
       "      <th>NaN</th>\n",
       "      <td>\"nym</td>\n",
       "      <td>3</td>\n",
       "      <td>Sat 1pm</td>\n",
       "      <td>Mar 26\"\"</td>\n",
       "      <td>360326115.0</td>\n",
       "      <td>atl</td>\n",
       "      <td>3 F/10</td>\n",
       "      <td>Preseason</td>\n",
       "      <td>2016\"</td>\n",
       "    </tr>\n",
       "  </tbody>\n",
       "</table>\n",
       "<p>180 rows × 9 columns</p>\n",
       "</div>"
      ],
      "text/plain": [
       "    \"away_team away_team_score     date    game_id    home_team  \\\n",
       "NaN       \"chw              12  Sat 1pm    Apr 3\"\"  300403115.0   \n",
       "NaN       \"chw               5  Sat 1pm   Aug 31\"\"  401076759.0   \n",
       "NaN       \"det               3  Sat 1pm   Jun 26\"\"  300626115.0   \n",
       "NaN       \"det               2  Sat 1pm    Mar 3\"\"  320303115.0   \n",
       "NaN       \"det               2  Sat 1pm   Mar 31\"\"  320331115.0   \n",
       "..         ...             ...      ...        ...          ...   \n",
       "NaN       \"mia               1  Sat 1pm    Jul 3\"\"  300703115.0   \n",
       "NaN       \"mia               3  Sat 1pm   Aug 28\"\"  300828115.0   \n",
       "NaN       \"mia               1  Sat 1pm   Jul 30\"\"  310730115.0   \n",
       "NaN       \"nym               3  Sat 1pm   Mar 19\"\"  310319115.0   \n",
       "NaN       \"nym               3  Sat 1pm   Mar 26\"\"  360326115.0   \n",
       "\n",
       "    home_team_score    note          season  year\"  \n",
       "NaN             atl       4       Preseason  2010\"  \n",
       "NaN             atl      11  Regular Season  2019\"  \n",
       "NaN             atl       4  Regular Season  2010\"  \n",
       "NaN             atl       0       Preseason  2012\"  \n",
       "NaN             atl   1 F/6       Preseason  2012\"  \n",
       "..              ...     ...             ...    ...  \n",
       "NaN             atl       4  Regular Season  2010\"  \n",
       "NaN             atl      12  Regular Season  2010\"  \n",
       "NaN             atl       5  Regular Season  2011\"  \n",
       "NaN             atl  3 F/10       Preseason  2011\"  \n",
       "NaN             atl  3 F/10       Preseason  2016\"  \n",
       "\n",
       "[180 rows x 9 columns]"
      ]
     },
     "execution_count": 10,
     "metadata": {},
     "output_type": "execute_result"
    }
   ],
   "source": [
    "mlb_games_df7=mlb_games_df1.loc[(mlb_games_df1[\"date\"]=='\"\"Sat')].replace('\"\"Sat', 'Sat 1pm')\n",
    "mlb_games_df7"
   ]
  },
  {
   "cell_type": "code",
   "execution_count": 11,
   "metadata": {},
   "outputs": [
    {
     "data": {
      "text/html": [
       "<div>\n",
       "<style scoped>\n",
       "    .dataframe tbody tr th:only-of-type {\n",
       "        vertical-align: middle;\n",
       "    }\n",
       "\n",
       "    .dataframe tbody tr th {\n",
       "        vertical-align: top;\n",
       "    }\n",
       "\n",
       "    .dataframe thead th {\n",
       "        text-align: right;\n",
       "    }\n",
       "</style>\n",
       "<table border=\"1\" class=\"dataframe\">\n",
       "  <thead>\n",
       "    <tr style=\"text-align: right;\">\n",
       "      <th></th>\n",
       "      <th>\"away_team</th>\n",
       "      <th>away_team_score</th>\n",
       "      <th>date</th>\n",
       "      <th>game_id</th>\n",
       "      <th>home_team</th>\n",
       "      <th>home_team_score</th>\n",
       "      <th>note</th>\n",
       "      <th>season</th>\n",
       "      <th>year\"</th>\n",
       "    </tr>\n",
       "  </thead>\n",
       "  <tbody>\n",
       "    <tr>\n",
       "      <th>NaN</th>\n",
       "      <td>\"chw</td>\n",
       "      <td>3</td>\n",
       "      <td>Sun 1pm</td>\n",
       "      <td>Sep 1\"\"</td>\n",
       "      <td>401076786.0</td>\n",
       "      <td>atl</td>\n",
       "      <td>5</td>\n",
       "      <td>Regular Season</td>\n",
       "      <td>2019\"</td>\n",
       "    </tr>\n",
       "    <tr>\n",
       "      <th>NaN</th>\n",
       "      <td>\"det</td>\n",
       "      <td>10</td>\n",
       "      <td>Sun 1pm</td>\n",
       "      <td>Jun 27\"\"</td>\n",
       "      <td>300627115.0</td>\n",
       "      <td>atl</td>\n",
       "      <td>4</td>\n",
       "      <td>Regular Season</td>\n",
       "      <td>2010\"</td>\n",
       "    </tr>\n",
       "    <tr>\n",
       "      <th>NaN</th>\n",
       "      <td>\"det</td>\n",
       "      <td>1</td>\n",
       "      <td>Sun 1pm</td>\n",
       "      <td>Mar 3\"\"</td>\n",
       "      <td>330303115.0</td>\n",
       "      <td>atl</td>\n",
       "      <td>6</td>\n",
       "      <td>Preseason</td>\n",
       "      <td>2013\"</td>\n",
       "    </tr>\n",
       "    <tr>\n",
       "      <th>NaN</th>\n",
       "      <td>\"det</td>\n",
       "      <td>0</td>\n",
       "      <td>Sun 1pm</td>\n",
       "      <td>Mar 2\"\"</td>\n",
       "      <td>340302115.0</td>\n",
       "      <td>atl</td>\n",
       "      <td>0 F/10</td>\n",
       "      <td>Preseason</td>\n",
       "      <td>2014\"</td>\n",
       "    </tr>\n",
       "    <tr>\n",
       "      <th>NaN</th>\n",
       "      <td>\"det</td>\n",
       "      <td>3</td>\n",
       "      <td>Sun 1pm</td>\n",
       "      <td>Mar 22\"\"</td>\n",
       "      <td>350322115.0</td>\n",
       "      <td>atl</td>\n",
       "      <td>5</td>\n",
       "      <td>Preseason</td>\n",
       "      <td>2015\"</td>\n",
       "    </tr>\n",
       "    <tr>\n",
       "      <th>...</th>\n",
       "      <td>...</td>\n",
       "      <td>...</td>\n",
       "      <td>...</td>\n",
       "      <td>...</td>\n",
       "      <td>...</td>\n",
       "      <td>...</td>\n",
       "      <td>...</td>\n",
       "      <td>...</td>\n",
       "      <td>...</td>\n",
       "    </tr>\n",
       "    <tr>\n",
       "      <th>NaN</th>\n",
       "      <td>\"wsh</td>\n",
       "      <td>3</td>\n",
       "      <td>Sun 1pm</td>\n",
       "      <td>Sep 6\"\"</td>\n",
       "      <td>401226277.0</td>\n",
       "      <td>atl</td>\n",
       "      <td>10</td>\n",
       "      <td>Regular Season</td>\n",
       "      <td>2020\"</td>\n",
       "    </tr>\n",
       "    <tr>\n",
       "      <th>NaN</th>\n",
       "      <td>\"lad</td>\n",
       "      <td>4</td>\n",
       "      <td>Sun 1pm</td>\n",
       "      <td>Oct 18\"\"</td>\n",
       "      <td>401246386.0</td>\n",
       "      <td>atl</td>\n",
       "      <td>3</td>\n",
       "      <td>League Championship Series</td>\n",
       "      <td>2020\"</td>\n",
       "    </tr>\n",
       "    <tr>\n",
       "      <th>NaN</th>\n",
       "      <td>\"mia</td>\n",
       "      <td>3</td>\n",
       "      <td>Sun 1pm</td>\n",
       "      <td>Jul 4\"\"</td>\n",
       "      <td>300704115.0</td>\n",
       "      <td>atl</td>\n",
       "      <td>2</td>\n",
       "      <td>Regular Season</td>\n",
       "      <td>2010\"</td>\n",
       "    </tr>\n",
       "    <tr>\n",
       "      <th>NaN</th>\n",
       "      <td>\"mia</td>\n",
       "      <td>6</td>\n",
       "      <td>Sun 1pm</td>\n",
       "      <td>Aug 29\"\"</td>\n",
       "      <td>300829115.0</td>\n",
       "      <td>atl</td>\n",
       "      <td>7</td>\n",
       "      <td>Regular Season</td>\n",
       "      <td>2010\"</td>\n",
       "    </tr>\n",
       "    <tr>\n",
       "      <th>NaN</th>\n",
       "      <td>\"mia</td>\n",
       "      <td>3</td>\n",
       "      <td>Sun 1pm</td>\n",
       "      <td>Jul 31\"\"</td>\n",
       "      <td>310731115.0</td>\n",
       "      <td>atl</td>\n",
       "      <td>1</td>\n",
       "      <td>Regular Season</td>\n",
       "      <td>2011\"</td>\n",
       "    </tr>\n",
       "  </tbody>\n",
       "</table>\n",
       "<p>168 rows × 9 columns</p>\n",
       "</div>"
      ],
      "text/plain": [
       "    \"away_team away_team_score     date    game_id    home_team  \\\n",
       "NaN       \"chw               3  Sun 1pm    Sep 1\"\"  401076786.0   \n",
       "NaN       \"det              10  Sun 1pm   Jun 27\"\"  300627115.0   \n",
       "NaN       \"det               1  Sun 1pm    Mar 3\"\"  330303115.0   \n",
       "NaN       \"det               0  Sun 1pm    Mar 2\"\"  340302115.0   \n",
       "NaN       \"det               3  Sun 1pm   Mar 22\"\"  350322115.0   \n",
       "..         ...             ...      ...        ...          ...   \n",
       "NaN       \"wsh               3  Sun 1pm    Sep 6\"\"  401226277.0   \n",
       "NaN       \"lad               4  Sun 1pm   Oct 18\"\"  401246386.0   \n",
       "NaN       \"mia               3  Sun 1pm    Jul 4\"\"  300704115.0   \n",
       "NaN       \"mia               6  Sun 1pm   Aug 29\"\"  300829115.0   \n",
       "NaN       \"mia               3  Sun 1pm   Jul 31\"\"  310731115.0   \n",
       "\n",
       "    home_team_score    note                      season  year\"  \n",
       "NaN             atl       5              Regular Season  2019\"  \n",
       "NaN             atl       4              Regular Season  2010\"  \n",
       "NaN             atl       6                   Preseason  2013\"  \n",
       "NaN             atl  0 F/10                   Preseason  2014\"  \n",
       "NaN             atl       5                   Preseason  2015\"  \n",
       "..              ...     ...                         ...    ...  \n",
       "NaN             atl      10              Regular Season  2020\"  \n",
       "NaN             atl       3  League Championship Series  2020\"  \n",
       "NaN             atl       2              Regular Season  2010\"  \n",
       "NaN             atl       7              Regular Season  2010\"  \n",
       "NaN             atl       1              Regular Season  2011\"  \n",
       "\n",
       "[168 rows x 9 columns]"
      ]
     },
     "execution_count": 11,
     "metadata": {},
     "output_type": "execute_result"
    }
   ],
   "source": [
    "mlb_games_df8=mlb_games_df1.loc[(mlb_games_df1[\"date\"]=='\"\"Sun')].replace('\"\"Sun', 'Sun 1pm')\n",
    "mlb_games_df8"
   ]
  },
  {
   "cell_type": "code",
   "execution_count": 12,
   "metadata": {},
   "outputs": [
    {
     "data": {
      "text/html": [
       "<div>\n",
       "<style scoped>\n",
       "    .dataframe tbody tr th:only-of-type {\n",
       "        vertical-align: middle;\n",
       "    }\n",
       "\n",
       "    .dataframe tbody tr th {\n",
       "        vertical-align: top;\n",
       "    }\n",
       "\n",
       "    .dataframe thead th {\n",
       "        text-align: right;\n",
       "    }\n",
       "</style>\n",
       "<table border=\"1\" class=\"dataframe\">\n",
       "  <thead>\n",
       "    <tr style=\"text-align: right;\">\n",
       "      <th></th>\n",
       "      <th>\"away_team</th>\n",
       "      <th>away_team_score</th>\n",
       "      <th>date</th>\n",
       "      <th>game_id</th>\n",
       "      <th>home_team</th>\n",
       "      <th>home_team_score</th>\n",
       "      <th>note</th>\n",
       "      <th>season</th>\n",
       "      <th>year\"</th>\n",
       "    </tr>\n",
       "  </thead>\n",
       "  <tbody>\n",
       "    <tr>\n",
       "      <th>NaN</th>\n",
       "      <td>\"chw</td>\n",
       "      <td>3</td>\n",
       "      <td>Sun 1pm</td>\n",
       "      <td>Sep 1\"\"</td>\n",
       "      <td>401076786.0</td>\n",
       "      <td>atl</td>\n",
       "      <td>5</td>\n",
       "      <td>Regular Season</td>\n",
       "      <td>2019\"</td>\n",
       "    </tr>\n",
       "    <tr>\n",
       "      <th>NaN</th>\n",
       "      <td>\"det</td>\n",
       "      <td>10</td>\n",
       "      <td>Sun 1pm</td>\n",
       "      <td>Jun 27\"\"</td>\n",
       "      <td>300627115.0</td>\n",
       "      <td>atl</td>\n",
       "      <td>4</td>\n",
       "      <td>Regular Season</td>\n",
       "      <td>2010\"</td>\n",
       "    </tr>\n",
       "    <tr>\n",
       "      <th>NaN</th>\n",
       "      <td>\"det</td>\n",
       "      <td>1</td>\n",
       "      <td>Sun 1pm</td>\n",
       "      <td>Mar 3\"\"</td>\n",
       "      <td>330303115.0</td>\n",
       "      <td>atl</td>\n",
       "      <td>6</td>\n",
       "      <td>Preseason</td>\n",
       "      <td>2013\"</td>\n",
       "    </tr>\n",
       "    <tr>\n",
       "      <th>NaN</th>\n",
       "      <td>\"det</td>\n",
       "      <td>0</td>\n",
       "      <td>Sun 1pm</td>\n",
       "      <td>Mar 2\"\"</td>\n",
       "      <td>340302115.0</td>\n",
       "      <td>atl</td>\n",
       "      <td>0 F/10</td>\n",
       "      <td>Preseason</td>\n",
       "      <td>2014\"</td>\n",
       "    </tr>\n",
       "    <tr>\n",
       "      <th>NaN</th>\n",
       "      <td>\"det</td>\n",
       "      <td>3</td>\n",
       "      <td>Sun 1pm</td>\n",
       "      <td>Mar 22\"\"</td>\n",
       "      <td>350322115.0</td>\n",
       "      <td>atl</td>\n",
       "      <td>5</td>\n",
       "      <td>Preseason</td>\n",
       "      <td>2015\"</td>\n",
       "    </tr>\n",
       "    <tr>\n",
       "      <th>...</th>\n",
       "      <td>...</td>\n",
       "      <td>...</td>\n",
       "      <td>...</td>\n",
       "      <td>...</td>\n",
       "      <td>...</td>\n",
       "      <td>...</td>\n",
       "      <td>...</td>\n",
       "      <td>...</td>\n",
       "      <td>...</td>\n",
       "    </tr>\n",
       "    <tr>\n",
       "      <th>NaN</th>\n",
       "      <td>\"mia</td>\n",
       "      <td>5</td>\n",
       "      <td>Mon 7pm</td>\n",
       "      <td>Sep 7\"\"</td>\n",
       "      <td>401226292.0</td>\n",
       "      <td>atl</td>\n",
       "      <td>4 F/10</td>\n",
       "      <td>Regular Season</td>\n",
       "      <td>2020\"</td>\n",
       "    </tr>\n",
       "    <tr>\n",
       "      <th>NaN</th>\n",
       "      <td>\"mia</td>\n",
       "      <td>4</td>\n",
       "      <td>Mon 7pm</td>\n",
       "      <td>Sep 21\"\"</td>\n",
       "      <td>401226476.0</td>\n",
       "      <td>atl</td>\n",
       "      <td>5</td>\n",
       "      <td>Regular Season</td>\n",
       "      <td>2020\"</td>\n",
       "    </tr>\n",
       "    <tr>\n",
       "      <th>NaN</th>\n",
       "      <td>\"lad</td>\n",
       "      <td>1</td>\n",
       "      <td>Mon 7pm</td>\n",
       "      <td>Oct 12\"\"</td>\n",
       "      <td>401246380.0</td>\n",
       "      <td>atl</td>\n",
       "      <td>5</td>\n",
       "      <td>League Championship Series</td>\n",
       "      <td>2020\"</td>\n",
       "    </tr>\n",
       "    <tr>\n",
       "      <th>NaN</th>\n",
       "      <td>\"mia</td>\n",
       "      <td>1 F/11</td>\n",
       "      <td>Mon 7pm</td>\n",
       "      <td>Sep 27\"\"</td>\n",
       "      <td>300927115.0</td>\n",
       "      <td>atl</td>\n",
       "      <td>2</td>\n",
       "      <td>Regular Season</td>\n",
       "      <td>2010\"</td>\n",
       "    </tr>\n",
       "    <tr>\n",
       "      <th>NaN</th>\n",
       "      <td>\"mia</td>\n",
       "      <td>5</td>\n",
       "      <td>Mon 7pm</td>\n",
       "      <td>Sep 12\"\"</td>\n",
       "      <td>310912115.0</td>\n",
       "      <td>atl</td>\n",
       "      <td>4 F/12</td>\n",
       "      <td>Regular Season</td>\n",
       "      <td>2011\"</td>\n",
       "    </tr>\n",
       "  </tbody>\n",
       "</table>\n",
       "<p>1117 rows × 9 columns</p>\n",
       "</div>"
      ],
      "text/plain": [
       "    \"away_team away_team_score     date    game_id    home_team  \\\n",
       "NaN       \"chw               3  Sun 1pm    Sep 1\"\"  401076786.0   \n",
       "NaN       \"det              10  Sun 1pm   Jun 27\"\"  300627115.0   \n",
       "NaN       \"det               1  Sun 1pm    Mar 3\"\"  330303115.0   \n",
       "NaN       \"det               0  Sun 1pm    Mar 2\"\"  340302115.0   \n",
       "NaN       \"det               3  Sun 1pm   Mar 22\"\"  350322115.0   \n",
       "..         ...             ...      ...        ...          ...   \n",
       "NaN       \"mia               5  Mon 7pm    Sep 7\"\"  401226292.0   \n",
       "NaN       \"mia               4  Mon 7pm   Sep 21\"\"  401226476.0   \n",
       "NaN       \"lad               1  Mon 7pm   Oct 12\"\"  401246380.0   \n",
       "NaN       \"mia          1 F/11  Mon 7pm   Sep 27\"\"  300927115.0   \n",
       "NaN       \"mia               5  Mon 7pm   Sep 12\"\"  310912115.0   \n",
       "\n",
       "    home_team_score    note                      season  year\"  \n",
       "NaN             atl       5              Regular Season  2019\"  \n",
       "NaN             atl       4              Regular Season  2010\"  \n",
       "NaN             atl       6                   Preseason  2013\"  \n",
       "NaN             atl  0 F/10                   Preseason  2014\"  \n",
       "NaN             atl       5                   Preseason  2015\"  \n",
       "..              ...     ...                         ...    ...  \n",
       "NaN             atl  4 F/10              Regular Season  2020\"  \n",
       "NaN             atl       5              Regular Season  2020\"  \n",
       "NaN             atl       5  League Championship Series  2020\"  \n",
       "NaN             atl       2              Regular Season  2010\"  \n",
       "NaN             atl  4 F/12              Regular Season  2011\"  \n",
       "\n",
       "[1117 rows x 9 columns]"
      ]
     },
     "execution_count": 12,
     "metadata": {},
     "output_type": "execute_result"
    }
   ],
   "source": [
    "df=mlb_games_df8.append(mlb_games_df7)\n",
    "df1=df.append(mlb_games_df6)\n",
    "df2=df1.append(mlb_games_df5)\n",
    "df3=df2.append(mlb_games_df4)\n",
    "df4=df3.append(mlb_games_df3)\n",
    "df5=df4.append(mlb_games_df2)\n",
    "df5"
   ]
  },
  {
   "cell_type": "code",
   "execution_count": 13,
   "metadata": {},
   "outputs": [
    {
     "data": {
      "text/html": [
       "<div>\n",
       "<style scoped>\n",
       "    .dataframe tbody tr th:only-of-type {\n",
       "        vertical-align: middle;\n",
       "    }\n",
       "\n",
       "    .dataframe tbody tr th {\n",
       "        vertical-align: top;\n",
       "    }\n",
       "\n",
       "    .dataframe thead th {\n",
       "        text-align: right;\n",
       "    }\n",
       "</style>\n",
       "<table border=\"1\" class=\"dataframe\">\n",
       "  <thead>\n",
       "    <tr style=\"text-align: right;\">\n",
       "      <th></th>\n",
       "      <th>\"away_team</th>\n",
       "      <th>away_team_score</th>\n",
       "      <th>date</th>\n",
       "      <th>game_id</th>\n",
       "      <th>home_team</th>\n",
       "      <th>home_team_score</th>\n",
       "      <th>note</th>\n",
       "      <th>season</th>\n",
       "      <th>year\"</th>\n",
       "    </tr>\n",
       "  </thead>\n",
       "  <tbody>\n",
       "    <tr>\n",
       "      <th>NaN</th>\n",
       "      <td>\"chw</td>\n",
       "      <td>3</td>\n",
       "      <td>Sun 1pm</td>\n",
       "      <td>Sep 1\"\"</td>\n",
       "      <td>401076786.0</td>\n",
       "      <td>atl</td>\n",
       "      <td>5</td>\n",
       "      <td>Regular Season</td>\n",
       "      <td>2019\"</td>\n",
       "    </tr>\n",
       "    <tr>\n",
       "      <th>NaN</th>\n",
       "      <td>\"det</td>\n",
       "      <td>10</td>\n",
       "      <td>Sun 1pm</td>\n",
       "      <td>Jun 27\"\"</td>\n",
       "      <td>300627115.0</td>\n",
       "      <td>atl</td>\n",
       "      <td>4</td>\n",
       "      <td>Regular Season</td>\n",
       "      <td>2010\"</td>\n",
       "    </tr>\n",
       "    <tr>\n",
       "      <th>NaN</th>\n",
       "      <td>\"det</td>\n",
       "      <td>0</td>\n",
       "      <td>Sun 1pm</td>\n",
       "      <td>Oct 2\"\"</td>\n",
       "      <td>361002115.0</td>\n",
       "      <td>atl</td>\n",
       "      <td>1</td>\n",
       "      <td>Regular Season</td>\n",
       "      <td>2016\"</td>\n",
       "    </tr>\n",
       "    <tr>\n",
       "      <th>NaN</th>\n",
       "      <td>\"det</td>\n",
       "      <td>4</td>\n",
       "      <td>Sun 1pm</td>\n",
       "      <td>Jun 2\"\"</td>\n",
       "      <td>401075618.0</td>\n",
       "      <td>atl</td>\n",
       "      <td>7</td>\n",
       "      <td>Regular Season</td>\n",
       "      <td>2019\"</td>\n",
       "    </tr>\n",
       "    <tr>\n",
       "      <th>NaN</th>\n",
       "      <td>\"kc</td>\n",
       "      <td>5</td>\n",
       "      <td>Sun 1pm</td>\n",
       "      <td>Jun 20\"\"</td>\n",
       "      <td>300620115.0</td>\n",
       "      <td>atl</td>\n",
       "      <td>8</td>\n",
       "      <td>Regular Season</td>\n",
       "      <td>2010\"</td>\n",
       "    </tr>\n",
       "    <tr>\n",
       "      <th>...</th>\n",
       "      <td>...</td>\n",
       "      <td>...</td>\n",
       "      <td>...</td>\n",
       "      <td>...</td>\n",
       "      <td>...</td>\n",
       "      <td>...</td>\n",
       "      <td>...</td>\n",
       "      <td>...</td>\n",
       "      <td>...</td>\n",
       "    </tr>\n",
       "    <tr>\n",
       "      <th>NaN</th>\n",
       "      <td>\"mia</td>\n",
       "      <td>5</td>\n",
       "      <td>Mon 7pm</td>\n",
       "      <td>Sep 7\"\"</td>\n",
       "      <td>401226292.0</td>\n",
       "      <td>atl</td>\n",
       "      <td>4 F/10</td>\n",
       "      <td>Regular Season</td>\n",
       "      <td>2020\"</td>\n",
       "    </tr>\n",
       "    <tr>\n",
       "      <th>NaN</th>\n",
       "      <td>\"mia</td>\n",
       "      <td>4</td>\n",
       "      <td>Mon 7pm</td>\n",
       "      <td>Sep 21\"\"</td>\n",
       "      <td>401226476.0</td>\n",
       "      <td>atl</td>\n",
       "      <td>5</td>\n",
       "      <td>Regular Season</td>\n",
       "      <td>2020\"</td>\n",
       "    </tr>\n",
       "    <tr>\n",
       "      <th>NaN</th>\n",
       "      <td>\"lad</td>\n",
       "      <td>1</td>\n",
       "      <td>Mon 7pm</td>\n",
       "      <td>Oct 12\"\"</td>\n",
       "      <td>401246380.0</td>\n",
       "      <td>atl</td>\n",
       "      <td>5</td>\n",
       "      <td>League Championship Series</td>\n",
       "      <td>2020\"</td>\n",
       "    </tr>\n",
       "    <tr>\n",
       "      <th>NaN</th>\n",
       "      <td>\"mia</td>\n",
       "      <td>1 F/11</td>\n",
       "      <td>Mon 7pm</td>\n",
       "      <td>Sep 27\"\"</td>\n",
       "      <td>300927115.0</td>\n",
       "      <td>atl</td>\n",
       "      <td>2</td>\n",
       "      <td>Regular Season</td>\n",
       "      <td>2010\"</td>\n",
       "    </tr>\n",
       "    <tr>\n",
       "      <th>NaN</th>\n",
       "      <td>\"mia</td>\n",
       "      <td>5</td>\n",
       "      <td>Mon 7pm</td>\n",
       "      <td>Sep 12\"\"</td>\n",
       "      <td>310912115.0</td>\n",
       "      <td>atl</td>\n",
       "      <td>4 F/12</td>\n",
       "      <td>Regular Season</td>\n",
       "      <td>2011\"</td>\n",
       "    </tr>\n",
       "  </tbody>\n",
       "</table>\n",
       "<p>908 rows × 9 columns</p>\n",
       "</div>"
      ],
      "text/plain": [
       "    \"away_team away_team_score     date    game_id    home_team  \\\n",
       "NaN       \"chw               3  Sun 1pm    Sep 1\"\"  401076786.0   \n",
       "NaN       \"det              10  Sun 1pm   Jun 27\"\"  300627115.0   \n",
       "NaN       \"det               0  Sun 1pm    Oct 2\"\"  361002115.0   \n",
       "NaN       \"det               4  Sun 1pm    Jun 2\"\"  401075618.0   \n",
       "NaN        \"kc               5  Sun 1pm   Jun 20\"\"  300620115.0   \n",
       "..         ...             ...      ...        ...          ...   \n",
       "NaN       \"mia               5  Mon 7pm    Sep 7\"\"  401226292.0   \n",
       "NaN       \"mia               4  Mon 7pm   Sep 21\"\"  401226476.0   \n",
       "NaN       \"lad               1  Mon 7pm   Oct 12\"\"  401246380.0   \n",
       "NaN       \"mia          1 F/11  Mon 7pm   Sep 27\"\"  300927115.0   \n",
       "NaN       \"mia               5  Mon 7pm   Sep 12\"\"  310912115.0   \n",
       "\n",
       "    home_team_score    note                      season  year\"  \n",
       "NaN             atl       5              Regular Season  2019\"  \n",
       "NaN             atl       4              Regular Season  2010\"  \n",
       "NaN             atl       1              Regular Season  2016\"  \n",
       "NaN             atl       7              Regular Season  2019\"  \n",
       "NaN             atl       8              Regular Season  2010\"  \n",
       "..              ...     ...                         ...    ...  \n",
       "NaN             atl  4 F/10              Regular Season  2020\"  \n",
       "NaN             atl       5              Regular Season  2020\"  \n",
       "NaN             atl       5  League Championship Series  2020\"  \n",
       "NaN             atl       2              Regular Season  2010\"  \n",
       "NaN             atl  4 F/12              Regular Season  2011\"  \n",
       "\n",
       "[908 rows x 9 columns]"
      ]
     },
     "execution_count": 13,
     "metadata": {},
     "output_type": "execute_result"
    }
   ],
   "source": [
    "df6=df5.loc[df5[\"season\"]!=\"Preseason\"]\n",
    "df6"
   ]
  },
  {
   "cell_type": "code",
   "execution_count": 14,
   "metadata": {},
   "outputs": [
    {
     "name": "stderr",
     "output_type": "stream",
     "text": [
      "<ipython-input-14-09ba5d82b63e>:1: SettingWithCopyWarning: \n",
      "A value is trying to be set on a copy of a slice from a DataFrame.\n",
      "Try using .loc[row_indexer,col_indexer] = value instead\n",
      "\n",
      "See the caveats in the documentation: https://pandas.pydata.org/pandas-docs/stable/user_guide/indexing.html#returning-a-view-versus-a-copy\n",
      "  df6[\"time\"]=df6[\"date\"]+df6[\"game_id\"]+df6['year\"']\n"
     ]
    },
    {
     "data": {
      "text/html": [
       "<div>\n",
       "<style scoped>\n",
       "    .dataframe tbody tr th:only-of-type {\n",
       "        vertical-align: middle;\n",
       "    }\n",
       "\n",
       "    .dataframe tbody tr th {\n",
       "        vertical-align: top;\n",
       "    }\n",
       "\n",
       "    .dataframe thead th {\n",
       "        text-align: right;\n",
       "    }\n",
       "</style>\n",
       "<table border=\"1\" class=\"dataframe\">\n",
       "  <thead>\n",
       "    <tr style=\"text-align: right;\">\n",
       "      <th></th>\n",
       "      <th>\"away_team</th>\n",
       "      <th>away_team_score</th>\n",
       "      <th>date</th>\n",
       "      <th>game_id</th>\n",
       "      <th>home_team</th>\n",
       "      <th>home_team_score</th>\n",
       "      <th>note</th>\n",
       "      <th>season</th>\n",
       "      <th>year\"</th>\n",
       "      <th>time</th>\n",
       "    </tr>\n",
       "  </thead>\n",
       "  <tbody>\n",
       "    <tr>\n",
       "      <th>NaN</th>\n",
       "      <td>\"chw</td>\n",
       "      <td>3</td>\n",
       "      <td>Sun 1pm</td>\n",
       "      <td>Sep 1\"\"</td>\n",
       "      <td>401076786.0</td>\n",
       "      <td>atl</td>\n",
       "      <td>5</td>\n",
       "      <td>Regular Season</td>\n",
       "      <td>2019\"</td>\n",
       "      <td>Sun 1pm Sep 1\"\"2019\"</td>\n",
       "    </tr>\n",
       "    <tr>\n",
       "      <th>NaN</th>\n",
       "      <td>\"det</td>\n",
       "      <td>10</td>\n",
       "      <td>Sun 1pm</td>\n",
       "      <td>Jun 27\"\"</td>\n",
       "      <td>300627115.0</td>\n",
       "      <td>atl</td>\n",
       "      <td>4</td>\n",
       "      <td>Regular Season</td>\n",
       "      <td>2010\"</td>\n",
       "      <td>Sun 1pm Jun 27\"\"2010\"</td>\n",
       "    </tr>\n",
       "    <tr>\n",
       "      <th>NaN</th>\n",
       "      <td>\"det</td>\n",
       "      <td>0</td>\n",
       "      <td>Sun 1pm</td>\n",
       "      <td>Oct 2\"\"</td>\n",
       "      <td>361002115.0</td>\n",
       "      <td>atl</td>\n",
       "      <td>1</td>\n",
       "      <td>Regular Season</td>\n",
       "      <td>2016\"</td>\n",
       "      <td>Sun 1pm Oct 2\"\"2016\"</td>\n",
       "    </tr>\n",
       "    <tr>\n",
       "      <th>NaN</th>\n",
       "      <td>\"det</td>\n",
       "      <td>4</td>\n",
       "      <td>Sun 1pm</td>\n",
       "      <td>Jun 2\"\"</td>\n",
       "      <td>401075618.0</td>\n",
       "      <td>atl</td>\n",
       "      <td>7</td>\n",
       "      <td>Regular Season</td>\n",
       "      <td>2019\"</td>\n",
       "      <td>Sun 1pm Jun 2\"\"2019\"</td>\n",
       "    </tr>\n",
       "    <tr>\n",
       "      <th>NaN</th>\n",
       "      <td>\"kc</td>\n",
       "      <td>5</td>\n",
       "      <td>Sun 1pm</td>\n",
       "      <td>Jun 20\"\"</td>\n",
       "      <td>300620115.0</td>\n",
       "      <td>atl</td>\n",
       "      <td>8</td>\n",
       "      <td>Regular Season</td>\n",
       "      <td>2010\"</td>\n",
       "      <td>Sun 1pm Jun 20\"\"2010\"</td>\n",
       "    </tr>\n",
       "    <tr>\n",
       "      <th>...</th>\n",
       "      <td>...</td>\n",
       "      <td>...</td>\n",
       "      <td>...</td>\n",
       "      <td>...</td>\n",
       "      <td>...</td>\n",
       "      <td>...</td>\n",
       "      <td>...</td>\n",
       "      <td>...</td>\n",
       "      <td>...</td>\n",
       "      <td>...</td>\n",
       "    </tr>\n",
       "    <tr>\n",
       "      <th>NaN</th>\n",
       "      <td>\"mia</td>\n",
       "      <td>5</td>\n",
       "      <td>Mon 7pm</td>\n",
       "      <td>Sep 7\"\"</td>\n",
       "      <td>401226292.0</td>\n",
       "      <td>atl</td>\n",
       "      <td>4 F/10</td>\n",
       "      <td>Regular Season</td>\n",
       "      <td>2020\"</td>\n",
       "      <td>Mon 7pm Sep 7\"\"2020\"</td>\n",
       "    </tr>\n",
       "    <tr>\n",
       "      <th>NaN</th>\n",
       "      <td>\"mia</td>\n",
       "      <td>4</td>\n",
       "      <td>Mon 7pm</td>\n",
       "      <td>Sep 21\"\"</td>\n",
       "      <td>401226476.0</td>\n",
       "      <td>atl</td>\n",
       "      <td>5</td>\n",
       "      <td>Regular Season</td>\n",
       "      <td>2020\"</td>\n",
       "      <td>Mon 7pm Sep 21\"\"2020\"</td>\n",
       "    </tr>\n",
       "    <tr>\n",
       "      <th>NaN</th>\n",
       "      <td>\"lad</td>\n",
       "      <td>1</td>\n",
       "      <td>Mon 7pm</td>\n",
       "      <td>Oct 12\"\"</td>\n",
       "      <td>401246380.0</td>\n",
       "      <td>atl</td>\n",
       "      <td>5</td>\n",
       "      <td>League Championship Series</td>\n",
       "      <td>2020\"</td>\n",
       "      <td>Mon 7pm Oct 12\"\"2020\"</td>\n",
       "    </tr>\n",
       "    <tr>\n",
       "      <th>NaN</th>\n",
       "      <td>\"mia</td>\n",
       "      <td>1 F/11</td>\n",
       "      <td>Mon 7pm</td>\n",
       "      <td>Sep 27\"\"</td>\n",
       "      <td>300927115.0</td>\n",
       "      <td>atl</td>\n",
       "      <td>2</td>\n",
       "      <td>Regular Season</td>\n",
       "      <td>2010\"</td>\n",
       "      <td>Mon 7pm Sep 27\"\"2010\"</td>\n",
       "    </tr>\n",
       "    <tr>\n",
       "      <th>NaN</th>\n",
       "      <td>\"mia</td>\n",
       "      <td>5</td>\n",
       "      <td>Mon 7pm</td>\n",
       "      <td>Sep 12\"\"</td>\n",
       "      <td>310912115.0</td>\n",
       "      <td>atl</td>\n",
       "      <td>4 F/12</td>\n",
       "      <td>Regular Season</td>\n",
       "      <td>2011\"</td>\n",
       "      <td>Mon 7pm Sep 12\"\"2011\"</td>\n",
       "    </tr>\n",
       "  </tbody>\n",
       "</table>\n",
       "<p>908 rows × 10 columns</p>\n",
       "</div>"
      ],
      "text/plain": [
       "    \"away_team away_team_score     date    game_id    home_team  \\\n",
       "NaN       \"chw               3  Sun 1pm    Sep 1\"\"  401076786.0   \n",
       "NaN       \"det              10  Sun 1pm   Jun 27\"\"  300627115.0   \n",
       "NaN       \"det               0  Sun 1pm    Oct 2\"\"  361002115.0   \n",
       "NaN       \"det               4  Sun 1pm    Jun 2\"\"  401075618.0   \n",
       "NaN        \"kc               5  Sun 1pm   Jun 20\"\"  300620115.0   \n",
       "..         ...             ...      ...        ...          ...   \n",
       "NaN       \"mia               5  Mon 7pm    Sep 7\"\"  401226292.0   \n",
       "NaN       \"mia               4  Mon 7pm   Sep 21\"\"  401226476.0   \n",
       "NaN       \"lad               1  Mon 7pm   Oct 12\"\"  401246380.0   \n",
       "NaN       \"mia          1 F/11  Mon 7pm   Sep 27\"\"  300927115.0   \n",
       "NaN       \"mia               5  Mon 7pm   Sep 12\"\"  310912115.0   \n",
       "\n",
       "    home_team_score    note                      season  year\"  \\\n",
       "NaN             atl       5              Regular Season  2019\"   \n",
       "NaN             atl       4              Regular Season  2010\"   \n",
       "NaN             atl       1              Regular Season  2016\"   \n",
       "NaN             atl       7              Regular Season  2019\"   \n",
       "NaN             atl       8              Regular Season  2010\"   \n",
       "..              ...     ...                         ...    ...   \n",
       "NaN             atl  4 F/10              Regular Season  2020\"   \n",
       "NaN             atl       5              Regular Season  2020\"   \n",
       "NaN             atl       5  League Championship Series  2020\"   \n",
       "NaN             atl       2              Regular Season  2010\"   \n",
       "NaN             atl  4 F/12              Regular Season  2011\"   \n",
       "\n",
       "                      time  \n",
       "NaN   Sun 1pm Sep 1\"\"2019\"  \n",
       "NaN  Sun 1pm Jun 27\"\"2010\"  \n",
       "NaN   Sun 1pm Oct 2\"\"2016\"  \n",
       "NaN   Sun 1pm Jun 2\"\"2019\"  \n",
       "NaN  Sun 1pm Jun 20\"\"2010\"  \n",
       "..                     ...  \n",
       "NaN   Mon 7pm Sep 7\"\"2020\"  \n",
       "NaN  Mon 7pm Sep 21\"\"2020\"  \n",
       "NaN  Mon 7pm Oct 12\"\"2020\"  \n",
       "NaN  Mon 7pm Sep 27\"\"2010\"  \n",
       "NaN  Mon 7pm Sep 12\"\"2011\"  \n",
       "\n",
       "[908 rows x 10 columns]"
      ]
     },
     "execution_count": 14,
     "metadata": {},
     "output_type": "execute_result"
    }
   ],
   "source": [
    "df6[\"time\"]=df6[\"date\"]+df6[\"game_id\"]+df6['year\"']\n",
    "df6"
   ]
  },
  {
   "cell_type": "code",
   "execution_count": 15,
   "metadata": {},
   "outputs": [
    {
     "data": {
      "text/html": [
       "<div>\n",
       "<style scoped>\n",
       "    .dataframe tbody tr th:only-of-type {\n",
       "        vertical-align: middle;\n",
       "    }\n",
       "\n",
       "    .dataframe tbody tr th {\n",
       "        vertical-align: top;\n",
       "    }\n",
       "\n",
       "    .dataframe thead th {\n",
       "        text-align: right;\n",
       "    }\n",
       "</style>\n",
       "<table border=\"1\" class=\"dataframe\">\n",
       "  <thead>\n",
       "    <tr style=\"text-align: right;\">\n",
       "      <th></th>\n",
       "      <th>away_team</th>\n",
       "      <th>away_team_score</th>\n",
       "      <th>day</th>\n",
       "      <th>date</th>\n",
       "      <th>game_id</th>\n",
       "      <th>home_team</th>\n",
       "      <th>home_team_score</th>\n",
       "      <th>season</th>\n",
       "      <th>year</th>\n",
       "      <th>time</th>\n",
       "    </tr>\n",
       "  </thead>\n",
       "  <tbody>\n",
       "    <tr>\n",
       "      <th>NaN</th>\n",
       "      <td>\"chw</td>\n",
       "      <td>3</td>\n",
       "      <td>Sun 1pm</td>\n",
       "      <td>Sep 1\"\"</td>\n",
       "      <td>401076786.0</td>\n",
       "      <td>atl</td>\n",
       "      <td>5</td>\n",
       "      <td>Regular Season</td>\n",
       "      <td>2019\"</td>\n",
       "      <td>Sun 1pm Sep 1\"\"2019\"</td>\n",
       "    </tr>\n",
       "    <tr>\n",
       "      <th>NaN</th>\n",
       "      <td>\"det</td>\n",
       "      <td>10</td>\n",
       "      <td>Sun 1pm</td>\n",
       "      <td>Jun 27\"\"</td>\n",
       "      <td>300627115.0</td>\n",
       "      <td>atl</td>\n",
       "      <td>4</td>\n",
       "      <td>Regular Season</td>\n",
       "      <td>2010\"</td>\n",
       "      <td>Sun 1pm Jun 27\"\"2010\"</td>\n",
       "    </tr>\n",
       "    <tr>\n",
       "      <th>NaN</th>\n",
       "      <td>\"det</td>\n",
       "      <td>0</td>\n",
       "      <td>Sun 1pm</td>\n",
       "      <td>Oct 2\"\"</td>\n",
       "      <td>361002115.0</td>\n",
       "      <td>atl</td>\n",
       "      <td>1</td>\n",
       "      <td>Regular Season</td>\n",
       "      <td>2016\"</td>\n",
       "      <td>Sun 1pm Oct 2\"\"2016\"</td>\n",
       "    </tr>\n",
       "    <tr>\n",
       "      <th>NaN</th>\n",
       "      <td>\"det</td>\n",
       "      <td>4</td>\n",
       "      <td>Sun 1pm</td>\n",
       "      <td>Jun 2\"\"</td>\n",
       "      <td>401075618.0</td>\n",
       "      <td>atl</td>\n",
       "      <td>7</td>\n",
       "      <td>Regular Season</td>\n",
       "      <td>2019\"</td>\n",
       "      <td>Sun 1pm Jun 2\"\"2019\"</td>\n",
       "    </tr>\n",
       "    <tr>\n",
       "      <th>NaN</th>\n",
       "      <td>\"kc</td>\n",
       "      <td>5</td>\n",
       "      <td>Sun 1pm</td>\n",
       "      <td>Jun 20\"\"</td>\n",
       "      <td>300620115.0</td>\n",
       "      <td>atl</td>\n",
       "      <td>8</td>\n",
       "      <td>Regular Season</td>\n",
       "      <td>2010\"</td>\n",
       "      <td>Sun 1pm Jun 20\"\"2010\"</td>\n",
       "    </tr>\n",
       "    <tr>\n",
       "      <th>...</th>\n",
       "      <td>...</td>\n",
       "      <td>...</td>\n",
       "      <td>...</td>\n",
       "      <td>...</td>\n",
       "      <td>...</td>\n",
       "      <td>...</td>\n",
       "      <td>...</td>\n",
       "      <td>...</td>\n",
       "      <td>...</td>\n",
       "      <td>...</td>\n",
       "    </tr>\n",
       "    <tr>\n",
       "      <th>NaN</th>\n",
       "      <td>\"mia</td>\n",
       "      <td>5</td>\n",
       "      <td>Mon 7pm</td>\n",
       "      <td>Sep 7\"\"</td>\n",
       "      <td>401226292.0</td>\n",
       "      <td>atl</td>\n",
       "      <td>4 F/10</td>\n",
       "      <td>Regular Season</td>\n",
       "      <td>2020\"</td>\n",
       "      <td>Mon 7pm Sep 7\"\"2020\"</td>\n",
       "    </tr>\n",
       "    <tr>\n",
       "      <th>NaN</th>\n",
       "      <td>\"mia</td>\n",
       "      <td>4</td>\n",
       "      <td>Mon 7pm</td>\n",
       "      <td>Sep 21\"\"</td>\n",
       "      <td>401226476.0</td>\n",
       "      <td>atl</td>\n",
       "      <td>5</td>\n",
       "      <td>Regular Season</td>\n",
       "      <td>2020\"</td>\n",
       "      <td>Mon 7pm Sep 21\"\"2020\"</td>\n",
       "    </tr>\n",
       "    <tr>\n",
       "      <th>NaN</th>\n",
       "      <td>\"lad</td>\n",
       "      <td>1</td>\n",
       "      <td>Mon 7pm</td>\n",
       "      <td>Oct 12\"\"</td>\n",
       "      <td>401246380.0</td>\n",
       "      <td>atl</td>\n",
       "      <td>5</td>\n",
       "      <td>League Championship Series</td>\n",
       "      <td>2020\"</td>\n",
       "      <td>Mon 7pm Oct 12\"\"2020\"</td>\n",
       "    </tr>\n",
       "    <tr>\n",
       "      <th>NaN</th>\n",
       "      <td>\"mia</td>\n",
       "      <td>1 F/11</td>\n",
       "      <td>Mon 7pm</td>\n",
       "      <td>Sep 27\"\"</td>\n",
       "      <td>300927115.0</td>\n",
       "      <td>atl</td>\n",
       "      <td>2</td>\n",
       "      <td>Regular Season</td>\n",
       "      <td>2010\"</td>\n",
       "      <td>Mon 7pm Sep 27\"\"2010\"</td>\n",
       "    </tr>\n",
       "    <tr>\n",
       "      <th>NaN</th>\n",
       "      <td>\"mia</td>\n",
       "      <td>5</td>\n",
       "      <td>Mon 7pm</td>\n",
       "      <td>Sep 12\"\"</td>\n",
       "      <td>310912115.0</td>\n",
       "      <td>atl</td>\n",
       "      <td>4 F/12</td>\n",
       "      <td>Regular Season</td>\n",
       "      <td>2011\"</td>\n",
       "      <td>Mon 7pm Sep 12\"\"2011\"</td>\n",
       "    </tr>\n",
       "  </tbody>\n",
       "</table>\n",
       "<p>908 rows × 10 columns</p>\n",
       "</div>"
      ],
      "text/plain": [
       "    away_team away_team_score      day       date      game_id home_team  \\\n",
       "NaN      \"chw               3  Sun 1pm    Sep 1\"\"  401076786.0       atl   \n",
       "NaN      \"det              10  Sun 1pm   Jun 27\"\"  300627115.0       atl   \n",
       "NaN      \"det               0  Sun 1pm    Oct 2\"\"  361002115.0       atl   \n",
       "NaN      \"det               4  Sun 1pm    Jun 2\"\"  401075618.0       atl   \n",
       "NaN       \"kc               5  Sun 1pm   Jun 20\"\"  300620115.0       atl   \n",
       "..        ...             ...      ...        ...          ...       ...   \n",
       "NaN      \"mia               5  Mon 7pm    Sep 7\"\"  401226292.0       atl   \n",
       "NaN      \"mia               4  Mon 7pm   Sep 21\"\"  401226476.0       atl   \n",
       "NaN      \"lad               1  Mon 7pm   Oct 12\"\"  401246380.0       atl   \n",
       "NaN      \"mia          1 F/11  Mon 7pm   Sep 27\"\"  300927115.0       atl   \n",
       "NaN      \"mia               5  Mon 7pm   Sep 12\"\"  310912115.0       atl   \n",
       "\n",
       "    home_team_score                      season   year                   time  \n",
       "NaN               5              Regular Season  2019\"   Sun 1pm Sep 1\"\"2019\"  \n",
       "NaN               4              Regular Season  2010\"  Sun 1pm Jun 27\"\"2010\"  \n",
       "NaN               1              Regular Season  2016\"   Sun 1pm Oct 2\"\"2016\"  \n",
       "NaN               7              Regular Season  2019\"   Sun 1pm Jun 2\"\"2019\"  \n",
       "NaN               8              Regular Season  2010\"  Sun 1pm Jun 20\"\"2010\"  \n",
       "..              ...                         ...    ...                    ...  \n",
       "NaN          4 F/10              Regular Season  2020\"   Mon 7pm Sep 7\"\"2020\"  \n",
       "NaN               5              Regular Season  2020\"  Mon 7pm Sep 21\"\"2020\"  \n",
       "NaN               5  League Championship Series  2020\"  Mon 7pm Oct 12\"\"2020\"  \n",
       "NaN               2              Regular Season  2010\"  Mon 7pm Sep 27\"\"2010\"  \n",
       "NaN          4 F/12              Regular Season  2011\"  Mon 7pm Sep 12\"\"2011\"  \n",
       "\n",
       "[908 rows x 10 columns]"
      ]
     },
     "execution_count": 15,
     "metadata": {},
     "output_type": "execute_result"
    }
   ],
   "source": [
    "df6.columns=[\"away_team\",\"away_team_score\",\"day\",\"date\",\"game_id\",\"home_team\",\"home_team_score\",\"season\",\"year\",\"time\"]\n",
    "df6"
   ]
  },
  {
   "cell_type": "code",
   "execution_count": 16,
   "metadata": {},
   "outputs": [
    {
     "data": {
      "text/html": [
       "<div>\n",
       "<style scoped>\n",
       "    .dataframe tbody tr th:only-of-type {\n",
       "        vertical-align: middle;\n",
       "    }\n",
       "\n",
       "    .dataframe tbody tr th {\n",
       "        vertical-align: top;\n",
       "    }\n",
       "\n",
       "    .dataframe thead th {\n",
       "        text-align: right;\n",
       "    }\n",
       "</style>\n",
       "<table border=\"1\" class=\"dataframe\">\n",
       "  <thead>\n",
       "    <tr style=\"text-align: right;\">\n",
       "      <th></th>\n",
       "      <th>game_id</th>\n",
       "    </tr>\n",
       "  </thead>\n",
       "  <tbody>\n",
       "    <tr>\n",
       "      <th>NaN</th>\n",
       "      <td>401076786.0</td>\n",
       "    </tr>\n",
       "    <tr>\n",
       "      <th>NaN</th>\n",
       "      <td>300627115.0</td>\n",
       "    </tr>\n",
       "    <tr>\n",
       "      <th>NaN</th>\n",
       "      <td>361002115.0</td>\n",
       "    </tr>\n",
       "    <tr>\n",
       "      <th>NaN</th>\n",
       "      <td>401075618.0</td>\n",
       "    </tr>\n",
       "    <tr>\n",
       "      <th>NaN</th>\n",
       "      <td>300620115.0</td>\n",
       "    </tr>\n",
       "    <tr>\n",
       "      <th>...</th>\n",
       "      <td>...</td>\n",
       "    </tr>\n",
       "    <tr>\n",
       "      <th>NaN</th>\n",
       "      <td>401226292.0</td>\n",
       "    </tr>\n",
       "    <tr>\n",
       "      <th>NaN</th>\n",
       "      <td>401226476.0</td>\n",
       "    </tr>\n",
       "    <tr>\n",
       "      <th>NaN</th>\n",
       "      <td>401246380.0</td>\n",
       "    </tr>\n",
       "    <tr>\n",
       "      <th>NaN</th>\n",
       "      <td>300927115.0</td>\n",
       "    </tr>\n",
       "    <tr>\n",
       "      <th>NaN</th>\n",
       "      <td>310912115.0</td>\n",
       "    </tr>\n",
       "  </tbody>\n",
       "</table>\n",
       "<p>908 rows × 1 columns</p>\n",
       "</div>"
      ],
      "text/plain": [
       "         game_id\n",
       "NaN  401076786.0\n",
       "NaN  300627115.0\n",
       "NaN  361002115.0\n",
       "NaN  401075618.0\n",
       "NaN  300620115.0\n",
       "..           ...\n",
       "NaN  401226292.0\n",
       "NaN  401226476.0\n",
       "NaN  401246380.0\n",
       "NaN  300927115.0\n",
       "NaN  310912115.0\n",
       "\n",
       "[908 rows x 1 columns]"
      ]
     },
     "execution_count": 16,
     "metadata": {},
     "output_type": "execute_result"
    }
   ],
   "source": [
    "df7=pd.DataFrame(df6[\"game_id\"])\n",
    "df7"
   ]
  },
  {
   "cell_type": "code",
   "execution_count": 17,
   "metadata": {},
   "outputs": [
    {
     "data": {
      "text/html": [
       "<div>\n",
       "<style scoped>\n",
       "    .dataframe tbody tr th:only-of-type {\n",
       "        vertical-align: middle;\n",
       "    }\n",
       "\n",
       "    .dataframe tbody tr th {\n",
       "        vertical-align: top;\n",
       "    }\n",
       "\n",
       "    .dataframe thead th {\n",
       "        text-align: right;\n",
       "    }\n",
       "</style>\n",
       "<table border=\"1\" class=\"dataframe\">\n",
       "  <thead>\n",
       "    <tr style=\"text-align: right;\">\n",
       "      <th></th>\n",
       "      <th>away_team</th>\n",
       "      <th>away_team_score</th>\n",
       "      <th>day</th>\n",
       "      <th>date</th>\n",
       "      <th>home_team</th>\n",
       "      <th>home_team_score</th>\n",
       "      <th>season</th>\n",
       "      <th>year</th>\n",
       "      <th>time</th>\n",
       "    </tr>\n",
       "  </thead>\n",
       "  <tbody>\n",
       "    <tr>\n",
       "      <th>NaN</th>\n",
       "      <td>chw</td>\n",
       "      <td>3</td>\n",
       "      <td>Sun 1pm</td>\n",
       "      <td>Sep 1</td>\n",
       "      <td>atl</td>\n",
       "      <td>5</td>\n",
       "      <td>Regular Season</td>\n",
       "      <td>2019</td>\n",
       "      <td>Sun 1pm Sep 1  2019</td>\n",
       "    </tr>\n",
       "    <tr>\n",
       "      <th>NaN</th>\n",
       "      <td>det</td>\n",
       "      <td>10</td>\n",
       "      <td>Sun 1pm</td>\n",
       "      <td>Jun 27</td>\n",
       "      <td>atl</td>\n",
       "      <td>4</td>\n",
       "      <td>Regular Season</td>\n",
       "      <td>2010</td>\n",
       "      <td>Sun 1pm Jun 27  2010</td>\n",
       "    </tr>\n",
       "    <tr>\n",
       "      <th>NaN</th>\n",
       "      <td>det</td>\n",
       "      <td>0</td>\n",
       "      <td>Sun 1pm</td>\n",
       "      <td>Oct 2</td>\n",
       "      <td>atl</td>\n",
       "      <td>1</td>\n",
       "      <td>Regular Season</td>\n",
       "      <td>2016</td>\n",
       "      <td>Sun 1pm Oct 2  2016</td>\n",
       "    </tr>\n",
       "    <tr>\n",
       "      <th>NaN</th>\n",
       "      <td>det</td>\n",
       "      <td>4</td>\n",
       "      <td>Sun 1pm</td>\n",
       "      <td>Jun 2</td>\n",
       "      <td>atl</td>\n",
       "      <td>7</td>\n",
       "      <td>Regular Season</td>\n",
       "      <td>2019</td>\n",
       "      <td>Sun 1pm Jun 2  2019</td>\n",
       "    </tr>\n",
       "    <tr>\n",
       "      <th>NaN</th>\n",
       "      <td>kc</td>\n",
       "      <td>5</td>\n",
       "      <td>Sun 1pm</td>\n",
       "      <td>Jun 20</td>\n",
       "      <td>atl</td>\n",
       "      <td>8</td>\n",
       "      <td>Regular Season</td>\n",
       "      <td>2010</td>\n",
       "      <td>Sun 1pm Jun 20  2010</td>\n",
       "    </tr>\n",
       "    <tr>\n",
       "      <th>...</th>\n",
       "      <td>...</td>\n",
       "      <td>...</td>\n",
       "      <td>...</td>\n",
       "      <td>...</td>\n",
       "      <td>...</td>\n",
       "      <td>...</td>\n",
       "      <td>...</td>\n",
       "      <td>...</td>\n",
       "      <td>...</td>\n",
       "    </tr>\n",
       "    <tr>\n",
       "      <th>NaN</th>\n",
       "      <td>mia</td>\n",
       "      <td>5</td>\n",
       "      <td>Mon 7pm</td>\n",
       "      <td>Sep 7</td>\n",
       "      <td>atl</td>\n",
       "      <td>4 F/10</td>\n",
       "      <td>Regular Season</td>\n",
       "      <td>2020</td>\n",
       "      <td>Mon 7pm Sep 7  2020</td>\n",
       "    </tr>\n",
       "    <tr>\n",
       "      <th>NaN</th>\n",
       "      <td>mia</td>\n",
       "      <td>4</td>\n",
       "      <td>Mon 7pm</td>\n",
       "      <td>Sep 21</td>\n",
       "      <td>atl</td>\n",
       "      <td>5</td>\n",
       "      <td>Regular Season</td>\n",
       "      <td>2020</td>\n",
       "      <td>Mon 7pm Sep 21  2020</td>\n",
       "    </tr>\n",
       "    <tr>\n",
       "      <th>NaN</th>\n",
       "      <td>lad</td>\n",
       "      <td>1</td>\n",
       "      <td>Mon 7pm</td>\n",
       "      <td>Oct 12</td>\n",
       "      <td>atl</td>\n",
       "      <td>5</td>\n",
       "      <td>League Championship Series</td>\n",
       "      <td>2020</td>\n",
       "      <td>Mon 7pm Oct 12  2020</td>\n",
       "    </tr>\n",
       "    <tr>\n",
       "      <th>NaN</th>\n",
       "      <td>mia</td>\n",
       "      <td>1 F/11</td>\n",
       "      <td>Mon 7pm</td>\n",
       "      <td>Sep 27</td>\n",
       "      <td>atl</td>\n",
       "      <td>2</td>\n",
       "      <td>Regular Season</td>\n",
       "      <td>2010</td>\n",
       "      <td>Mon 7pm Sep 27  2010</td>\n",
       "    </tr>\n",
       "    <tr>\n",
       "      <th>NaN</th>\n",
       "      <td>mia</td>\n",
       "      <td>5</td>\n",
       "      <td>Mon 7pm</td>\n",
       "      <td>Sep 12</td>\n",
       "      <td>atl</td>\n",
       "      <td>4 F/12</td>\n",
       "      <td>Regular Season</td>\n",
       "      <td>2011</td>\n",
       "      <td>Mon 7pm Sep 12  2011</td>\n",
       "    </tr>\n",
       "  </tbody>\n",
       "</table>\n",
       "<p>908 rows × 9 columns</p>\n",
       "</div>"
      ],
      "text/plain": [
       "    away_team away_team_score      day       date home_team home_team_score  \\\n",
       "NaN       chw               3  Sun 1pm    Sep 1         atl               5   \n",
       "NaN       det              10  Sun 1pm   Jun 27         atl               4   \n",
       "NaN       det               0  Sun 1pm    Oct 2         atl               1   \n",
       "NaN       det               4  Sun 1pm    Jun 2         atl               7   \n",
       "NaN        kc               5  Sun 1pm   Jun 20         atl               8   \n",
       "..        ...             ...      ...        ...       ...             ...   \n",
       "NaN       mia               5  Mon 7pm    Sep 7         atl          4 F/10   \n",
       "NaN       mia               4  Mon 7pm   Sep 21         atl               5   \n",
       "NaN       lad               1  Mon 7pm   Oct 12         atl               5   \n",
       "NaN       mia          1 F/11  Mon 7pm   Sep 27         atl               2   \n",
       "NaN       mia               5  Mon 7pm   Sep 12         atl          4 F/12   \n",
       "\n",
       "                         season   year                   time  \n",
       "NaN              Regular Season  2019    Sun 1pm Sep 1  2019   \n",
       "NaN              Regular Season  2010   Sun 1pm Jun 27  2010   \n",
       "NaN              Regular Season  2016    Sun 1pm Oct 2  2016   \n",
       "NaN              Regular Season  2019    Sun 1pm Jun 2  2019   \n",
       "NaN              Regular Season  2010   Sun 1pm Jun 20  2010   \n",
       "..                          ...    ...                    ...  \n",
       "NaN              Regular Season  2020    Mon 7pm Sep 7  2020   \n",
       "NaN              Regular Season  2020   Mon 7pm Sep 21  2020   \n",
       "NaN  League Championship Series  2020   Mon 7pm Oct 12  2020   \n",
       "NaN              Regular Season  2010   Mon 7pm Sep 27  2010   \n",
       "NaN              Regular Season  2011   Mon 7pm Sep 12  2011   \n",
       "\n",
       "[908 rows x 9 columns]"
      ]
     },
     "execution_count": 17,
     "metadata": {},
     "output_type": "execute_result"
    }
   ],
   "source": [
    "df8=df6.loc[:,df6.dtypes==object].apply(lambda s:s.str.replace('\"', \" \"))\n",
    "df8"
   ]
  },
  {
   "cell_type": "code",
   "execution_count": 18,
   "metadata": {},
   "outputs": [
    {
     "data": {
      "text/html": [
       "<div>\n",
       "<style scoped>\n",
       "    .dataframe tbody tr th:only-of-type {\n",
       "        vertical-align: middle;\n",
       "    }\n",
       "\n",
       "    .dataframe tbody tr th {\n",
       "        vertical-align: top;\n",
       "    }\n",
       "\n",
       "    .dataframe thead th {\n",
       "        text-align: right;\n",
       "    }\n",
       "</style>\n",
       "<table border=\"1\" class=\"dataframe\">\n",
       "  <thead>\n",
       "    <tr style=\"text-align: right;\">\n",
       "      <th></th>\n",
       "      <th>away_team</th>\n",
       "      <th>away_team_score</th>\n",
       "      <th>day</th>\n",
       "      <th>date</th>\n",
       "      <th>home_team</th>\n",
       "      <th>home_team_score</th>\n",
       "      <th>season</th>\n",
       "      <th>year</th>\n",
       "      <th>time</th>\n",
       "      <th>game_id</th>\n",
       "    </tr>\n",
       "  </thead>\n",
       "  <tbody>\n",
       "    <tr>\n",
       "      <th>NaN</th>\n",
       "      <td>chw</td>\n",
       "      <td>3</td>\n",
       "      <td>Sun 1pm</td>\n",
       "      <td>Sep 1</td>\n",
       "      <td>atl</td>\n",
       "      <td>5</td>\n",
       "      <td>Regular Season</td>\n",
       "      <td>2019</td>\n",
       "      <td>Sun 1pm Sep 1  2019</td>\n",
       "      <td>401076786.0</td>\n",
       "    </tr>\n",
       "    <tr>\n",
       "      <th>NaN</th>\n",
       "      <td>det</td>\n",
       "      <td>10</td>\n",
       "      <td>Sun 1pm</td>\n",
       "      <td>Jun 27</td>\n",
       "      <td>atl</td>\n",
       "      <td>4</td>\n",
       "      <td>Regular Season</td>\n",
       "      <td>2010</td>\n",
       "      <td>Sun 1pm Jun 27  2010</td>\n",
       "      <td>300627115.0</td>\n",
       "    </tr>\n",
       "    <tr>\n",
       "      <th>NaN</th>\n",
       "      <td>det</td>\n",
       "      <td>0</td>\n",
       "      <td>Sun 1pm</td>\n",
       "      <td>Oct 2</td>\n",
       "      <td>atl</td>\n",
       "      <td>1</td>\n",
       "      <td>Regular Season</td>\n",
       "      <td>2016</td>\n",
       "      <td>Sun 1pm Oct 2  2016</td>\n",
       "      <td>361002115.0</td>\n",
       "    </tr>\n",
       "    <tr>\n",
       "      <th>NaN</th>\n",
       "      <td>det</td>\n",
       "      <td>4</td>\n",
       "      <td>Sun 1pm</td>\n",
       "      <td>Jun 2</td>\n",
       "      <td>atl</td>\n",
       "      <td>7</td>\n",
       "      <td>Regular Season</td>\n",
       "      <td>2019</td>\n",
       "      <td>Sun 1pm Jun 2  2019</td>\n",
       "      <td>401075618.0</td>\n",
       "    </tr>\n",
       "    <tr>\n",
       "      <th>NaN</th>\n",
       "      <td>kc</td>\n",
       "      <td>5</td>\n",
       "      <td>Sun 1pm</td>\n",
       "      <td>Jun 20</td>\n",
       "      <td>atl</td>\n",
       "      <td>8</td>\n",
       "      <td>Regular Season</td>\n",
       "      <td>2010</td>\n",
       "      <td>Sun 1pm Jun 20  2010</td>\n",
       "      <td>300620115.0</td>\n",
       "    </tr>\n",
       "    <tr>\n",
       "      <th>...</th>\n",
       "      <td>...</td>\n",
       "      <td>...</td>\n",
       "      <td>...</td>\n",
       "      <td>...</td>\n",
       "      <td>...</td>\n",
       "      <td>...</td>\n",
       "      <td>...</td>\n",
       "      <td>...</td>\n",
       "      <td>...</td>\n",
       "      <td>...</td>\n",
       "    </tr>\n",
       "    <tr>\n",
       "      <th>NaN</th>\n",
       "      <td>mia</td>\n",
       "      <td>5</td>\n",
       "      <td>Mon 7pm</td>\n",
       "      <td>Sep 7</td>\n",
       "      <td>atl</td>\n",
       "      <td>4 F/10</td>\n",
       "      <td>Regular Season</td>\n",
       "      <td>2020</td>\n",
       "      <td>Mon 7pm Sep 7  2020</td>\n",
       "      <td>401226292.0</td>\n",
       "    </tr>\n",
       "    <tr>\n",
       "      <th>NaN</th>\n",
       "      <td>mia</td>\n",
       "      <td>4</td>\n",
       "      <td>Mon 7pm</td>\n",
       "      <td>Sep 21</td>\n",
       "      <td>atl</td>\n",
       "      <td>5</td>\n",
       "      <td>Regular Season</td>\n",
       "      <td>2020</td>\n",
       "      <td>Mon 7pm Sep 21  2020</td>\n",
       "      <td>401226476.0</td>\n",
       "    </tr>\n",
       "    <tr>\n",
       "      <th>NaN</th>\n",
       "      <td>lad</td>\n",
       "      <td>1</td>\n",
       "      <td>Mon 7pm</td>\n",
       "      <td>Oct 12</td>\n",
       "      <td>atl</td>\n",
       "      <td>5</td>\n",
       "      <td>League Championship Series</td>\n",
       "      <td>2020</td>\n",
       "      <td>Mon 7pm Oct 12  2020</td>\n",
       "      <td>401246380.0</td>\n",
       "    </tr>\n",
       "    <tr>\n",
       "      <th>NaN</th>\n",
       "      <td>mia</td>\n",
       "      <td>1 F/11</td>\n",
       "      <td>Mon 7pm</td>\n",
       "      <td>Sep 27</td>\n",
       "      <td>atl</td>\n",
       "      <td>2</td>\n",
       "      <td>Regular Season</td>\n",
       "      <td>2010</td>\n",
       "      <td>Mon 7pm Sep 27  2010</td>\n",
       "      <td>300927115.0</td>\n",
       "    </tr>\n",
       "    <tr>\n",
       "      <th>NaN</th>\n",
       "      <td>mia</td>\n",
       "      <td>5</td>\n",
       "      <td>Mon 7pm</td>\n",
       "      <td>Sep 12</td>\n",
       "      <td>atl</td>\n",
       "      <td>4 F/12</td>\n",
       "      <td>Regular Season</td>\n",
       "      <td>2011</td>\n",
       "      <td>Mon 7pm Sep 12  2011</td>\n",
       "      <td>310912115.0</td>\n",
       "    </tr>\n",
       "  </tbody>\n",
       "</table>\n",
       "<p>908 rows × 10 columns</p>\n",
       "</div>"
      ],
      "text/plain": [
       "    away_team away_team_score      day       date home_team home_team_score  \\\n",
       "NaN       chw               3  Sun 1pm    Sep 1         atl               5   \n",
       "NaN       det              10  Sun 1pm   Jun 27         atl               4   \n",
       "NaN       det               0  Sun 1pm    Oct 2         atl               1   \n",
       "NaN       det               4  Sun 1pm    Jun 2         atl               7   \n",
       "NaN        kc               5  Sun 1pm   Jun 20         atl               8   \n",
       "..        ...             ...      ...        ...       ...             ...   \n",
       "NaN       mia               5  Mon 7pm    Sep 7         atl          4 F/10   \n",
       "NaN       mia               4  Mon 7pm   Sep 21         atl               5   \n",
       "NaN       lad               1  Mon 7pm   Oct 12         atl               5   \n",
       "NaN       mia          1 F/11  Mon 7pm   Sep 27         atl               2   \n",
       "NaN       mia               5  Mon 7pm   Sep 12         atl          4 F/12   \n",
       "\n",
       "                         season   year                   time      game_id  \n",
       "NaN              Regular Season  2019    Sun 1pm Sep 1  2019   401076786.0  \n",
       "NaN              Regular Season  2010   Sun 1pm Jun 27  2010   300627115.0  \n",
       "NaN              Regular Season  2016    Sun 1pm Oct 2  2016   361002115.0  \n",
       "NaN              Regular Season  2019    Sun 1pm Jun 2  2019   401075618.0  \n",
       "NaN              Regular Season  2010   Sun 1pm Jun 20  2010   300620115.0  \n",
       "..                          ...    ...                    ...          ...  \n",
       "NaN              Regular Season  2020    Mon 7pm Sep 7  2020   401226292.0  \n",
       "NaN              Regular Season  2020   Mon 7pm Sep 21  2020   401226476.0  \n",
       "NaN  League Championship Series  2020   Mon 7pm Oct 12  2020   401246380.0  \n",
       "NaN              Regular Season  2010   Mon 7pm Sep 27  2010   300927115.0  \n",
       "NaN              Regular Season  2011   Mon 7pm Sep 12  2011   310912115.0  \n",
       "\n",
       "[908 rows x 10 columns]"
      ]
     },
     "execution_count": 18,
     "metadata": {},
     "output_type": "execute_result"
    }
   ],
   "source": [
    "df8[\"game_id\"]=df7\n",
    "df8"
   ]
  },
  {
   "cell_type": "code",
   "execution_count": 19,
   "metadata": {},
   "outputs": [
    {
     "name": "stdout",
     "output_type": "stream",
     "text": [
      "[1567342800.0, 1277643600.0, 1475413200.0, 1559480400.0, 1277038800.0, 1309698000.0, 1339938000.0, 1529845200.0, 1601211600.0, 1440939600.0, 1339333200.0, 1272805200.0, 1344171600.0, 1402837200.0, 1408280400.0, 1308488400.0, 1313326800.0, 1365339600.0, 1399813200.0, 1437310800.0, 1465736400.0, 1306674000.0, 1373806800.0, 1398603600.0, 1430658000.0, 1503234000.0, 1564923600.0, 1279458000.0, 1334494800.0, 1432472400.0, 1498395600.0, 1534078800.0, 1558270800.0, 1275224400.0, 1335704400.0, 1433682000.0, 1535893200.0, 1284296400.0, 1304254800.0, 1375016400.0, 1443963600.0, 1443963600.0, 1460293200.0, 1494162000.0, 1271595600.0, 1274014800.0, 1278248400.0, 1280062800.0, 1281272400.0, 1281877200.0, 1283086800.0, 1283691600.0, 1286110800.0, 1286715600.0, 1302440400.0, 1303045200.0, 1305464400.0, 1310907600.0, 1312117200.0, 1313931600.0, 1315141200.0, 1316350800.0, 1338123600.0, 1341147600.0, 1342357200.0, 1343566800.0, 1345381200.0, 1346590800.0, 1347800400.0, 1349010000.0, 1367758800.0, 1368968400.0, 1370178000.0, 1371387600.0, 1372597200.0, 1376226000.0, 1376830800.0, 1378040400.0, 1379250000.0, 1380459600.0, 1397394000.0, 1399208400.0, 1401022800.0, 1404651600.0, 1405861200.0, 1406466000.0, 1407675600.0, 1409490000.0, 1411304400.0, 1428843600.0, 1434891600.0, 1436101200.0, 1439125200.0, 1439730000.0, 1442149200.0, 1442754000.0, 1461502800.0, 1462712400.0, 1464526800.0, 1466946000.0, 1467550800.0, 1468760400.0, 1469970000.0, 1471784400.0, 1473598800.0, 1474203600.0, 1492347600.0, 1495371600.0, 1497186000.0, 1497790800.0, 1500210000.0, 1502024400.0, 1503838800.0, 1505048400.0, 1505653200.0, 1506258000.0, 1524402000.0, 1525611600.0, 1526821200.0, 1528030800.0, 1529240400.0, 1531659600.0, 1532869200.0, 1534683600.0, 1537102800.0, 1537707600.0, 1538917200.0, 1554642000.0, 1555246800.0, 1556456400.0, 1560690000.0, 1562504400.0, 1563714000.0, 1566133200.0, 1567947600.0, 1569157200.0, 1596373200.0, 1598187600.0, 1599397200.0, 1603026000.0, 1278248400.0, 1283086800.0, 1312117200.0, 1567256400.0, 1277557200.0, 1475326800.0, 1559394000.0, 1276952400.0, 1309611600.0, 1339851600.0, 1529758800.0, 1601125200.0, 1440853200.0, 1339246800.0, 1272718800.0, 1344085200.0, 1402750800.0, 1408194000.0, 1308402000.0, 1313240400.0, 1365253200.0, 1399726800.0, 1437224400.0, 1465650000.0, 1306587600.0, 1373720400.0, 1398517200.0, 1430571600.0, 1503147600.0, 1564837200.0, 1279371600.0, 1334408400.0, 1432386000.0, 1498309200.0, 1533992400.0, 1558184400.0, 1275138000.0, 1335618000.0, 1433595600.0, 1535806800.0, 1284210000.0, 1304168400.0, 1374930000.0, 1443877200.0, 1460206800.0, 1494075600.0, 1271509200.0, 1273928400.0, 1278162000.0, 1279976400.0, 1281186000.0, 1281790800.0, 1283000400.0, 1283605200.0, 1286024400.0, 1302354000.0, 1302958800.0, 1302958800.0, 1305378000.0, 1310821200.0, 1312030800.0, 1313845200.0, 1315054800.0, 1316264400.0, 1338037200.0, 1341061200.0, 1342270800.0, 1343480400.0, 1345294800.0, 1346504400.0, 1347714000.0, 1348923600.0, 1367672400.0, 1368882000.0, 1370091600.0, 1371301200.0, 1372510800.0, 1376139600.0, 1376744400.0, 1377954000.0, 1379163600.0, 1380373200.0, 1397307600.0, 1399122000.0, 1400936400.0, 1404565200.0, 1405774800.0, 1406379600.0, 1407589200.0, 1409403600.0, 1411218000.0, 1428757200.0, 1434805200.0, 1436014800.0, 1439038800.0, 1439643600.0, 1442062800.0, 1442667600.0, 1461416400.0, 1462626000.0, 1464440400.0, 1466859600.0, 1467464400.0, 1468674000.0, 1469883600.0, 1471698000.0, 1473512400.0, 1474117200.0, 1492261200.0, 1495285200.0, 1497099600.0, 1497099600.0, 1497704400.0, 1500123600.0, 1501938000.0, 1503752400.0, 1504962000.0, 1505566800.0, 1506171600.0, 1522501200.0, 1524315600.0, 1525525200.0, 1526734800.0, 1527944400.0, 1529154000.0, 1531573200.0, 1532782800.0, 1534597200.0, 1537016400.0, 1537621200.0, 1554555600.0, 1555160400.0, 1556370000.0, 1560603600.0, 1562418000.0, 1563627600.0, 1566046800.0, 1567861200.0, 1569070800.0, 1596286800.0, 1598101200.0, 1599310800.0, 1602939600.0, 1278162000.0, 1283000400.0, 1312030800.0, 1567191600.0, 1277492400.0, 1475262000.0, 1559329200.0, 1276887600.0, 1309546800.0, 1339786800.0, 1529694000.0, 1601060400.0, 1440788400.0, 1339182000.0, 1272654000.0, 1344020400.0, 1402686000.0, 1408129200.0, 1308337200.0, 1313175600.0, 1365188400.0, 1399662000.0, 1437159600.0, 1465585200.0, 1306522800.0, 1373655600.0, 1398452400.0, 1430506800.0, 1503082800.0, 1564772400.0, 1279306800.0, 1334343600.0, 1432321200.0, 1498244400.0, 1533927600.0, 1558119600.0, 1275073200.0, 1335553200.0, 1433530800.0, 1535742000.0, 1284145200.0, 1304103600.0, 1349463600.0, 1374865200.0, 1443812400.0, 1460142000.0, 1494010800.0, 1570215600.0, 1271444400.0, 1273863600.0, 1278097200.0, 1279911600.0, 1281121200.0, 1281726000.0, 1282935600.0, 1283540400.0, 1285959600.0, 1302289200.0, 1302894000.0, 1305313200.0, 1310756400.0, 1311966000.0, 1313780400.0, 1314990000.0, 1316199600.0, 1337972400.0, 1340996400.0, 1342206000.0, 1343415600.0, 1345230000.0, 1346439600.0, 1347649200.0, 1348858800.0, 1367607600.0, 1368817200.0, 1370026800.0, 1371236400.0, 1372446000.0, 1376074800.0, 1376679600.0, 1377889200.0, 1379098800.0, 1380308400.0, 1380913200.0, 1397242800.0, 1399057200.0, 1400871600.0, 1404500400.0, 1405710000.0, 1406314800.0, 1407524400.0, 1409338800.0, 1411153200.0, 1428692400.0, 1434740400.0, 1435950000.0, 1438974000.0, 1439578800.0, 1441998000.0, 1442602800.0, 1461351600.0, 1462561200.0, 1464375600.0, 1466794800.0, 1467399600.0, 1468609200.0, 1469818800.0, 1471633200.0, 1473447600.0, 1474052400.0, 1492196400.0, 1495220400.0, 1497034800.0, 1497639600.0, 1500058800.0, 1501873200.0, 1503687600.0, 1504897200.0, 1505502000.0, 1506106800.0, 1522436400.0, 1524250800.0, 1525460400.0, 1526670000.0, 1527879600.0, 1529089200.0, 1531508400.0, 1532718000.0, 1534532400.0, 1536951600.0, 1537556400.0, 1554490800.0, 1555095600.0, 1556305200.0, 1560538800.0, 1562353200.0, 1563562800.0, 1565982000.0, 1567796400.0, 1569006000.0, 1596222000.0, 1598036400.0, 1599246000.0, 1599246000.0, 1602874800.0, 1278097200.0, 1282935600.0, 1311966000.0, 1377802800.0, 1434654000.0, 1276801200.0, 1596135600.0, 1369940400.0, 1442516400.0, 1495134000.0, 1596740400.0, 1270753200.0, 1341514800.0, 1526583600.0, 1535655600.0, 1554404400.0, 1274382000.0, 1373569200.0, 1430420400.0, 1466103600.0, 1564686000.0, 1601578800.0, 1279220400.0, 1304622000.0, 1400785200.0, 1432234800.0, 1464289200.0, 1311879600.0, 1411671600.0, 1470337200.0, 1495738800.0, 1560452400.0, 1284058800.0, 1558033200.0, 1570129200.0, 1271962800.0, 1274986800.0, 1279825200.0, 1281034800.0, 1282244400.0, 1283454000.0, 1302807600.0, 1305226800.0, 1307646000.0, 1308250800.0, 1310065200.0, 1313694000.0, 1314903600.0, 1336071600.0, 1337281200.0, 1340910000.0, 1342724400.0, 1343934000.0, 1345143600.0, 1346958000.0, 1348772400.0, 1365102000.0, 1367521200.0, 1371754800.0, 1372964400.0, 1375383600.0, 1380222000.0, 1380826800.0, 1397156400.0, 1406228400.0, 1408042800.0, 1434049200.0, 1435863600.0, 1438887600.0, 1441911600.0, 1443726000.0, 1461265200.0, 1463079600.0, 1464894000.0, 1466708400.0, 1467313200.0, 1469732400.0, 1471546800.0, 1472756400.0, 1475175600.0, 1492714800.0, 1493924400.0, 1496948400.0, 1498158000.0, 1501786800.0, 1504810800.0, 1506020400.0, 1522350000.0, 1524164400.0, 1527793200.0, 1529002800.0, 1532631600.0, 1534446000.0, 1537470000.0, 1555009200.0, 1555614000.0, 1556823600.0, 1562266800.0, 1563476400.0, 1565895600.0, 1566500400.0, 1567710000.0, 1568919600.0, 1600974000.0, 1602788400.0, 1302807600.0, 1377716400.0, 1467226800.0, 1366225200.0, 1563994800.0, 1369249200.0, 1471460400.0, 1434567600.0, 1536174000.0, 1339614000.0, 1598468400.0, 1598468400.0, 1276714800.0, 1432148400.0, 1535569200.0, 1596049200.0, 1308769200.0, 1369854000.0, 1442430000.0, 1495047600.0, 1531335600.0, 1596654000.0, 1499281200.0, 1401908400.0, 1503514800.0, 1504724400.0, 1504724400.0, 1270666800.0, 1341428400.0, 1500490800.0, 1526497200.0, 1554318000.0, 1274295600.0, 1466017200.0, 1530126000.0, 1601492400.0, 1304535600.0, 1304535600.0, 1380135600.0, 1400698800.0, 1464202800.0, 1311793200.0, 1370458800.0, 1411585200.0, 1470250800.0, 1495652400.0, 1560366000.0, 1338404400.0, 1399489200.0, 1537383600.0, 1557946800.0, 1570647600.0, 1271876400.0, 1274900400.0, 1275505200.0, 1277924400.0, 1279738800.0, 1280948400.0, 1282158000.0, 1283367600.0, 1284577200.0, 1285786800.0, 1302721200.0, 1305140400.0, 1306954800.0, 1307559600.0, 1308164400.0, 1309978800.0, 1313002800.0, 1313607600.0, 1314817200.0, 1316026800.0, 1316631600.0, 1317236400.0, 1334775600.0, 1335985200.0, 1337194800.0, 1340823600.0, 1342638000.0, 1343847600.0, 1345057200.0, 1346871600.0, 1348686000.0, 1365015600.0, 1367434800.0, 1371668400.0, 1372878000.0, 1375297200.0, 1376506800.0, 1378321200.0, 1397070000.0, 1398279600.0, 1403118000.0, 1404327600.0, 1406142000.0, 1407956400.0, 1409770800.0, 1410980400.0, 1429124400.0, 1430334000.0, 1430938800.0, 1433962800.0, 1435777200.0, 1437591600.0, 1438801200.0, 1440615600.0, 1441220400.0, 1443639600.0, 1459969200.0, 1461178800.0, 1462993200.0, 1464807600.0, 1472670000.0, 1473879600.0, 1475089200.0, 1492628400.0, 1493838000.0, 1496862000.0, 1498071600.0, 1501700400.0, 1502305200.0, 1505934000.0, 1522868400.0, 1524078000.0, 1527706800.0, 1528916400.0, 1533150000.0, 1534359600.0, 1555527600.0, 1556737200.0, 1559156400.0, 1560970800.0, 1562180400.0, 1565809200.0, 1566414000.0, 1568833200.0, 1597863600.0, 1599678000.0, 1600887600.0, 1602097200.0, 1602702000.0, 1285786800.0, 1302721200.0, 1316026800.0, 1377630000.0, 1467140400.0, 1366138800.0, 1563908400.0, 1369162800.0, 1471374000.0, 1401217200.0, 1461697200.0, 1536087600.0, 1339527600.0, 1598382000.0, 1276628400.0, 1432062000.0, 1535482800.0, 1308682800.0, 1442343600.0, 1531249200.0, 1567537200.0, 1596567600.0, 1305658800.0, 1499194800.0, 1401822000.0, 1503428400.0, 1504638000.0, 1341342000.0, 1500404400.0, 1526410800.0, 1337108400.0, 1465930800.0, 1530039600.0, 1304449200.0, 1380049200.0, 1400612400.0, 1464116400.0, 1311706800.0, 1370372400.0, 1411498800.0, 1470164400.0, 1495566000.0, 1560279600.0, 1338318000.0, 1399402800.0, 1537297200.0, 1557860400.0, 1271790000.0, 1274209200.0, 1274814000.0, 1275418800.0, 1277838000.0, 1279652400.0, 1280862000.0, 1282071600.0, 1283281200.0, 1284490800.0, 1285700400.0, 1302634800.0, 1305054000.0, 1306868400.0, 1307473200.0, 1308078000.0, 1309892400.0, 1312916400.0, 1313521200.0, 1314730800.0, 1315940400.0, 1316545200.0, 1317150000.0, 1334689200.0, 1335898800.0, 1340737200.0, 1342551600.0, 1343761200.0, 1344970800.0, 1346785200.0, 1348599600.0, 1367348400.0, 1371582000.0, 1371582000.0, 1372791600.0, 1375210800.0, 1376420400.0, 1378234800.0, 1396983600.0, 1398193200.0, 1403031600.0, 1404241200.0, 1406055600.0, 1407870000.0, 1409684400.0, 1410894000.0, 1429038000.0, 1430247600.0, 1430852400.0, 1433876400.0, 1435690800.0, 1437505200.0, 1438714800.0, 1440529200.0, 1441134000.0, 1443553200.0, 1461092400.0, 1462906800.0, 1464721200.0, 1472583600.0, 1473793200.0, 1475002800.0, 1492542000.0, 1493751600.0, 1496775600.0, 1497985200.0, 1501614000.0, 1502218800.0, 1505847600.0, 1522782000.0, 1523991600.0, 1527620400.0, 1528830000.0, 1533063600.0, 1534273200.0, 1555441200.0, 1556650800.0, 1559070000.0, 1560884400.0, 1562094000.0, 1565722800.0, 1566327600.0, 1568746800.0, 1597777200.0, 1599591600.0, 1600801200.0, 1602010800.0, 1602615600.0, 1285700400.0, 1302634800.0, 1315940400.0, 1467054000.0, 1369076400.0, 1401130800.0, 1461610800.0, 1536001200.0, 1339441200.0, 1308596400.0, 1567450800.0, 1305572400.0, 1503342000.0, 1504551600.0, 1270494000.0, 1341255600.0, 1500318000.0, 1554145200.0, 1337022000.0, 1465844400.0, 1529953200.0, 1304362800.0, 1379962800.0, 1400526000.0, 1311620400.0, 1335812400.0, 1370286000.0, 1411412400.0, 1495479600.0, 1560193200.0, 1338231600.0, 1399316400.0, 1537210800.0, 1274122800.0, 1275332400.0, 1277751600.0, 1280775600.0, 1281985200.0, 1283194800.0, 1284404400.0, 1285614000.0, 1286823600.0, 1306782000.0, 1309806000.0, 1312830000.0, 1313434800.0, 1315854000.0, 1316458800.0, 1317063600.0, 1334602800.0, 1343674800.0, 1344884400.0, 1346698800.0, 1364842800.0, 1367262000.0, 1371495600.0, 1375124400.0, 1376334000.0, 1378148400.0, 1398106800.0, 1402945200.0, 1404154800.0, 1405969200.0, 1406574000.0, 1407783600.0, 1409598000.0, 1410807600.0, 1428951600.0, 1430161200.0, 1430766000.0, 1433790000.0, 1437418800.0, 1438628400.0, 1440442800.0, 1441047600.0, 1459796400.0, 1464634800.0, 1473706800.0, 1492455600.0, 1493665200.0, 1496689200.0, 1497898800.0, 1522695600.0, 1523905200.0, 1527534000.0, 1527534000.0, 1532977200.0, 1534186800.0, 1534186800.0, 1539025200.0, 1556564400.0, 1560798000.0, 1596481200.0, 1597690800.0, 1599505200.0, 1600714800.0, 1602529200.0, 1285614000.0, 1315854000.0]\n"
     ]
    }
   ],
   "source": [
    "#convert time to timestamp\n",
    "from datetime import date,time, datetime as dt\n",
    "timestamps=[]\n",
    "for n in range(0,908):\n",
    "    date = df8['time'][n][:-1]\n",
    "    datetime_obj=dt.strptime(date,'%a %I%p %b %d %Y')\n",
    "    timestamp=(datetime_obj-dt(1970,1,1)).total_seconds()\n",
    "    timestamps.append(timestamp)\n",
    "    n+=1\n",
    "print(timestamps)"
   ]
  },
  {
   "cell_type": "code",
   "execution_count": 20,
   "metadata": {},
   "outputs": [
    {
     "data": {
      "text/html": [
       "<div>\n",
       "<style scoped>\n",
       "    .dataframe tbody tr th:only-of-type {\n",
       "        vertical-align: middle;\n",
       "    }\n",
       "\n",
       "    .dataframe tbody tr th {\n",
       "        vertical-align: top;\n",
       "    }\n",
       "\n",
       "    .dataframe thead th {\n",
       "        text-align: right;\n",
       "    }\n",
       "</style>\n",
       "<table border=\"1\" class=\"dataframe\">\n",
       "  <thead>\n",
       "    <tr style=\"text-align: right;\">\n",
       "      <th></th>\n",
       "      <th>away_team</th>\n",
       "      <th>away_team_score</th>\n",
       "      <th>day</th>\n",
       "      <th>date</th>\n",
       "      <th>home_team</th>\n",
       "      <th>home_team_score</th>\n",
       "      <th>season</th>\n",
       "      <th>year</th>\n",
       "      <th>time</th>\n",
       "      <th>game_id</th>\n",
       "      <th>timestamp</th>\n",
       "    </tr>\n",
       "  </thead>\n",
       "  <tbody>\n",
       "    <tr>\n",
       "      <th>NaN</th>\n",
       "      <td>chw</td>\n",
       "      <td>3</td>\n",
       "      <td>Sun 1pm</td>\n",
       "      <td>Sep 1</td>\n",
       "      <td>atl</td>\n",
       "      <td>5</td>\n",
       "      <td>Regular Season</td>\n",
       "      <td>2019</td>\n",
       "      <td>Sun 1pm Sep 1  2019</td>\n",
       "      <td>401076786.0</td>\n",
       "      <td>1.567343e+09</td>\n",
       "    </tr>\n",
       "    <tr>\n",
       "      <th>NaN</th>\n",
       "      <td>det</td>\n",
       "      <td>10</td>\n",
       "      <td>Sun 1pm</td>\n",
       "      <td>Jun 27</td>\n",
       "      <td>atl</td>\n",
       "      <td>4</td>\n",
       "      <td>Regular Season</td>\n",
       "      <td>2010</td>\n",
       "      <td>Sun 1pm Jun 27  2010</td>\n",
       "      <td>300627115.0</td>\n",
       "      <td>1.277644e+09</td>\n",
       "    </tr>\n",
       "    <tr>\n",
       "      <th>NaN</th>\n",
       "      <td>det</td>\n",
       "      <td>0</td>\n",
       "      <td>Sun 1pm</td>\n",
       "      <td>Oct 2</td>\n",
       "      <td>atl</td>\n",
       "      <td>1</td>\n",
       "      <td>Regular Season</td>\n",
       "      <td>2016</td>\n",
       "      <td>Sun 1pm Oct 2  2016</td>\n",
       "      <td>361002115.0</td>\n",
       "      <td>1.475413e+09</td>\n",
       "    </tr>\n",
       "    <tr>\n",
       "      <th>NaN</th>\n",
       "      <td>det</td>\n",
       "      <td>4</td>\n",
       "      <td>Sun 1pm</td>\n",
       "      <td>Jun 2</td>\n",
       "      <td>atl</td>\n",
       "      <td>7</td>\n",
       "      <td>Regular Season</td>\n",
       "      <td>2019</td>\n",
       "      <td>Sun 1pm Jun 2  2019</td>\n",
       "      <td>401075618.0</td>\n",
       "      <td>1.559480e+09</td>\n",
       "    </tr>\n",
       "    <tr>\n",
       "      <th>NaN</th>\n",
       "      <td>kc</td>\n",
       "      <td>5</td>\n",
       "      <td>Sun 1pm</td>\n",
       "      <td>Jun 20</td>\n",
       "      <td>atl</td>\n",
       "      <td>8</td>\n",
       "      <td>Regular Season</td>\n",
       "      <td>2010</td>\n",
       "      <td>Sun 1pm Jun 20  2010</td>\n",
       "      <td>300620115.0</td>\n",
       "      <td>1.277039e+09</td>\n",
       "    </tr>\n",
       "    <tr>\n",
       "      <th>...</th>\n",
       "      <td>...</td>\n",
       "      <td>...</td>\n",
       "      <td>...</td>\n",
       "      <td>...</td>\n",
       "      <td>...</td>\n",
       "      <td>...</td>\n",
       "      <td>...</td>\n",
       "      <td>...</td>\n",
       "      <td>...</td>\n",
       "      <td>...</td>\n",
       "      <td>...</td>\n",
       "    </tr>\n",
       "    <tr>\n",
       "      <th>NaN</th>\n",
       "      <td>mia</td>\n",
       "      <td>5</td>\n",
       "      <td>Mon 7pm</td>\n",
       "      <td>Sep 7</td>\n",
       "      <td>atl</td>\n",
       "      <td>4 F/10</td>\n",
       "      <td>Regular Season</td>\n",
       "      <td>2020</td>\n",
       "      <td>Mon 7pm Sep 7  2020</td>\n",
       "      <td>401226292.0</td>\n",
       "      <td>1.599505e+09</td>\n",
       "    </tr>\n",
       "    <tr>\n",
       "      <th>NaN</th>\n",
       "      <td>mia</td>\n",
       "      <td>4</td>\n",
       "      <td>Mon 7pm</td>\n",
       "      <td>Sep 21</td>\n",
       "      <td>atl</td>\n",
       "      <td>5</td>\n",
       "      <td>Regular Season</td>\n",
       "      <td>2020</td>\n",
       "      <td>Mon 7pm Sep 21  2020</td>\n",
       "      <td>401226476.0</td>\n",
       "      <td>1.600715e+09</td>\n",
       "    </tr>\n",
       "    <tr>\n",
       "      <th>NaN</th>\n",
       "      <td>lad</td>\n",
       "      <td>1</td>\n",
       "      <td>Mon 7pm</td>\n",
       "      <td>Oct 12</td>\n",
       "      <td>atl</td>\n",
       "      <td>5</td>\n",
       "      <td>League Championship Series</td>\n",
       "      <td>2020</td>\n",
       "      <td>Mon 7pm Oct 12  2020</td>\n",
       "      <td>401246380.0</td>\n",
       "      <td>1.602529e+09</td>\n",
       "    </tr>\n",
       "    <tr>\n",
       "      <th>NaN</th>\n",
       "      <td>mia</td>\n",
       "      <td>1 F/11</td>\n",
       "      <td>Mon 7pm</td>\n",
       "      <td>Sep 27</td>\n",
       "      <td>atl</td>\n",
       "      <td>2</td>\n",
       "      <td>Regular Season</td>\n",
       "      <td>2010</td>\n",
       "      <td>Mon 7pm Sep 27  2010</td>\n",
       "      <td>300927115.0</td>\n",
       "      <td>1.285614e+09</td>\n",
       "    </tr>\n",
       "    <tr>\n",
       "      <th>NaN</th>\n",
       "      <td>mia</td>\n",
       "      <td>5</td>\n",
       "      <td>Mon 7pm</td>\n",
       "      <td>Sep 12</td>\n",
       "      <td>atl</td>\n",
       "      <td>4 F/12</td>\n",
       "      <td>Regular Season</td>\n",
       "      <td>2011</td>\n",
       "      <td>Mon 7pm Sep 12  2011</td>\n",
       "      <td>310912115.0</td>\n",
       "      <td>1.315854e+09</td>\n",
       "    </tr>\n",
       "  </tbody>\n",
       "</table>\n",
       "<p>908 rows × 11 columns</p>\n",
       "</div>"
      ],
      "text/plain": [
       "    away_team away_team_score      day       date home_team home_team_score  \\\n",
       "NaN       chw               3  Sun 1pm    Sep 1         atl               5   \n",
       "NaN       det              10  Sun 1pm   Jun 27         atl               4   \n",
       "NaN       det               0  Sun 1pm    Oct 2         atl               1   \n",
       "NaN       det               4  Sun 1pm    Jun 2         atl               7   \n",
       "NaN        kc               5  Sun 1pm   Jun 20         atl               8   \n",
       "..        ...             ...      ...        ...       ...             ...   \n",
       "NaN       mia               5  Mon 7pm    Sep 7         atl          4 F/10   \n",
       "NaN       mia               4  Mon 7pm   Sep 21         atl               5   \n",
       "NaN       lad               1  Mon 7pm   Oct 12         atl               5   \n",
       "NaN       mia          1 F/11  Mon 7pm   Sep 27         atl               2   \n",
       "NaN       mia               5  Mon 7pm   Sep 12         atl          4 F/12   \n",
       "\n",
       "                         season   year                   time      game_id  \\\n",
       "NaN              Regular Season  2019    Sun 1pm Sep 1  2019   401076786.0   \n",
       "NaN              Regular Season  2010   Sun 1pm Jun 27  2010   300627115.0   \n",
       "NaN              Regular Season  2016    Sun 1pm Oct 2  2016   361002115.0   \n",
       "NaN              Regular Season  2019    Sun 1pm Jun 2  2019   401075618.0   \n",
       "NaN              Regular Season  2010   Sun 1pm Jun 20  2010   300620115.0   \n",
       "..                          ...    ...                    ...          ...   \n",
       "NaN              Regular Season  2020    Mon 7pm Sep 7  2020   401226292.0   \n",
       "NaN              Regular Season  2020   Mon 7pm Sep 21  2020   401226476.0   \n",
       "NaN  League Championship Series  2020   Mon 7pm Oct 12  2020   401246380.0   \n",
       "NaN              Regular Season  2010   Mon 7pm Sep 27  2010   300927115.0   \n",
       "NaN              Regular Season  2011   Mon 7pm Sep 12  2011   310912115.0   \n",
       "\n",
       "        timestamp  \n",
       "NaN  1.567343e+09  \n",
       "NaN  1.277644e+09  \n",
       "NaN  1.475413e+09  \n",
       "NaN  1.559480e+09  \n",
       "NaN  1.277039e+09  \n",
       "..            ...  \n",
       "NaN  1.599505e+09  \n",
       "NaN  1.600715e+09  \n",
       "NaN  1.602529e+09  \n",
       "NaN  1.285614e+09  \n",
       "NaN  1.315854e+09  \n",
       "\n",
       "[908 rows x 11 columns]"
      ]
     },
     "execution_count": 20,
     "metadata": {},
     "output_type": "execute_result"
    }
   ],
   "source": [
    "#add timestamp column\n",
    "df8[\"timestamp\"]=timestamps\n",
    "df8"
   ]
  },
  {
   "cell_type": "code",
   "execution_count": null,
   "metadata": {},
   "outputs": [],
   "source": []
  },
  {
   "cell_type": "code",
   "execution_count": null,
   "metadata": {},
   "outputs": [],
   "source": []
  },
  {
   "cell_type": "code",
   "execution_count": 21,
   "metadata": {},
   "outputs": [],
   "source": [
    "path =  \"Resources/atlanta_weather_history.json\"\n",
    "openweather_data = json.load(open(path))\n",
    "\n",
    "##Only two inputs are a list of timestamps and list of game IDs\n",
    "timestamp_list = timestamps\n",
    "game_ids = [1, 2, 3, 4, 5]\n",
    "\n",
    "for value in openweather_data:\n",
    "    if timestamp == value['dt']:\n",
    "        output = [[value['main']['temp'], \n",
    "            value['main']['humidity'], \n",
    "            value['clouds']['all'],\n",
    "            value['weather'][0]['main'],\n",
    "            value['wind']['speed']]]\n"
   ]
  },
  {
   "cell_type": "code",
   "execution_count": 22,
   "metadata": {},
   "outputs": [
    {
     "data": {
      "text/plain": [
       "[[1567342800, 22.46, 78, 75, 'Clouds', 2.1]]"
      ]
     },
     "metadata": {},
     "output_type": "display_data"
    },
    {
     "data": {
      "text/plain": [
       "[[1277643600, 26.11, 69, 1, 'Clear', 2.1]]"
      ]
     },
     "metadata": {},
     "output_type": "display_data"
    },
    {
     "data": {
      "text/plain": [
       "[[1475413200, 15.65, 82, 1, 'Clear', 1.12]]"
      ]
     },
     "metadata": {},
     "output_type": "display_data"
    },
    {
     "data": {
      "text/plain": [
       "[[1559480400, 21.5, 63, 1, 'Clear', 1.5]]"
      ]
     },
     "metadata": {},
     "output_type": "display_data"
    },
    {
     "data": {
      "text/plain": [
       "[[1277038800, 25.23, 81, 40, 'Haze', 1.76]]"
      ]
     },
     "metadata": {},
     "output_type": "display_data"
    },
    {
     "data": {
      "text/plain": [
       "[[1309698000, 25.2, 76, 1, 'Clear', 2.1]]"
      ]
     },
     "metadata": {},
     "output_type": "display_data"
    },
    {
     "data": {
      "text/plain": [
       "[[1339938000, 20.81, 75, 1, 'Clear', 1.62]]"
      ]
     },
     "metadata": {},
     "output_type": "display_data"
    },
    {
     "data": {
      "text/plain": [
       "[[1529845200, 26.13, 89, 1, 'Clear', 2.57]]"
      ]
     },
     "metadata": {},
     "output_type": "display_data"
    },
    {
     "data": {
      "text/plain": [
       "[[1601211600, 19.37, 89, 75, 'Rain', 1.5]]"
      ]
     },
     "metadata": {},
     "output_type": "display_data"
    },
    {
     "data": {
      "text/plain": [
       "[[1440939600, 21.44, 81, 90, 'Rain', 2.1]]"
      ]
     },
     "metadata": {},
     "output_type": "display_data"
    },
    {
     "data": {
      "text/plain": [
       "[[1339333200, 19.24, 88, 90, 'Rain', 3.1]]"
      ]
     },
     "metadata": {},
     "output_type": "display_data"
    },
    {
     "data": {
      "text/plain": [
       "[[1272805200, 23.46, 84, 90, 'Clouds', 3.1]]"
      ]
     },
     "metadata": {},
     "output_type": "display_data"
    },
    {
     "data": {
      "text/plain": [
       "[[1344171600, 23.61, 79, 1, 'Clear', 1.5]]"
      ]
     },
     "metadata": {},
     "output_type": "display_data"
    },
    {
     "data": {
      "text/plain": [
       "[[1402837200, 23.67, 84, 90, 'Clouds', 0.17]]"
      ]
     },
     "metadata": {},
     "output_type": "display_data"
    },
    {
     "data": {
      "text/plain": [
       "[[1408280400, 22.7, 81, 90, 'Clouds', 1.47]]"
      ]
     },
     "metadata": {},
     "output_type": "display_data"
    },
    {
     "data": {
      "text/plain": [
       "[[1308488400, 24.05, 87, 1, 'Rain', 3.1]]"
      ]
     },
     "metadata": {},
     "output_type": "display_data"
    },
    {
     "data": {
      "text/plain": [
       "[[1313326800, 24.92, 73, 1, 'Clear', 3.1]]"
      ]
     },
     "metadata": {},
     "output_type": "display_data"
    },
    {
     "data": {
      "text/plain": [
       "[[1365339600, 11.82, 79, 1, 'Clear', 2.16]]"
      ]
     },
     "metadata": {},
     "output_type": "display_data"
    },
    {
     "data": {
      "text/plain": [
       "[[1399813200, 18.87, 96, 90, 'Mist', 1.18]]"
      ]
     },
     "metadata": {},
     "output_type": "display_data"
    },
    {
     "data": {
      "text/plain": [
       "[[1437310800, 26.13, 81, 1, 'Clear', 2.73]]"
      ]
     },
     "metadata": {},
     "output_type": "display_data"
    },
    {
     "data": {
      "text/plain": [
       "[[1465736400, 25.56, 69, 20, 'Clouds', 2.6]]"
      ]
     },
     "metadata": {},
     "output_type": "display_data"
    },
    {
     "data": {
      "text/plain": [
       "[[1306674000, 22.68, 78, 1, 'Haze', 1.5]]"
      ]
     },
     "metadata": {},
     "output_type": "display_data"
    },
    {
     "data": {
      "text/plain": [
       "[[1373806800, 22.93, 90, 90, 'Clouds', 4.6]]"
      ]
     },
     "metadata": {},
     "output_type": "display_data"
    },
    {
     "data": {
      "text/plain": [
       "[[1398603600, 16.44, 83, 1, 'Clear', 1]]"
      ]
     },
     "metadata": {},
     "output_type": "display_data"
    },
    {
     "data": {
      "text/plain": [
       "[[1430658000, 15.42, 77, 1, 'Clear', 0.24]]"
      ]
     },
     "metadata": {},
     "output_type": "display_data"
    },
    {
     "data": {
      "text/plain": [
       "[[1503234000, 24.89, 89, 1, 'Clear', 0.51]]"
      ]
     },
     "metadata": {},
     "output_type": "display_data"
    },
    {
     "data": {
      "text/plain": [
       "[[1564923600, 21.67, 93, 90, 'Rain', 2.1]]"
      ]
     },
     "metadata": {},
     "output_type": "display_data"
    },
    {
     "data": {
      "text/plain": [
       "[[1279458000, 24.46, 84, 90, 'Clouds', 2.6]]"
      ]
     },
     "metadata": {},
     "output_type": "display_data"
    },
    {
     "data": {
      "text/plain": [
       "[[1334494800, 15.97, 77, 75, 'Clouds', 1.5]]"
      ]
     },
     "metadata": {},
     "output_type": "display_data"
    },
    {
     "data": {
      "text/plain": [
       "[[1432472400, 19.76, 72, 75, 'Clouds', 4.6]]"
      ]
     },
     "metadata": {},
     "output_type": "display_data"
    },
    {
     "data": {
      "text/plain": [
       "[[1498395600, 20.28, 87, 1, 'Clear', 2.1]]"
      ]
     },
     "metadata": {},
     "output_type": "display_data"
    },
    {
     "data": {
      "text/plain": [
       "[[1534078800, 23.85, 89, 1, 'Clear', 2.13]]"
      ]
     },
     "metadata": {},
     "output_type": "display_data"
    },
    {
     "data": {
      "text/plain": [
       "[[1558270800, 21.67, 81, 40, 'Clouds', 1.5]]"
      ]
     },
     "metadata": {},
     "output_type": "display_data"
    },
    {
     "data": {
      "text/plain": [
       "[[1275224400, 21.99, 81, 90, 'Clouds', 2.1]]"
      ]
     },
     "metadata": {},
     "output_type": "display_data"
    },
    {
     "data": {
      "text/plain": [
       "[[1335704400, 19.97, 89, 90, 'Mist', 2.1]]"
      ]
     },
     "metadata": {},
     "output_type": "display_data"
    },
    {
     "data": {
      "text/plain": [
       "[[1433682000, 24.38, 71, 1, 'Clear', 1.5]]"
      ]
     },
     "metadata": {},
     "output_type": "display_data"
    },
    {
     "data": {
      "text/plain": [
       "[[1535893200, 24.19, 89, 20, 'Clouds', 3.09]]"
      ]
     },
     "metadata": {},
     "output_type": "display_data"
    },
    {
     "data": {
      "text/plain": [
       "[[1284296400, 22.23, 90, 90, 'Mist', 2.1]]"
      ]
     },
     "metadata": {},
     "output_type": "display_data"
    },
    {
     "data": {
      "text/plain": [
       "[[1304254800, 17.33, 70, 1, 'Clear', 1.5]]"
      ]
     },
     "metadata": {},
     "output_type": "display_data"
    },
    {
     "data": {
      "text/plain": [
       "[[1375016400, 22.97, 87, 1, 'Mist', 0.65]]"
      ]
     },
     "metadata": {},
     "output_type": "display_data"
    },
    {
     "data": {
      "text/plain": [
       "[[1443963600, 18.52, 89, 90, 'Rain', 1.5]]"
      ]
     },
     "metadata": {},
     "output_type": "display_data"
    },
    {
     "data": {
      "text/plain": [
       "[[1443963600, 18.52, 89, 90, 'Rain', 1.5]]"
      ]
     },
     "metadata": {},
     "output_type": "display_data"
    },
    {
     "data": {
      "text/plain": [
       "[[1460293200, 6.55, 62, 1, 'Clear', 2.6]]"
      ]
     },
     "metadata": {},
     "output_type": "display_data"
    },
    {
     "data": {
      "text/plain": [
       "[[1494162000, 13.08, 77, 1, 'Clear', 3.1]]"
      ]
     },
     "metadata": {},
     "output_type": "display_data"
    },
    {
     "data": {
      "text/plain": [
       "[[1271595600, 12.79, 52, 1, 'Clear', 2.1]]"
      ]
     },
     "metadata": {},
     "output_type": "display_data"
    },
    {
     "data": {
      "text/plain": [
       "[[1274014800, 21.95, 81, 20, 'Clouds', 2.1]]"
      ]
     },
     "metadata": {},
     "output_type": "display_data"
    },
    {
     "data": {
      "text/plain": [
       "[[1278248400, 21.79, 73, 1, 'Clear', 1.28]]"
      ]
     },
     "metadata": {},
     "output_type": "display_data"
    },
    {
     "data": {
      "text/plain": [
       "[[1280062800, 28.18, 74, 1, 'Clear', 1.5]]"
      ]
     },
     "metadata": {},
     "output_type": "display_data"
    },
    {
     "data": {
      "text/plain": [
       "[[1281272400, 25.95, 84, 1, 'Haze', 1.5]]"
      ]
     },
     "metadata": {},
     "output_type": "display_data"
    },
    {
     "data": {
      "text/plain": [
       "[[1281877200, 25.14, 90, 90, 'Mist', 2.37]]"
      ]
     },
     "metadata": {},
     "output_type": "display_data"
    },
    {
     "data": {
      "text/plain": [
       "[[1283086800, 23.02, 87, 75, 'Clouds', 3.6]]"
      ]
     },
     "metadata": {},
     "output_type": "display_data"
    },
    {
     "data": {
      "text/plain": [
       "[[1283691600, 16.83, 72, 1, 'Clear', 2.15]]"
      ]
     },
     "metadata": {},
     "output_type": "display_data"
    },
    {
     "data": {
      "text/plain": [
       "[[1286110800, 12.49, 74, 1, 'Clear', 3.1]]"
      ]
     },
     "metadata": {},
     "output_type": "display_data"
    },
    {
     "data": {
      "text/plain": [
       "[[1286715600, 12.87, 89, 1, 'Clear', 0.88]]"
      ]
     },
     "metadata": {},
     "output_type": "display_data"
    },
    {
     "data": {
      "text/plain": [
       "[[1302440400, 19.26, 81, 1, 'Clear', 0.7]]"
      ]
     },
     "metadata": {},
     "output_type": "display_data"
    },
    {
     "data": {
      "text/plain": [
       "[[1303045200, 8.25, 65, 1, 'Clear', 3.1]]"
      ]
     },
     "metadata": {},
     "output_type": "display_data"
    },
    {
     "data": {
      "text/plain": [
       "[[1305464400, 14.73, 72, 90, 'Clouds', 4.6]]"
      ]
     },
     "metadata": {},
     "output_type": "display_data"
    },
    {
     "data": {
      "text/plain": [
       "[[1310907600, 22.93, 78, 1, 'Clear', 5.1]]"
      ]
     },
     "metadata": {},
     "output_type": "display_data"
    },
    {
     "data": {
      "text/plain": [
       "[[1312117200, 25.62, 88, 40, 'Clouds', 2.27]]"
      ]
     },
     "metadata": {},
     "output_type": "display_data"
    },
    {
     "data": {
      "text/plain": [
       "[[1313931600, 23.79, 81, 1, 'Haze', 0.36]]"
      ]
     },
     "metadata": {},
     "output_type": "display_data"
    },
    {
     "data": {
      "text/plain": [
       "[[1315141200, 23.56, 73, 1, 'Clear', 2.42]]"
      ]
     },
     "metadata": {},
     "output_type": "display_data"
    },
    {
     "data": {
      "text/plain": [
       "[[1316350800, 15.55, 80, 90, 'Clouds', 4.6]]"
      ]
     },
     "metadata": {},
     "output_type": "display_data"
    },
    {
     "data": {
      "text/plain": [
       "[[1338123600, 24.27, 68, 1, 'Clear', 3.6]]"
      ]
     },
     "metadata": {},
     "output_type": "display_data"
    },
    {
     "data": {
      "text/plain": [
       "[[1341147600, 28.77, 60, 1, 'Clear', 1.5]]"
      ]
     },
     "metadata": {},
     "output_type": "display_data"
    },
    {
     "data": {
      "text/plain": [
       "[[1342357200, 24.6, 84, 40, 'Clouds', 1.51]]"
      ]
     },
     "metadata": {},
     "output_type": "display_data"
    },
    {
     "data": {
      "text/plain": [
       "[[1343566800, 24.83, 74, 1, 'Clear', 1.68]]"
      ]
     },
     "metadata": {},
     "output_type": "display_data"
    },
    {
     "data": {
      "text/plain": [
       "[[1345381200, 20.98, 88, 90, 'Clouds', 2.1]]"
      ]
     },
     "metadata": {},
     "output_type": "display_data"
    },
    {
     "data": {
      "text/plain": [
       "[[1346590800, 24.58, 81, 75, 'Clouds', 1.5]]"
      ]
     },
     "metadata": {},
     "output_type": "display_data"
    },
    {
     "data": {
      "text/plain": [
       "[[1347800400, 21.07, 87, 1, 'Clear', 0.57]]"
      ]
     },
     "metadata": {},
     "output_type": "display_data"
    },
    {
     "data": {
      "text/plain": [
       "[[1349010000, 18.02, 89, 75, 'Clouds', 1.64]]"
      ]
     },
     "metadata": {},
     "output_type": "display_data"
    },
    {
     "data": {
      "text/plain": [
       "[[1367758800, 10.5, 96, 90, 'Clouds', 4.6]]"
      ]
     },
     "metadata": {},
     "output_type": "display_data"
    },
    {
     "data": {
      "text/plain": [
       "[[1368968400, 18.92, 100, 90, 'Thunderstorm', 2.25]]"
      ]
     },
     "metadata": {},
     "output_type": "display_data"
    },
    {
     "data": {
      "text/plain": [
       "[[1370178000, 23.07, 78, 90, 'Clouds', 1.5]]"
      ]
     },
     "metadata": {},
     "output_type": "display_data"
    },
    {
     "data": {
      "text/plain": [
       "[[1371387600, 22.46, 78, 1, 'Clear', 1.5]]"
      ]
     },
     "metadata": {},
     "output_type": "display_data"
    },
    {
     "data": {
      "text/plain": [
       "[[1372597200, 22.41, 86, 40, 'Clouds', 1.5]]"
      ]
     },
     "metadata": {},
     "output_type": "display_data"
    },
    {
     "data": {
      "text/plain": [
       "[[1376226000, 24.36, 87, 1, 'Clear', 1.5]]"
      ]
     },
     "metadata": {},
     "output_type": "display_data"
    },
    {
     "data": {
      "text/plain": [
       "[[1376830800, 20.12, 88, 90, 'Mist', 1.5]]"
      ]
     },
     "metadata": {},
     "output_type": "display_data"
    },
    {
     "data": {
      "text/plain": [
       "[[1378040400, 23.49, 97, 90, 'Mist', 1.5]]"
      ]
     },
     "metadata": {},
     "output_type": "display_data"
    },
    {
     "data": {
      "text/plain": [
       "[[1379250000, 19.08, 84, 90, 'Clouds', 2.6]]"
      ]
     },
     "metadata": {},
     "output_type": "display_data"
    },
    {
     "data": {
      "text/plain": [
       "[[1380459600, 15.41, 83, 1, 'Clear', 2.1]]"
      ]
     },
     "metadata": {},
     "output_type": "display_data"
    },
    {
     "data": {
      "text/plain": [
       "[[1397394000, 15.37, 83, 1, 'Clear', 2.54]]"
      ]
     },
     "metadata": {},
     "output_type": "display_data"
    },
    {
     "data": {
      "text/plain": [
       "[[1399208400, 15.75, 69, 1, 'Clear', 2.62]]"
      ]
     },
     "metadata": {},
     "output_type": "display_data"
    },
    {
     "data": {
      "text/plain": [
       "[[1401022800, 22.25, 78, 1, 'Clear', 1.5]]"
      ]
     },
     "metadata": {},
     "output_type": "display_data"
    },
    {
     "data": {
      "text/plain": [
       "[[1404651600, 22.01, 78, 90, 'Clouds', 2.6]]"
      ]
     },
     "metadata": {},
     "output_type": "display_data"
    },
    {
     "data": {
      "text/plain": [
       "[[1405861200, 19.11, 93, 90, 'Mist', 2.1]]"
      ]
     },
     "metadata": {},
     "output_type": "display_data"
    },
    {
     "data": {
      "text/plain": [
       "[[1406466000, 24.09, 76, 1, 'Clear', 2.1]]"
      ]
     },
     "metadata": {},
     "output_type": "display_data"
    },
    {
     "data": {
      "text/plain": [
       "[[1407675600, 22.99, 90, 90, 'Mist', 0.89]]"
      ]
     },
     "metadata": {},
     "output_type": "display_data"
    },
    {
     "data": {
      "text/plain": [
       "[[1409490000, 22.78, 90, 75, 'Mist', 1.63]]"
      ]
     },
     "metadata": {},
     "output_type": "display_data"
    },
    {
     "data": {
      "text/plain": [
       "[[1411304400, 18.25, 86, 1, 'Clear', 1.74]]"
      ]
     },
     "metadata": {},
     "output_type": "display_data"
    },
    {
     "data": {
      "text/plain": [
       "[[1428843600, 14.66, 83, 40, 'Clouds', 4.23]]"
      ]
     },
     "metadata": {},
     "output_type": "display_data"
    },
    {
     "data": {
      "text/plain": [
       "[[1434891600, 25.96, 79, 1, 'Clear', 1.5]]"
      ]
     },
     "metadata": {},
     "output_type": "display_data"
    },
    {
     "data": {
      "text/plain": [
       "[[1436101200, 21.7, 84, 90, 'Clouds', 3.6]]"
      ]
     },
     "metadata": {},
     "output_type": "display_data"
    },
    {
     "data": {
      "text/plain": [
       "[[1439125200, 25.27, 76, 1, 'Clear', 1.48]]"
      ]
     },
     "metadata": {},
     "output_type": "display_data"
    },
    {
     "data": {
      "text/plain": [
       "[[1439730000, 23.73, 76, 1, 'Clear', 1.5]]"
      ]
     },
     "metadata": {},
     "output_type": "display_data"
    },
    {
     "data": {
      "text/plain": [
       "[[1442149200, 13.73, 74, 1, 'Clear', 3.6]]"
      ]
     },
     "metadata": {},
     "output_type": "display_data"
    },
    {
     "data": {
      "text/plain": [
       "[[1442754000, 20.45, 80, 1, 'Clear', 1.23]]"
      ]
     },
     "metadata": {},
     "output_type": "display_data"
    },
    {
     "data": {
      "text/plain": [
       "[[1461502800, 16.19, 72, 1, 'Clear', 3.51]]"
      ]
     },
     "metadata": {},
     "output_type": "display_data"
    },
    {
     "data": {
      "text/plain": [
       "[[1462712400, 19.26, 61, 1, 'Clear', 3.1]]"
      ]
     },
     "metadata": {},
     "output_type": "display_data"
    },
    {
     "data": {
      "text/plain": [
       "[[1464526800, 22.07, 78, 1, 'Clear', 0.78]]"
      ]
     },
     "metadata": {},
     "output_type": "display_data"
    },
    {
     "data": {
      "text/plain": [
       "[[1466946000, 26.09, 66, 1, 'Clear', 4.1]]"
      ]
     },
     "metadata": {},
     "output_type": "display_data"
    },
    {
     "data": {
      "text/plain": [
       "[[1467550800, 26.83, 64, 1, 'Clear', 0.4]]"
      ]
     },
     "metadata": {},
     "output_type": "display_data"
    },
    {
     "data": {
      "text/plain": [
       "[[1468760400, 24.5, 76, 1, 'Clear', 2.1]]"
      ]
     },
     "metadata": {},
     "output_type": "display_data"
    },
    {
     "data": {
      "text/plain": [
       "[[1469970000, 25.41, 81, 1, 'Clear', 1.34]]"
      ]
     },
     "metadata": {},
     "output_type": "display_data"
    },
    {
     "data": {
      "text/plain": [
       "[[1471784400, 23.46, 87, 90, 'Clouds', 2.6]]"
      ]
     },
     "metadata": {},
     "output_type": "display_data"
    },
    {
     "data": {
      "text/plain": [
       "[[1473598800, 23.74, 68, 1, 'Clear', 2.1]]"
      ]
     },
     "metadata": {},
     "output_type": "display_data"
    },
    {
     "data": {
      "text/plain": [
       "[[1474203600, 22.75, 89, 90, 'Clouds', 3.09]]"
      ]
     },
     "metadata": {},
     "output_type": "display_data"
    },
    {
     "data": {
      "text/plain": [
       "[[1492347600, 18.13, 81, 1, 'Clear', 3.6]]"
      ]
     },
     "metadata": {},
     "output_type": "display_data"
    },
    {
     "data": {
      "text/plain": [
       "[[1495371600, 19.88, 100, 90, 'Rain', 2.1]]"
      ]
     },
     "metadata": {},
     "output_type": "display_data"
    },
    {
     "data": {
      "text/plain": [
       "[[1497186000, 22.51, 93, 1, 'Clear', 3.3]]"
      ]
     },
     "metadata": {},
     "output_type": "display_data"
    },
    {
     "data": {
      "text/plain": [
       "[[1497790800, 23.08, 87, 20, 'Clouds', 3.6]]"
      ]
     },
     "metadata": {},
     "output_type": "display_data"
    },
    {
     "data": {
      "text/plain": [
       "[[1500210000, 22.79, 100, 90, 'Rain', 2.6]]"
      ]
     },
     "metadata": {},
     "output_type": "display_data"
    },
    {
     "data": {
      "text/plain": [
       "[[1502024400, 24.27, 78, 1, 'Clear', 1.59]]"
      ]
     },
     "metadata": {},
     "output_type": "display_data"
    },
    {
     "data": {
      "text/plain": [
       "[[1503838800, 22.97, 89, 1, 'Clear', 4.63]]"
      ]
     },
     "metadata": {},
     "output_type": "display_data"
    },
    {
     "data": {
      "text/plain": [
       "[[1505048400, 16.75, 68, 1, 'Clear', 6.17]]"
      ]
     },
     "metadata": {},
     "output_type": "display_data"
    },
    {
     "data": {
      "text/plain": [
       "[[1505653200, 20.74, 94, 20, 'Mist', 1.12]]"
      ]
     },
     "metadata": {},
     "output_type": "display_data"
    },
    {
     "data": {
      "text/plain": [
       "[[1506258000, 20.72, 88, 1, 'Clear', 3.09]]"
      ]
     },
     "metadata": {},
     "output_type": "display_data"
    },
    {
     "data": {
      "text/plain": [
       "[[1524402000, 14.93, 82, 90, 'Clouds', 3.6]]"
      ]
     },
     "metadata": {},
     "output_type": "display_data"
    },
    {
     "data": {
      "text/plain": [
       "[[1525611600, 16.82, 77, 75, 'Clouds', 6.17]]"
      ]
     },
     "metadata": {},
     "output_type": "display_data"
    },
    {
     "data": {
      "text/plain": [
       "[[1526821200, 23.3, 83, 1, 'Clear', 0.32]]"
      ]
     },
     "metadata": {},
     "output_type": "display_data"
    },
    {
     "data": {
      "text/plain": [
       "[[1528030800, 24.51, 83, 1, 'Clear', 1.3]]"
      ]
     },
     "metadata": {},
     "output_type": "display_data"
    },
    {
     "data": {
      "text/plain": [
       "[[1529240400, 23.42, 94, 90, 'Clouds', 2.06]]"
      ]
     },
     "metadata": {},
     "output_type": "display_data"
    },
    {
     "data": {
      "text/plain": [
       "[[1531659600, 24.06, 100, 90, 'Clouds', 1.54]]"
      ]
     },
     "metadata": {},
     "output_type": "display_data"
    },
    {
     "data": {
      "text/plain": [
       "[[1532869200, 22.36, 83, 1, 'Clear', 1.54]]"
      ]
     },
     "metadata": {},
     "output_type": "display_data"
    },
    {
     "data": {
      "text/plain": [
       "[[1534683600, 23.76, 94, 75, 'Clouds', 1.54]]"
      ]
     },
     "metadata": {},
     "output_type": "display_data"
    },
    {
     "data": {
      "text/plain": [
       "[[1537102800, 23.15, 89, 90, 'Rain', 2.06]]"
      ]
     },
     "metadata": {},
     "output_type": "display_data"
    },
    {
     "data": {
      "text/plain": [
       "[[1537707600, 21.26, 94, 1, 'Clear', 1.04]]"
      ]
     },
     "metadata": {},
     "output_type": "display_data"
    },
    {
     "data": {
      "text/plain": [
       "[[1538917200, 22.32, 94, 1, 'Clear', 1.75]]"
      ]
     },
     "metadata": {},
     "output_type": "display_data"
    },
    {
     "data": {
      "text/plain": [
       "[[1554642000, 16.27, 100, 20, 'Clouds', 1.61]]"
      ]
     },
     "metadata": {},
     "output_type": "display_data"
    },
    {
     "data": {
      "text/plain": [
       "[[1555246800, 20.67, 93, 90, 'Rain', 4.6]]"
      ]
     },
     "metadata": {},
     "output_type": "display_data"
    },
    {
     "data": {
      "text/plain": [
       "[[1556456400, 16.3, 74, 1, 'Clear', 2.6]]"
      ]
     },
     "metadata": {},
     "output_type": "display_data"
    },
    {
     "data": {
      "text/plain": [
       "[[1560690000, 22.51, 76, 1, 'Clear', 1.5]]"
      ]
     },
     "metadata": {},
     "output_type": "display_data"
    },
    {
     "data": {
      "text/plain": [
       "[[1562504400, 25.25, 76, 1, 'Clear', 2.1]]"
      ]
     },
     "metadata": {},
     "output_type": "display_data"
    },
    {
     "data": {
      "text/plain": [
       "[[1563714000, 22.69, 88, 75, 'Clouds', 4.1]]"
      ]
     },
     "metadata": {},
     "output_type": "display_data"
    },
    {
     "data": {
      "text/plain": [
       "[[1566133200, 23.98, 87, 75, 'Clouds', 1.5]]"
      ]
     },
     "metadata": {},
     "output_type": "display_data"
    },
    {
     "data": {
      "text/plain": [
       "[[1567947600, 21.24, 71, 1, 'Clear', 1.49]]"
      ]
     },
     "metadata": {},
     "output_type": "display_data"
    },
    {
     "data": {
      "text/plain": [
       "[[1569157200, 16.96, 83, 1, 'Clear', 1.07]]"
      ]
     },
     "metadata": {},
     "output_type": "display_data"
    },
    {
     "data": {
      "text/plain": [
       "[[1596373200, 24.79, 76, 1, 'Clear', 1.5]]"
      ]
     },
     "metadata": {},
     "output_type": "display_data"
    },
    {
     "data": {
      "text/plain": [
       "[[1598187600, 22.31, 78, 90, 'Clouds', 2.1]]"
      ]
     },
     "metadata": {},
     "output_type": "display_data"
    },
    {
     "data": {
      "text/plain": [
       "[[1599397200, 20.21, 75, 1, 'Clear', 2.6]]"
      ]
     },
     "metadata": {},
     "output_type": "display_data"
    },
    {
     "data": {
      "text/plain": [
       "[[1603026000, 9.9, 76, 1, 'Clear', 2.6]]"
      ]
     },
     "metadata": {},
     "output_type": "display_data"
    },
    {
     "data": {
      "text/plain": [
       "[[1278248400, 21.79, 73, 1, 'Clear', 1.28]]"
      ]
     },
     "metadata": {},
     "output_type": "display_data"
    },
    {
     "data": {
      "text/plain": [
       "[[1283086800, 23.02, 87, 75, 'Clouds', 3.6]]"
      ]
     },
     "metadata": {},
     "output_type": "display_data"
    },
    {
     "data": {
      "text/plain": [
       "[[1312117200, 25.62, 88, 40, 'Clouds', 2.27]]"
      ]
     },
     "metadata": {},
     "output_type": "display_data"
    },
    {
     "data": {
      "text/plain": [
       "[[1567256400, 20.81, 73, 75, 'Clouds', 2.1]]"
      ]
     },
     "metadata": {},
     "output_type": "display_data"
    },
    {
     "data": {
      "text/plain": [
       "[[1277557200, 25.8, 74, 1, 'Clear', 1.4]]"
      ]
     },
     "metadata": {},
     "output_type": "display_data"
    },
    {
     "data": {
      "text/plain": [
       "[[1475326800, 13.15, 83, 1, 'Clear', 1.07]]"
      ]
     },
     "metadata": {},
     "output_type": "display_data"
    },
    {
     "data": {
      "text/plain": [
       "[[1559394000, 20.98, 68, 1, 'Clear', 2.1]]"
      ]
     },
     "metadata": {},
     "output_type": "display_data"
    },
    {
     "data": {
      "text/plain": [
       "[[1276952400, 25.99, 76, 1, 'Clear', 1.31]]"
      ]
     },
     "metadata": {},
     "output_type": "display_data"
    },
    {
     "data": {
      "text/plain": [
       "[[1309611600, 25.68, 71, 1, 'Haze', 0.95]]"
      ]
     },
     "metadata": {},
     "output_type": "display_data"
    },
    {
     "data": {
      "text/plain": [
       "[[1339851600, 21.14, 68, 1, 'Clear', 1.5]]"
      ]
     },
     "metadata": {},
     "output_type": "display_data"
    },
    {
     "data": {
      "text/plain": [
       "[[1529758800, 24.09, 94, 75, 'Mist', 3.09]]"
      ]
     },
     "metadata": {},
     "output_type": "display_data"
    },
    {
     "data": {
      "text/plain": [
       "[[1601125200, 19.88, 89, 90, 'Clouds', 0.2]]"
      ]
     },
     "metadata": {},
     "output_type": "display_data"
    },
    {
     "data": {
      "text/plain": [
       "[[1440853200, 22.41, 87, 1, 'Clear', 2.1]]"
      ]
     },
     "metadata": {},
     "output_type": "display_data"
    },
    {
     "data": {
      "text/plain": [
       "[[1339246800, 21.02, 71, 1, 'Clear', 2.1]]"
      ]
     },
     "metadata": {},
     "output_type": "display_data"
    },
    {
     "data": {
      "text/plain": [
       "[[1272718800, 20.26, 84, 90, 'Clouds', 3.1]]"
      ]
     },
     "metadata": {},
     "output_type": "display_data"
    },
    {
     "data": {
      "text/plain": [
       "[[1344085200, 23.21, 84, 90, 'Clouds', 2.6]]"
      ]
     },
     "metadata": {},
     "output_type": "display_data"
    },
    {
     "data": {
      "text/plain": [
       "[[1402750800, 19.75, 93, 90, 'Mist', 1.5]]"
      ]
     },
     "metadata": {},
     "output_type": "display_data"
    },
    {
     "data": {
      "text/plain": [
       "[[1408194000, 21.68, 84, 1, 'Clear', 1.29]]"
      ]
     },
     "metadata": {},
     "output_type": "display_data"
    },
    {
     "data": {
      "text/plain": [
       "[[1308402000, 21.95, 88, 90, 'Mist', 5.1]]"
      ]
     },
     "metadata": {},
     "output_type": "display_data"
    },
    {
     "data": {
      "text/plain": [
       "[[1313240400, 24.3, 76, 1, 'Clear', 1.5]]"
      ]
     },
     "metadata": {},
     "output_type": "display_data"
    },
    {
     "data": {
      "text/plain": [
       "[[1365253200, 7.99, 85, 1, 'Clear', 2.26]]"
      ]
     },
     "metadata": {},
     "output_type": "display_data"
    },
    {
     "data": {
      "text/plain": [
       "[[1399726800, 18.54, 90, 40, 'Clouds', 2.95]]"
      ]
     },
     "metadata": {},
     "output_type": "display_data"
    },
    {
     "data": {
      "text/plain": [
       "[[1437224400, 27.3, 76, 1, 'Clear', 0.65]]"
      ]
     },
     "metadata": {},
     "output_type": "display_data"
    },
    {
     "data": {
      "text/plain": [
       "[[1465650000, 25.55, 64, 1, 'Clear', 1.5]]"
      ]
     },
     "metadata": {},
     "output_type": "display_data"
    },
    {
     "data": {
      "text/plain": [
       "[[1306587600, 19.48, 93, 90, 'Mist', 2.6]]"
      ]
     },
     "metadata": {},
     "output_type": "display_data"
    },
    {
     "data": {
      "text/plain": [
       "[[1373720400, 21.55, 87, 90, 'Clouds', 4.6]]"
      ]
     },
     "metadata": {},
     "output_type": "display_data"
    },
    {
     "data": {
      "text/plain": [
       "[[1398517200, 14.35, 80, 1, 'Clear', 1.34]]"
      ]
     },
     "metadata": {},
     "output_type": "display_data"
    },
    {
     "data": {
      "text/plain": [
       "[[1430571600, 14.28, 77, 1, 'Clear', 0.98]]"
      ]
     },
     "metadata": {},
     "output_type": "display_data"
    },
    {
     "data": {
      "text/plain": [
       "[[1503147600, 23.32, 83, 1, 'Clear', 0.97]]"
      ]
     },
     "metadata": {},
     "output_type": "display_data"
    },
    {
     "data": {
      "text/plain": [
       "[[1564837200, 22.6, 88, 90, 'Clouds', 3.6]]"
      ]
     },
     "metadata": {},
     "output_type": "display_data"
    },
    {
     "data": {
      "text/plain": [
       "[[1279371600, 24.16, 84, 90, 'Haze', 2.1]]"
      ]
     },
     "metadata": {},
     "output_type": "display_data"
    },
    {
     "data": {
      "text/plain": [
       "[[1334408400, 13.83, 66, 1, 'Clear', 3.33]]"
      ]
     },
     "metadata": {},
     "output_type": "display_data"
    },
    {
     "data": {
      "text/plain": [
       "[[1432386000, 18.27, 72, 1, 'Clear', 2.56]]"
      ]
     },
     "metadata": {},
     "output_type": "display_data"
    },
    {
     "data": {
      "text/plain": [
       "[[1498309200, 22.96, 100, 90, 'Rain', 2.1]]"
      ]
     },
     "metadata": {},
     "output_type": "display_data"
    },
    {
     "data": {
      "text/plain": [
       "[[1533992400, 23.71, 94, 40, 'Clouds', 3.09]]"
      ]
     },
     "metadata": {},
     "output_type": "display_data"
    },
    {
     "data": {
      "text/plain": [
       "[[1558184400, 21.3, 81, 1, 'Clear', 1.21]]"
      ]
     },
     "metadata": {},
     "output_type": "display_data"
    },
    {
     "data": {
      "text/plain": [
       "[[1275138000, 21.25, 84, 90, 'Haze', 3.1]]"
      ]
     },
     "metadata": {},
     "output_type": "display_data"
    },
    {
     "data": {
      "text/plain": [
       "[[1335618000, 18.51, 87, 1, 'Mist', 1.13]]"
      ]
     },
     "metadata": {},
     "output_type": "display_data"
    },
    {
     "data": {
      "text/plain": [
       "[[1433595600, 23.17, 78, 1, 'Clear', 1.74]]"
      ]
     },
     "metadata": {},
     "output_type": "display_data"
    },
    {
     "data": {
      "text/plain": [
       "[[1535806800, 24.22, 89, 40, 'Clouds', 1.47]]"
      ]
     },
     "metadata": {},
     "output_type": "display_data"
    },
    {
     "data": {
      "text/plain": [
       "[[1284210000, 23.9, 84, 1, 'Haze', 1.63]]"
      ]
     },
     "metadata": {},
     "output_type": "display_data"
    },
    {
     "data": {
      "text/plain": [
       "[[1304168400, 15.91, 77, 1, 'Clear', 1.57]]"
      ]
     },
     "metadata": {},
     "output_type": "display_data"
    },
    {
     "data": {
      "text/plain": [
       "[[1374930000, 22.75, 90, 90, 'Mist', 3.1]]"
      ]
     },
     "metadata": {},
     "output_type": "display_data"
    },
    {
     "data": {
      "text/plain": [
       "[[1443877200, 15.17, 89, 90, 'Rain', 2.1]]"
      ]
     },
     "metadata": {},
     "output_type": "display_data"
    },
    {
     "data": {
      "text/plain": [
       "[[1460206800, 9.7, 45, 1, 'Clear', 5.1]]"
      ]
     },
     "metadata": {},
     "output_type": "display_data"
    },
    {
     "data": {
      "text/plain": [
       "[[1494075600, 10.66, 76, 1, 'Clear', 4.6]]"
      ]
     },
     "metadata": {},
     "output_type": "display_data"
    },
    {
     "data": {
      "text/plain": [
       "[[1271509200, 17.27, 69, 1, 'Clear', 2.1]]"
      ]
     },
     "metadata": {},
     "output_type": "display_data"
    },
    {
     "data": {
      "text/plain": [
       "[[1273928400, 21.91, 86, 90, 'Mist', 1.28]]"
      ]
     },
     "metadata": {},
     "output_type": "display_data"
    },
    {
     "data": {
      "text/plain": [
       "[[1278162000, 22.12, 71, 20, 'Clouds', 4.1]]"
      ]
     },
     "metadata": {},
     "output_type": "display_data"
    },
    {
     "data": {
      "text/plain": [
       "[[1279976400, 27.81, 74, 1, 'Clear', 0.8]]"
      ]
     },
     "metadata": {},
     "output_type": "display_data"
    },
    {
     "data": {
      "text/plain": [
       "[[1281186000, 24.09, 83, 75, 'Haze', 2.1]]"
      ]
     },
     "metadata": {},
     "output_type": "display_data"
    },
    {
     "data": {
      "text/plain": [
       "[[1281790800, 25.06, 94, 90, 'Mist', 2.1]]"
      ]
     },
     "metadata": {},
     "output_type": "display_data"
    },
    {
     "data": {
      "text/plain": [
       "[[1283000400, 23.08, 93, 90, 'Mist', 4.1]]"
      ]
     },
     "metadata": {},
     "output_type": "display_data"
    },
    {
     "data": {
      "text/plain": [
       "[[1283605200, 19.93, 56, 1, 'Clear', 2.6]]"
      ]
     },
     "metadata": {},
     "output_type": "display_data"
    },
    {
     "data": {
      "text/plain": [
       "[[1286024400, 13.6, 83, 1, 'Clear', 3.02]]"
      ]
     },
     "metadata": {},
     "output_type": "display_data"
    },
    {
     "data": {
      "text/plain": [
       "[[1302354000, 20.2, 86, 40, 'Mist', 3.1]]"
      ]
     },
     "metadata": {},
     "output_type": "display_data"
    },
    {
     "data": {
      "text/plain": [
       "[[1302958800, 13.68, 54, 1, 'Clear', 5.7]]"
      ]
     },
     "metadata": {},
     "output_type": "display_data"
    },
    {
     "data": {
      "text/plain": [
       "[[1302958800, 13.68, 54, 1, 'Clear', 5.7]]"
      ]
     },
     "metadata": {},
     "output_type": "display_data"
    },
    {
     "data": {
      "text/plain": [
       "[[1305378000, 17.94, 88, 90, 'Clouds', 2.6]]"
      ]
     },
     "metadata": {},
     "output_type": "display_data"
    },
    {
     "data": {
      "text/plain": [
       "[[1310821200, 19.44, 88, 90, 'Mist', 5.1]]"
      ]
     },
     "metadata": {},
     "output_type": "display_data"
    },
    {
     "data": {
      "text/plain": [
       "[[1312030800, 27.54, 76, 1, 'Clear', 3.6]]"
      ]
     },
     "metadata": {},
     "output_type": "display_data"
    },
    {
     "data": {
      "text/plain": [
       "[[1313845200, 25.65, 79, 1, 'Clear', 0.76]]"
      ]
     },
     "metadata": {},
     "output_type": "display_data"
    },
    {
     "data": {
      "text/plain": [
       "[[1315054800, 24.12, 75, 1, 'Clear', 1.5]]"
      ]
     },
     "metadata": {},
     "output_type": "display_data"
    },
    {
     "data": {
      "text/plain": [
       "[[1316264400, 14.68, 64, 90, 'Clouds', 4.6]]"
      ]
     },
     "metadata": {},
     "output_type": "display_data"
    },
    {
     "data": {
      "text/plain": [
       "[[1338037200, 24.58, 75, 1, 'Clear', 1.21]]"
      ]
     },
     "metadata": {},
     "output_type": "display_data"
    },
    {
     "data": {
      "text/plain": [
       "[[1341061200, 27.53, 62, 1, 'Clear', 2.21]]"
      ]
     },
     "metadata": {},
     "output_type": "display_data"
    },
    {
     "data": {
      "text/plain": [
       "[[1342270800, 23.81, 87, 90, 'Clouds', 1.5]]"
      ]
     },
     "metadata": {},
     "output_type": "display_data"
    },
    {
     "data": {
      "text/plain": [
       "[[1343480400, 24.26, 73, 1, 'Clear', 2.6]]"
      ]
     },
     "metadata": {},
     "output_type": "display_data"
    },
    {
     "data": {
      "text/plain": [
       "[[1345294800, 21.48, 84, 75, 'Clouds', 2]]"
      ]
     },
     "metadata": {},
     "output_type": "display_data"
    },
    {
     "data": {
      "text/plain": [
       "[[1346504400, 23.94, 87, 1, 'Clear', 1.08]]"
      ]
     },
     "metadata": {},
     "output_type": "display_data"
    },
    {
     "data": {
      "text/plain": [
       "[[1347714000, 20.98, 80, 40, 'Clouds', 0.8]]"
      ]
     },
     "metadata": {},
     "output_type": "display_data"
    },
    {
     "data": {
      "text/plain": [
       "[[1348923600, 20.06, 93, 1, 'Clear', 1.54]]"
      ]
     },
     "metadata": {},
     "output_type": "display_data"
    },
    {
     "data": {
      "text/plain": [
       "[[1367672400, 10.47, 92, 90, 'Rain', 6.7]]"
      ]
     },
     "metadata": {},
     "output_type": "display_data"
    },
    {
     "data": {
      "text/plain": [
       "[[1368882000, 18.23, 87, 20, 'Clouds', 2.6]]"
      ]
     },
     "metadata": {},
     "output_type": "display_data"
    },
    {
     "data": {
      "text/plain": [
       "[[1370091600, 22.07, 76, 20, 'Clouds', 3.6]]"
      ]
     },
     "metadata": {},
     "output_type": "display_data"
    },
    {
     "data": {
      "text/plain": [
       "[[1371301200, 22.26, 73, 1, 'Clear', 1.5]]"
      ]
     },
     "metadata": {},
     "output_type": "display_data"
    },
    {
     "data": {
      "text/plain": [
       "[[1372510800, 23.66, 90, 40, 'Clouds', 2.1]]"
      ]
     },
     "metadata": {},
     "output_type": "display_data"
    },
    {
     "data": {
      "text/plain": [
       "[[1376139600, 25.62, 81, 1, 'Clear', 0.37]]"
      ]
     },
     "metadata": {},
     "output_type": "display_data"
    },
    {
     "data": {
      "text/plain": [
       "[[1376744400, 17.34, 94, 90, 'Rain', 4.63]]"
      ]
     },
     "metadata": {},
     "output_type": "display_data"
    },
    {
     "data": {
      "text/plain": [
       "[[1377954000, 24.26, 90, 75, 'Mist', 0.64]]"
      ]
     },
     "metadata": {},
     "output_type": "display_data"
    },
    {
     "data": {
      "text/plain": [
       "[[1379163600, 16.6, 80, 1, 'Clear', 3.28]]"
      ]
     },
     "metadata": {},
     "output_type": "display_data"
    },
    {
     "data": {
      "text/plain": [
       "[[1380373200, 15.98, 86, 1, 'Clear', 2.1]]"
      ]
     },
     "metadata": {},
     "output_type": "display_data"
    },
    {
     "data": {
      "text/plain": [
       "[[1397307600, 13.49, 79, 1, 'Clear', 1.46]]"
      ]
     },
     "metadata": {},
     "output_type": "display_data"
    },
    {
     "data": {
      "text/plain": [
       "[[1399122000, 13.18, 61, 1, 'Clear', 1.93]]"
      ]
     },
     "metadata": {},
     "output_type": "display_data"
    },
    {
     "data": {
      "text/plain": [
       "[[1400936400, 22.27, 73, 1, 'Clear', 1.93]]"
      ]
     },
     "metadata": {},
     "output_type": "display_data"
    },
    {
     "data": {
      "text/plain": [
       "[[1404565200, 22.09, 46, 1, 'Clear', 4.6]]"
      ]
     },
     "metadata": {},
     "output_type": "display_data"
    },
    {
     "data": {
      "text/plain": [
       "[[1405774800, 19.35, 96, 90, 'Rain', 2.53]]"
      ]
     },
     "metadata": {},
     "output_type": "display_data"
    },
    {
     "data": {
      "text/plain": [
       "[[1406379600, 22.65, 75, 1, 'Clear', 0.79]]"
      ]
     },
     "metadata": {},
     "output_type": "display_data"
    },
    {
     "data": {
      "text/plain": [
       "[[1407589200, 21.78, 90, 90, 'Clouds', 1.5]]"
      ]
     },
     "metadata": {},
     "output_type": "display_data"
    },
    {
     "data": {
      "text/plain": [
       "[[1409403600, 23.67, 78, 20, 'Clouds', 1.5]]"
      ]
     },
     "metadata": {},
     "output_type": "display_data"
    },
    {
     "data": {
      "text/plain": [
       "[[1411218000, 19.59, 75, 20, 'Clouds', 4.1]]"
      ]
     },
     "metadata": {},
     "output_type": "display_data"
    },
    {
     "data": {
      "text/plain": [
       "[[1428757200, 13.79, 71, 1, 'Clear', 1.5]]"
      ]
     },
     "metadata": {},
     "output_type": "display_data"
    },
    {
     "data": {
      "text/plain": [
       "[[1434805200, 26.08, 79, 75, 'Clouds', 3.1]]"
      ]
     },
     "metadata": {},
     "output_type": "display_data"
    },
    {
     "data": {
      "text/plain": [
       "[[1436014800, 20.31, 93, 90, 'Rain', 2.6]]"
      ]
     },
     "metadata": {},
     "output_type": "display_data"
    },
    {
     "data": {
      "text/plain": [
       "[[1439038800, 23.97, 81, 1, 'Clear', 1.5]]"
      ]
     },
     "metadata": {},
     "output_type": "display_data"
    },
    {
     "data": {
      "text/plain": [
       "[[1439643600, 22.5, 84, 40, 'Clouds', 1.15]]"
      ]
     },
     "metadata": {},
     "output_type": "display_data"
    },
    {
     "data": {
      "text/plain": [
       "[[1442062800, 19.92, 83, 75, 'Clouds', 2.1]]"
      ]
     },
     "metadata": {},
     "output_type": "display_data"
    },
    {
     "data": {
      "text/plain": [
       "[[1442667600, 18.95, 84, 1, 'Clear', 1.76]]"
      ]
     },
     "metadata": {},
     "output_type": "display_data"
    },
    {
     "data": {
      "text/plain": [
       "[[1461416400, 15.6, 77, 1, 'Clear', 2.1]]"
      ]
     },
     "metadata": {},
     "output_type": "display_data"
    },
    {
     "data": {
      "text/plain": [
       "[[1462626000, 14.13, 61, 1, 'Clear', 1.5]]"
      ]
     },
     "metadata": {},
     "output_type": "display_data"
    },
    {
     "data": {
      "text/plain": [
       "[[1464440400, 21.79, 71, 1, 'Clear', 1.5]]"
      ]
     },
     "metadata": {},
     "output_type": "display_data"
    },
    {
     "data": {
      "text/plain": [
       "[[1466859600, 28.19, 71, 1, 'Clear', 0.73]]"
      ]
     },
     "metadata": {},
     "output_type": "display_data"
    },
    {
     "data": {
      "text/plain": [
       "[[1467464400, 27.06, 64, 1, 'Clear', 1.07]]"
      ]
     },
     "metadata": {},
     "output_type": "display_data"
    },
    {
     "data": {
      "text/plain": [
       "[[1468674000, 26.42, 71, 1, 'Clear', 0.49]]"
      ]
     },
     "metadata": {},
     "output_type": "display_data"
    },
    {
     "data": {
      "text/plain": [
       "[[1469883600, 25.56, 74, 1, 'Clear', 1.5]]"
      ]
     },
     "metadata": {},
     "output_type": "display_data"
    },
    {
     "data": {
      "text/plain": [
       "[[1471698000, 24.12, 81, 1, 'Clear', 1.5]]"
      ]
     },
     "metadata": {},
     "output_type": "display_data"
    },
    {
     "data": {
      "text/plain": [
       "[[1473512400, 23.22, 78, 1, 'Clear', 2.12]]"
      ]
     },
     "metadata": {},
     "output_type": "display_data"
    },
    {
     "data": {
      "text/plain": [
       "[[1474117200, 22.05, 73, 75, 'Clouds', 3.1]]"
      ]
     },
     "metadata": {},
     "output_type": "display_data"
    },
    {
     "data": {
      "text/plain": [
       "[[1492261200, 17.68, 90, 1, 'Clear', 2.23]]"
      ]
     },
     "metadata": {},
     "output_type": "display_data"
    },
    {
     "data": {
      "text/plain": [
       "[[1495285200, 23.7, 81, 1, 'Clear', 2.1]]"
      ]
     },
     "metadata": {},
     "output_type": "display_data"
    },
    {
     "data": {
      "text/plain": [
       "[[1497099600, 22.36, 78, 1, 'Clear', 0.93]]"
      ]
     },
     "metadata": {},
     "output_type": "display_data"
    },
    {
     "data": {
      "text/plain": [
       "[[1497099600, 22.36, 78, 1, 'Clear', 0.93]]"
      ]
     },
     "metadata": {},
     "output_type": "display_data"
    },
    {
     "data": {
      "text/plain": [
       "[[1497704400, 23.58, 87, 40, 'Clouds', 3.1]]"
      ]
     },
     "metadata": {},
     "output_type": "display_data"
    },
    {
     "data": {
      "text/plain": [
       "[[1500123600, 24.25, 90, 1, 'Clear', 0.18]]"
      ]
     },
     "metadata": {},
     "output_type": "display_data"
    },
    {
     "data": {
      "text/plain": [
       "[[1501938000, 22.61, 89, 40, 'Clouds', 0.92]]"
      ]
     },
     "metadata": {},
     "output_type": "display_data"
    },
    {
     "data": {
      "text/plain": [
       "[[1503752400, 22.95, 89, 1, 'Clear', 3.09]]"
      ]
     },
     "metadata": {},
     "output_type": "display_data"
    },
    {
     "data": {
      "text/plain": [
       "[[1504962000, 17.58, 88, 1, 'Clear', 2.06]]"
      ]
     },
     "metadata": {},
     "output_type": "display_data"
    },
    {
     "data": {
      "text/plain": [
       "[[1505566800, 20.65, 94, 1, 'Clear', 1.54]]"
      ]
     },
     "metadata": {},
     "output_type": "display_data"
    },
    {
     "data": {
      "text/plain": [
       "[[1506171600, 22.1, 94, 1, 'Clear', 1.41]]"
      ]
     },
     "metadata": {},
     "output_type": "display_data"
    },
    {
     "data": {
      "text/plain": [
       "[[1522501200, 7.51, 93, 1, 'Clear', 1.54]]"
      ]
     },
     "metadata": {},
     "output_type": "display_data"
    },
    {
     "data": {
      "text/plain": [
       "[[1524315600, 10.66, 76, 1, 'Clear', 2.06]]"
      ]
     },
     "metadata": {},
     "output_type": "display_data"
    },
    {
     "data": {
      "text/plain": [
       "[[1525525200, 19.67, 88, 1, 'Clear', 0.64]]"
      ]
     },
     "metadata": {},
     "output_type": "display_data"
    },
    {
     "data": {
      "text/plain": [
       "[[1526734800, 21.64, 87, 75, 'Clouds', 1.5]]"
      ]
     },
     "metadata": {},
     "output_type": "display_data"
    },
    {
     "data": {
      "text/plain": [
       "[[1527944400, 22.87, 89, 40, 'Clouds', 1.36]]"
      ]
     },
     "metadata": {},
     "output_type": "display_data"
    },
    {
     "data": {
      "text/plain": [
       "[[1529154000, 24.62, 94, 90, 'Mist', 2.06]]"
      ]
     },
     "metadata": {},
     "output_type": "display_data"
    },
    {
     "data": {
      "text/plain": [
       "[[1531573200, 24.67, 87, 90, 'Clouds', 2.6]]"
      ]
     },
     "metadata": {},
     "output_type": "display_data"
    },
    {
     "data": {
      "text/plain": [
       "[[1532782800, 24.22, 79, 75, 'Clouds', 3.09]]"
      ]
     },
     "metadata": {},
     "output_type": "display_data"
    },
    {
     "data": {
      "text/plain": [
       "[[1534597200, 23.83, 94, 90, 'Clouds', 2.06]]"
      ]
     },
     "metadata": {},
     "output_type": "display_data"
    },
    {
     "data": {
      "text/plain": [
       "[[1537016400, 24.8, 89, 1, 'Clear', 1.54]]"
      ]
     },
     "metadata": {},
     "output_type": "display_data"
    },
    {
     "data": {
      "text/plain": [
       "[[1537621200, 22.79, 89, 1, 'Clear', 1.62]]"
      ]
     },
     "metadata": {},
     "output_type": "display_data"
    },
    {
     "data": {
      "text/plain": [
       "[[1554555600, 14.71, 89, 90, 'Clouds', 2.6]]"
      ]
     },
     "metadata": {},
     "output_type": "display_data"
    },
    {
     "data": {
      "text/plain": [
       "[[1555160400, 17.42, 89, 20, 'Clouds', 2.01]]"
      ]
     },
     "metadata": {},
     "output_type": "display_data"
    },
    {
     "data": {
      "text/plain": [
       "[[1556370000, 11.75, 57, 1, 'Clear', 2.1]]"
      ]
     },
     "metadata": {},
     "output_type": "display_data"
    },
    {
     "data": {
      "text/plain": [
       "[[1560603600, 19.68, 72, 1, 'Clear', 2.28]]"
      ]
     },
     "metadata": {},
     "output_type": "display_data"
    },
    {
     "data": {
      "text/plain": [
       "[[1562418000, 23.49, 84, 40, 'Clouds', 0.46]]"
      ]
     },
     "metadata": {},
     "output_type": "display_data"
    },
    {
     "data": {
      "text/plain": [
       "[[1563627600, 23.68, 88, 75, 'Clouds', 3.1]]"
      ]
     },
     "metadata": {},
     "output_type": "display_data"
    },
    {
     "data": {
      "text/plain": [
       "[[1566046800, 23.14, 73, 1, 'Clear', 0.87]]"
      ]
     },
     "metadata": {},
     "output_type": "display_data"
    },
    {
     "data": {
      "text/plain": [
       "[[1567861200, 23.48, 71, 1, 'Clear', 2.92]]"
      ]
     },
     "metadata": {},
     "output_type": "display_data"
    },
    {
     "data": {
      "text/plain": [
       "[[1569070800, 17.02, 75, 1, 'Clear', 1.24]]"
      ]
     },
     "metadata": {},
     "output_type": "display_data"
    },
    {
     "data": {
      "text/plain": [
       "[[1596286800, 24.56, 81, 1, 'Clear', 2.6]]"
      ]
     },
     "metadata": {},
     "output_type": "display_data"
    },
    {
     "data": {
      "text/plain": [
       "[[1598101200, 21.03, 93, 90, 'Mist', 1.32]]"
      ]
     },
     "metadata": {},
     "output_type": "display_data"
    },
    {
     "data": {
      "text/plain": [
       "[[1599310800, 20.51, 70, 1, 'Clear', 2.1]]"
      ]
     },
     "metadata": {},
     "output_type": "display_data"
    },
    {
     "data": {
      "text/plain": [
       "[[1602939600, 8.22, 79, 1, 'Clear', 2.97]]"
      ]
     },
     "metadata": {},
     "output_type": "display_data"
    },
    {
     "data": {
      "text/plain": [
       "[[1278162000, 22.12, 71, 20, 'Clouds', 4.1]]"
      ]
     },
     "metadata": {},
     "output_type": "display_data"
    },
    {
     "data": {
      "text/plain": [
       "[[1283000400, 23.08, 93, 90, 'Mist', 4.1]]"
      ]
     },
     "metadata": {},
     "output_type": "display_data"
    },
    {
     "data": {
      "text/plain": [
       "[[1312030800, 27.54, 76, 1, 'Clear', 3.6]]"
      ]
     },
     "metadata": {},
     "output_type": "display_data"
    },
    {
     "data": {
      "text/plain": [
       "[[1567191600, 30.55, 36, 1, 'Clear', 2.49]]"
      ]
     },
     "metadata": {},
     "output_type": "display_data"
    },
    {
     "data": {
      "text/plain": [
       "[[1277492400, 34.19, 49, 1, 'Clear', 4.1]]"
      ]
     },
     "metadata": {},
     "output_type": "display_data"
    },
    {
     "data": {
      "text/plain": [
       "[[1475262000, 21.69, 42, 40, 'Clouds', 2.6]]"
      ]
     },
     "metadata": {},
     "output_type": "display_data"
    },
    {
     "data": {
      "text/plain": [
       "[[1559329200, 30, 34, 1, 'Clear', 5.7]]"
      ]
     },
     "metadata": {},
     "output_type": "display_data"
    },
    {
     "data": {
      "text/plain": [
       "[[1276887600, 32.06, 45, 20, 'Clouds', 1.83]]"
      ]
     },
     "metadata": {},
     "output_type": "display_data"
    },
    {
     "data": {
      "text/plain": [
       "[[1309546800, 32.72, 43, 75, 'Clouds', 3.1]]"
      ]
     },
     "metadata": {},
     "output_type": "display_data"
    },
    {
     "data": {
      "text/plain": [
       "[[1339786800, 27.76, 47, 40, 'Clouds', 3.6]]"
      ]
     },
     "metadata": {},
     "output_type": "display_data"
    },
    {
     "data": {
      "text/plain": [
       "[[1529694000, 31.82, 46, 20, 'Clouds', 5.14]]"
      ]
     },
     "metadata": {},
     "output_type": "display_data"
    },
    {
     "data": {
      "text/plain": [
       "[[1601060400, 23.44, 68, 90, 'Clouds', 4.1]]"
      ]
     },
     "metadata": {},
     "output_type": "display_data"
    },
    {
     "data": {
      "text/plain": [
       "[[1440788400, 27.47, 60, 40, 'Clouds', 4.1]]"
      ]
     },
     "metadata": {},
     "output_type": "display_data"
    },
    {
     "data": {
      "text/plain": [
       "[[1339182000, 28.15, 42, 75, 'Clouds', 2.1]]"
      ]
     },
     "metadata": {},
     "output_type": "display_data"
    },
    {
     "data": {
      "text/plain": [
       "[[1272654000, 26.74, 32, 1, 'Clear', 3.6]]"
      ]
     },
     "metadata": {},
     "output_type": "display_data"
    },
    {
     "data": {
      "text/plain": [
       "[[1344020400, 31.85, 48, 20, 'Clouds', 4.6]]"
      ]
     },
     "metadata": {},
     "output_type": "display_data"
    },
    {
     "data": {
      "text/plain": [
       "[[1402686000, 25.35, 78, 90, 'Rain', 1.5]]"
      ]
     },
     "metadata": {},
     "output_type": "display_data"
    },
    {
     "data": {
      "text/plain": [
       "[[1408129200, 29.25, 43, 1, 'Clear', 1.37]]"
      ]
     },
     "metadata": {},
     "output_type": "display_data"
    },
    {
     "data": {
      "text/plain": [
       "[[1308337200, 29.99, 46, 1, 'Clear', 2.6]]"
      ]
     },
     "metadata": {},
     "output_type": "display_data"
    },
    {
     "data": {
      "text/plain": [
       "[[1313175600, 33.77, 41, 1, 'Clear', 2.6]]"
      ]
     },
     "metadata": {},
     "output_type": "display_data"
    },
    {
     "data": {
      "text/plain": [
       "[[1365188400, 16.81, 53, 40, 'Clouds', 2.6]]"
      ]
     },
     "metadata": {},
     "output_type": "display_data"
    },
    {
     "data": {
      "text/plain": [
       "[[1399662000, 24.97, 64, 1, 'Clear', 3.1]]"
      ]
     },
     "metadata": {},
     "output_type": "display_data"
    },
    {
     "data": {
      "text/plain": [
       "[[1437159600, 32.95, 43, 20, 'Clouds', 2.6]]"
      ]
     },
     "metadata": {},
     "output_type": "display_data"
    },
    {
     "data": {
      "text/plain": [
       "[[1465585200, 32.36, 28, 1, 'Clear', 2.6]]"
      ]
     },
     "metadata": {},
     "output_type": "display_data"
    },
    {
     "data": {
      "text/plain": [
       "[[1306522800, 26.68, 52, 75, 'Clouds', 2.1]]"
      ]
     },
     "metadata": {},
     "output_type": "display_data"
    },
    {
     "data": {
      "text/plain": [
       "[[1373655600, 30.13, 60, 20, 'Clouds', 3.6]]"
      ]
     },
     "metadata": {},
     "output_type": "display_data"
    },
    {
     "data": {
      "text/plain": [
       "[[1398452400, 24.36, 48, 1, 'Clear', 4.1]]"
      ]
     },
     "metadata": {},
     "output_type": "display_data"
    },
    {
     "data": {
      "text/plain": [
       "[[1430506800, 20.18, 38, 1, 'Clear', 6.7]]"
      ]
     },
     "metadata": {},
     "output_type": "display_data"
    },
    {
     "data": {
      "text/plain": [
       "[[1503082800, 31.42, 49, 20, 'Clouds', 4.63]]"
      ]
     },
     "metadata": {},
     "output_type": "display_data"
    },
    {
     "data": {
      "text/plain": [
       "[[1564772400, 28.88, 53, 20, 'Clouds', 3.6]]"
      ]
     },
     "metadata": {},
     "output_type": "display_data"
    },
    {
     "data": {
      "text/plain": [
       "[[1279306800, 31.91, 55, 1, 'Clear', 3.6]]"
      ]
     },
     "metadata": {},
     "output_type": "display_data"
    },
    {
     "data": {
      "text/plain": [
       "[[1334343600, 22.25, 26, 1, 'Clear', 2.1]]"
      ]
     },
     "metadata": {},
     "output_type": "display_data"
    },
    {
     "data": {
      "text/plain": [
       "[[1432321200, 23.65, 41, 1, 'Clear', 3.6]]"
      ]
     },
     "metadata": {},
     "output_type": "display_data"
    },
    {
     "data": {
      "text/plain": [
       "[[1498244400, 30.8, 59, 20, 'Clouds', 5.7]]"
      ]
     },
     "metadata": {},
     "output_type": "display_data"
    },
    {
     "data": {
      "text/plain": [
       "[[1533927600, 29.47, 70, 40, 'Clouds', 1.64]]"
      ]
     },
     "metadata": {},
     "output_type": "display_data"
    },
    {
     "data": {
      "text/plain": [
       "[[1558119600, 30.12, 43, 20, 'Clouds', 1.57]]"
      ]
     },
     "metadata": {},
     "output_type": "display_data"
    },
    {
     "data": {
      "text/plain": [
       "[[1275073200, 31.22, 34, 40, 'Clouds', 4.1]]"
      ]
     },
     "metadata": {},
     "output_type": "display_data"
    },
    {
     "data": {
      "text/plain": [
       "[[1335553200, 26.94, 60, 40, 'Clouds', 4.1]]"
      ]
     },
     "metadata": {},
     "output_type": "display_data"
    },
    {
     "data": {
      "text/plain": [
       "[[1433530800, 28.42, 49, 1, 'Clear', 2.1]]"
      ]
     },
     "metadata": {},
     "output_type": "display_data"
    },
    {
     "data": {
      "text/plain": [
       "[[1535742000, 29.67, 52, 40, 'Clouds', 2.36]]"
      ]
     },
     "metadata": {},
     "output_type": "display_data"
    },
    {
     "data": {
      "text/plain": [
       "[[1284145200, 33.29, 33, 1, 'Clear', 2.1]]"
      ]
     },
     "metadata": {},
     "output_type": "display_data"
    },
    {
     "data": {
      "text/plain": [
       "[[1304103600, 23.09, 31, 1, 'Clear', 4.1]]"
      ]
     },
     "metadata": {},
     "output_type": "display_data"
    },
    {
     "data": {
      "text/plain": [
       "[[1349463600, 26.73, 42, 1, 'Clear', 1.5]]"
      ]
     },
     "metadata": {},
     "output_type": "display_data"
    },
    {
     "data": {
      "text/plain": [
       "[[1374865200, 28.99, 60, 75, 'Clouds', 4.6]]"
      ]
     },
     "metadata": {},
     "output_type": "display_data"
    },
    {
     "data": {
      "text/plain": [
       "[[1443812400, 17.18, 74, 90, 'Clouds', 6.7]]"
      ]
     },
     "metadata": {},
     "output_type": "display_data"
    },
    {
     "data": {
      "text/plain": [
       "[[1460142000, 16.37, 31, 20, 'Clouds', 8.2]]"
      ]
     },
     "metadata": {},
     "output_type": "display_data"
    },
    {
     "data": {
      "text/plain": [
       "[[1494010800, 11.99, 92, 90, 'Rain', 5.1]]"
      ]
     },
     "metadata": {},
     "output_type": "display_data"
    },
    {
     "data": {
      "text/plain": [
       "[[1570215600, 34.76, 31, 1, 'Clear', 4.1]]"
      ]
     },
     "metadata": {},
     "output_type": "display_data"
    },
    {
     "data": {
      "text/plain": [
       "[[1271444400, 28, 25, 1, 'Clear', 1.57]]"
      ]
     },
     "metadata": {},
     "output_type": "display_data"
    },
    {
     "data": {
      "text/plain": [
       "[[1273863600, 29.14, 53, 75, 'Clouds', 1.5]]"
      ]
     },
     "metadata": {},
     "output_type": "display_data"
    },
    {
     "data": {
      "text/plain": [
       "[[1278097200, 27.02, 56, 75, 'Clouds', 3.6]]"
      ]
     },
     "metadata": {},
     "output_type": "display_data"
    },
    {
     "data": {
      "text/plain": [
       "[[1279911600, 35.16, 46, 75, 'Clouds', 1.5]]"
      ]
     },
     "metadata": {},
     "output_type": "display_data"
    },
    {
     "data": {
      "text/plain": [
       "[[1281121200, 32.97, 52, 75, 'Rain', 2.6]]"
      ]
     },
     "metadata": {},
     "output_type": "display_data"
    },
    {
     "data": {
      "text/plain": [
       "[[1281726000, 34.67, 51, 1, 'Clear', 3.1]]"
      ]
     },
     "metadata": {},
     "output_type": "display_data"
    },
    {
     "data": {
      "text/plain": [
       "[[1282935600, 30.75, 55, 75, 'Clouds', 3.6]]"
      ]
     },
     "metadata": {},
     "output_type": "display_data"
    },
    {
     "data": {
      "text/plain": [
       "[[1283540400, 32.54, 36, 40, 'Clouds', 4.6]]"
      ]
     },
     "metadata": {},
     "output_type": "display_data"
    },
    {
     "data": {
      "text/plain": [
       "[[1285959600, 25.09, 38, 1, 'Clear', 2.6]]"
      ]
     },
     "metadata": {},
     "output_type": "display_data"
    },
    {
     "data": {
      "text/plain": [
       "[[1302289200, 24.81, 64, 75, 'Clouds', 4.6]]"
      ]
     },
     "metadata": {},
     "output_type": "display_data"
    },
    {
     "data": {
      "text/plain": [
       "[[1302894000, 21.94, 59, 90, 'Clouds', 4.6]]"
      ]
     },
     "metadata": {},
     "output_type": "display_data"
    },
    {
     "data": {
      "text/plain": [
       "[[1305313200, 29.94, 35, 20, 'Clouds', 6.7]]"
      ]
     },
     "metadata": {},
     "output_type": "display_data"
    },
    {
     "data": {
      "text/plain": [
       "[[1310756400, 23.67, 78, 90, 'Clouds', 4.6]]"
      ]
     },
     "metadata": {},
     "output_type": "display_data"
    },
    {
     "data": {
      "text/plain": [
       "[[1311966000, 32.42, 53, 20, 'Clouds', 2.6]]"
      ]
     },
     "metadata": {},
     "output_type": "display_data"
    },
    {
     "data": {
      "text/plain": [
       "[[1313780400, 33.26, 40, 75, 'Clouds', 2.13]]"
      ]
     },
     "metadata": {},
     "output_type": "display_data"
    },
    {
     "data": {
      "text/plain": [
       "[[1314990000, 34.17, 33, 40, 'Clouds', 3.6]]"
      ]
     },
     "metadata": {},
     "output_type": "display_data"
    },
    {
     "data": {
      "text/plain": [
       "[[1316199600, 21, 52, 90, 'Clouds', 4.1]]"
      ]
     },
     "metadata": {},
     "output_type": "display_data"
    },
    {
     "data": {
      "text/plain": [
       "[[1337972400, 31.64, 39, 1, 'Clear', 1.5]]"
      ]
     },
     "metadata": {},
     "output_type": "display_data"
    },
    {
     "data": {
      "text/plain": [
       "[[1340996400, 38.64, 26, 1, 'Clear', 3.1]]"
      ]
     },
     "metadata": {},
     "output_type": "display_data"
    },
    {
     "data": {
      "text/plain": [
       "[[1342206000, 29.77, 55, 20, 'Clouds', 3.1]]"
      ]
     },
     "metadata": {},
     "output_type": "display_data"
    },
    {
     "data": {
      "text/plain": [
       "[[1343415600, 32.28, 49, 40, 'Rain', 4.1]]"
      ]
     },
     "metadata": {},
     "output_type": "display_data"
    },
    {
     "data": {
      "text/plain": [
       "[[1345230000, 27.32, 54, 1, 'Clear', 4.6]]"
      ]
     },
     "metadata": {},
     "output_type": "display_data"
    },
    {
     "data": {
      "text/plain": [
       "[[1346439600, 29, 57, 75, 'Clouds', 3.1]]"
      ]
     },
     "metadata": {},
     "output_type": "display_data"
    },
    {
     "data": {
      "text/plain": [
       "[[1347649200, 26.2, 44, 75, 'Clouds', 1.07]]"
      ]
     },
     "metadata": {},
     "output_type": "display_data"
    },
    {
     "data": {
      "text/plain": [
       "[[1348858800, 28.25, 58, 1, 'Clear', 1.76]]"
      ]
     },
     "metadata": {},
     "output_type": "display_data"
    },
    {
     "data": {
      "text/plain": [
       "[[1367607600, 16.38, 75, 90, 'Clouds', 4.6]]"
      ]
     },
     "metadata": {},
     "output_type": "display_data"
    },
    {
     "data": {
      "text/plain": [
       "[[1368817200, 26.79, 36, 1, 'Clear', 1.5]]"
      ]
     },
     "metadata": {},
     "output_type": "display_data"
    },
    {
     "data": {
      "text/plain": [
       "[[1370026800, 29.1, 45, 75, 'Clouds', 3.6]]"
      ]
     },
     "metadata": {},
     "output_type": "display_data"
    },
    {
     "data": {
      "text/plain": [
       "[[1371236400, 27.89, 42, 1, 'Clear', 3.6]]"
      ]
     },
     "metadata": {},
     "output_type": "display_data"
    },
    {
     "data": {
      "text/plain": [
       "[[1372446000, 31.32, 70, 75, 'Thunderstorm', 3.09]]"
      ]
     },
     "metadata": {},
     "output_type": "display_data"
    },
    {
     "data": {
      "text/plain": [
       "[[1376074800, 30.51, 59, 20, 'Clouds', 3.6]]"
      ]
     },
     "metadata": {},
     "output_type": "display_data"
    },
    {
     "data": {
      "text/plain": [
       "[[1376679600, 18.79, 78, 90, 'Clouds', 4.6]]"
      ]
     },
     "metadata": {},
     "output_type": "display_data"
    },
    {
     "data": {
      "text/plain": [
       "[[1377889200, 28.45, 69, 90, 'Clouds', 2.1]]"
      ]
     },
     "metadata": {},
     "output_type": "display_data"
    },
    {
     "data": {
      "text/plain": [
       "[[1379098800, 29.6, 46, 1, 'Clear', 3.6]]"
      ]
     },
     "metadata": {},
     "output_type": "display_data"
    },
    {
     "data": {
      "text/plain": [
       "[[1380308400, 24.6, 44, 1, 'Clear', 2.6]]"
      ]
     },
     "metadata": {},
     "output_type": "display_data"
    },
    {
     "data": {
      "text/plain": [
       "[[1380913200, 27.88, 47, 75, 'Clouds', 1.5]]"
      ]
     },
     "metadata": {},
     "output_type": "display_data"
    },
    {
     "data": {
      "text/plain": [
       "[[1397242800, 21.76, 33, 1, 'Clear', 3.1]]"
      ]
     },
     "metadata": {},
     "output_type": "display_data"
    },
    {
     "data": {
      "text/plain": [
       "[[1399057200, 21.13, 33, 1, 'Clear', 2.6]]"
      ]
     },
     "metadata": {},
     "output_type": "display_data"
    },
    {
     "data": {
      "text/plain": [
       "[[1400871600, 30.42, 46, 1, 'Clear', 4.1]]"
      ]
     },
     "metadata": {},
     "output_type": "display_data"
    },
    {
     "data": {
      "text/plain": [
       "[[1404500400, 28.32, 51, 40, 'Clouds', 3.1]]"
      ]
     },
     "metadata": {},
     "output_type": "display_data"
    },
    {
     "data": {
      "text/plain": [
       "[[1405710000, 26.17, 58, 75, 'Rain', 1.53]]"
      ]
     },
     "metadata": {},
     "output_type": "display_data"
    },
    {
     "data": {
      "text/plain": [
       "[[1406314800, 30.18, 49, 20, 'Clouds', 3.1]]"
      ]
     },
     "metadata": {},
     "output_type": "display_data"
    },
    {
     "data": {
      "text/plain": [
       "[[1407524400, 23.25, 100, 90, 'Thunderstorm', 9.77]]"
      ]
     },
     "metadata": {},
     "output_type": "display_data"
    },
    {
     "data": {
      "text/plain": [
       "[[1409338800, 32.9, 29, 20, 'Clouds', 1.5]]"
      ]
     },
     "metadata": {},
     "output_type": "display_data"
    },
    {
     "data": {
      "text/plain": [
       "[[1411153200, 27.52, 54, 20, 'Clouds', 5.1]]"
      ]
     },
     "metadata": {},
     "output_type": "display_data"
    },
    {
     "data": {
      "text/plain": [
       "[[1428692400, 22.76, 75, 75, 'Rain', 2.1]]"
      ]
     },
     "metadata": {},
     "output_type": "display_data"
    },
    {
     "data": {
      "text/plain": [
       "[[1434740400, 32.03, 48, 40, 'Clouds', 3.1]]"
      ]
     },
     "metadata": {},
     "output_type": "display_data"
    },
    {
     "data": {
      "text/plain": [
       "[[1435950000, 25.26, 76, 75, 'Rain', 4.1]]"
      ]
     },
     "metadata": {},
     "output_type": "display_data"
    },
    {
     "data": {
      "text/plain": [
       "[[1438974000, 30.06, 53, 40, 'Clouds', 4.6]]"
      ]
     },
     "metadata": {},
     "output_type": "display_data"
    },
    {
     "data": {
      "text/plain": [
       "[[1439578800, 31.39, 42, 1, 'Clear', 3.6]]"
      ]
     },
     "metadata": {},
     "output_type": "display_data"
    },
    {
     "data": {
      "text/plain": [
       "[[1441998000, 29.39, 53, 40, 'Clouds', 3.6]]"
      ]
     },
     "metadata": {},
     "output_type": "display_data"
    },
    {
     "data": {
      "text/plain": [
       "[[1442602800, 28.15, 46, 40, 'Clouds', 2.6]]"
      ]
     },
     "metadata": {},
     "output_type": "display_data"
    },
    {
     "data": {
      "text/plain": [
       "[[1461351600, 20.46, 67, 20, 'Clouds', 3.1]]"
      ]
     },
     "metadata": {},
     "output_type": "display_data"
    },
    {
     "data": {
      "text/plain": [
       "[[1462561200, 20.18, 35, 20, 'Clouds', 5.1]]"
      ]
     },
     "metadata": {},
     "output_type": "display_data"
    },
    {
     "data": {
      "text/plain": [
       "[[1464375600, 28.94, 42, 40, 'Clouds', 4.6]]"
      ]
     },
     "metadata": {},
     "output_type": "display_data"
    },
    {
     "data": {
      "text/plain": [
       "[[1466794800, 33.96, 42, 20, 'Clouds', 5.1]]"
      ]
     },
     "metadata": {},
     "output_type": "display_data"
    },
    {
     "data": {
      "text/plain": [
       "[[1467399600, 33.32, 24, 1, 'Clear', 5.1]]"
      ]
     },
     "metadata": {},
     "output_type": "display_data"
    },
    {
     "data": {
      "text/plain": [
       "[[1468609200, 30.75, 51, 75, 'Clouds', 3.1]]"
      ]
     },
     "metadata": {},
     "output_type": "display_data"
    },
    {
     "data": {
      "text/plain": [
       "[[1469818800, 29.81, 57, 75, 'Clouds', 3.6]]"
      ]
     },
     "metadata": {},
     "output_type": "display_data"
    },
    {
     "data": {
      "text/plain": [
       "[[1471633200, 30.74, 51, 75, 'Clouds', 4.1]]"
      ]
     },
     "metadata": {},
     "output_type": "display_data"
    },
    {
     "data": {
      "text/plain": [
       "[[1473447600, 32.69, 33, 75, 'Clouds', 2.6]]"
      ]
     },
     "metadata": {},
     "output_type": "display_data"
    },
    {
     "data": {
      "text/plain": [
       "[[1474052400, 30.49, 43, 40, 'Clouds', 4.6]]"
      ]
     },
     "metadata": {},
     "output_type": "display_data"
    },
    {
     "data": {
      "text/plain": [
       "[[1492196400, 26.12, 42, 40, 'Clouds', 1.5]]"
      ]
     },
     "metadata": {},
     "output_type": "display_data"
    },
    {
     "data": {
      "text/plain": [
       "[[1495220400, 30.99, 47, 1, 'Clear', 2.6]]"
      ]
     },
     "metadata": {},
     "output_type": "display_data"
    },
    {
     "data": {
      "text/plain": [
       "[[1497034800, 27.4, 43, 1, 'Clear', 3.1]]"
      ]
     },
     "metadata": {},
     "output_type": "display_data"
    },
    {
     "data": {
      "text/plain": [
       "[[1497639600, 27.15, 64, 1, 'Clear', 2.1]]"
      ]
     },
     "metadata": {},
     "output_type": "display_data"
    },
    {
     "data": {
      "text/plain": [
       "[[1500058800, 32.2, 53, 40, 'Clouds', 2.6]]"
      ]
     },
     "metadata": {},
     "output_type": "display_data"
    },
    {
     "data": {
      "text/plain": [
       "[[1501873200, 29.27, 62, 40, 'Clouds', 1.84]]"
      ]
     },
     "metadata": {},
     "output_type": "display_data"
    },
    {
     "data": {
      "text/plain": [
       "[[1503687600, 28.68, 62, 40, 'Clouds', 2.57]]"
      ]
     },
     "metadata": {},
     "output_type": "display_data"
    },
    {
     "data": {
      "text/plain": [
       "[[1504897200, 25.65, 45, 1, 'Clear', 4.12]]"
      ]
     },
     "metadata": {},
     "output_type": "display_data"
    },
    {
     "data": {
      "text/plain": [
       "[[1505502000, 27.85, 55, 40, 'Clouds', 2.06]]"
      ]
     },
     "metadata": {},
     "output_type": "display_data"
    },
    {
     "data": {
      "text/plain": [
       "[[1506106800, 29.89, 52, 20, 'Clouds', 2.06]]"
      ]
     },
     "metadata": {},
     "output_type": "display_data"
    },
    {
     "data": {
      "text/plain": [
       "[[1522436400, 16.65, 55, 75, 'Clouds', 5.66]]"
      ]
     },
     "metadata": {},
     "output_type": "display_data"
    },
    {
     "data": {
      "text/plain": [
       "[[1524250800, 17.9, 24, 1, 'Clear', 3.6]]"
      ]
     },
     "metadata": {},
     "output_type": "display_data"
    },
    {
     "data": {
      "text/plain": [
       "[[1525460400, 27.47, 48, 20, 'Clouds', 4.12]]"
      ]
     },
     "metadata": {},
     "output_type": "display_data"
    },
    {
     "data": {
      "text/plain": [
       "[[1526670000, 26.71, 62, 40, 'Clouds', 4.63]]"
      ]
     },
     "metadata": {},
     "output_type": "display_data"
    },
    {
     "data": {
      "text/plain": [
       "[[1527879600, 25.74, 89, 90, 'Thunderstorm', 3.6]]"
      ]
     },
     "metadata": {},
     "output_type": "display_data"
    },
    {
     "data": {
      "text/plain": [
       "[[1529089200, 32.18, 46, 1, 'Clear', 2.57]]"
      ]
     },
     "metadata": {},
     "output_type": "display_data"
    },
    {
     "data": {
      "text/plain": [
       "[[1531508400, 30.87, 63, 75, 'Clouds', 2.57]]"
      ]
     },
     "metadata": {},
     "output_type": "display_data"
    },
    {
     "data": {
      "text/plain": [
       "[[1532718000, 31.6, 46, 20, 'Clouds', 4.12]]"
      ]
     },
     "metadata": {},
     "output_type": "display_data"
    },
    {
     "data": {
      "text/plain": [
       "[[1534532400, 28.38, 74, 1, 'Rain', 3.09]]"
      ]
     },
     "metadata": {},
     "output_type": "display_data"
    },
    {
     "data": {
      "text/plain": [
       "[[1536951600, 33.57, 47, 1, 'Clear', 4.63]]"
      ]
     },
     "metadata": {},
     "output_type": "display_data"
    },
    {
     "data": {
      "text/plain": [
       "[[1537556400, 31.04, 46, 40, 'Clouds', 2.57]]"
      ]
     },
     "metadata": {},
     "output_type": "display_data"
    },
    {
     "data": {
      "text/plain": [
       "[[1554490800, 21.7, 66, 90, 'Clouds', 2.6]]"
      ]
     },
     "metadata": {},
     "output_type": "display_data"
    },
    {
     "data": {
      "text/plain": [
       "[[1555095600, 25.65, 49, 1, 'Clear', 3.6]]"
      ]
     },
     "metadata": {},
     "output_type": "display_data"
    },
    {
     "data": {
      "text/plain": [
       "[[1556305200, 21.76, 35, 1, 'Clear', 6.7]]"
      ]
     },
     "metadata": {},
     "output_type": "display_data"
    },
    {
     "data": {
      "text/plain": [
       "[[1560538800, 26.63, 24, 1, 'Clear', 2.6]]"
      ]
     },
     "metadata": {},
     "output_type": "display_data"
    },
    {
     "data": {
      "text/plain": [
       "[[1562353200, 32.78, 47, 1, 'Clear', 0.98]]"
      ]
     },
     "metadata": {},
     "output_type": "display_data"
    },
    {
     "data": {
      "text/plain": [
       "[[1563562800, 26.32, 88, 90, 'Thunderstorm', 3.6]]"
      ]
     },
     "metadata": {},
     "output_type": "display_data"
    },
    {
     "data": {
      "text/plain": [
       "[[1565982000, 32.94, 34, 1, 'Clear', 3.1]]"
      ]
     },
     "metadata": {},
     "output_type": "display_data"
    },
    {
     "data": {
      "text/plain": [
       "[[1567796400, 32.12, 25, 1, 'Clear', 5.7]]"
      ]
     },
     "metadata": {},
     "output_type": "display_data"
    },
    {
     "data": {
      "text/plain": [
       "[[1569006000, 26.4, 36, 1, 'Clear', 4.6]]"
      ]
     },
     "metadata": {},
     "output_type": "display_data"
    },
    {
     "data": {
      "text/plain": [
       "[[1596222000, 32.35, 57, 20, 'Rain', 4.1]]"
      ]
     },
     "metadata": {},
     "output_type": "display_data"
    },
    {
     "data": {
      "text/plain": [
       "[[1598036400, 26.22, 71, 75, 'Clouds', 1.5]]"
      ]
     },
     "metadata": {},
     "output_type": "display_data"
    },
    {
     "data": {
      "text/plain": [
       "[[1599246000, 31.9, 52, 1, 'Clear', 4.6]]"
      ]
     },
     "metadata": {},
     "output_type": "display_data"
    },
    {
     "data": {
      "text/plain": [
       "[[1599246000, 31.9, 52, 1, 'Clear', 4.6]]"
      ]
     },
     "metadata": {},
     "output_type": "display_data"
    },
    {
     "data": {
      "text/plain": [
       "[[1602874800, 19.05, 50, 1, 'Clear', 5.7]]"
      ]
     },
     "metadata": {},
     "output_type": "display_data"
    },
    {
     "data": {
      "text/plain": [
       "[[1278097200, 27.02, 56, 75, 'Clouds', 3.6]]"
      ]
     },
     "metadata": {},
     "output_type": "display_data"
    },
    {
     "data": {
      "text/plain": [
       "[[1282935600, 30.75, 55, 75, 'Clouds', 3.6]]"
      ]
     },
     "metadata": {},
     "output_type": "display_data"
    },
    {
     "data": {
      "text/plain": [
       "[[1311966000, 32.42, 53, 20, 'Clouds', 2.6]]"
      ]
     },
     "metadata": {},
     "output_type": "display_data"
    },
    {
     "data": {
      "text/plain": [
       "[[1377802800, 31.64, 57, 75, 'Clouds', 2.1]]"
      ]
     },
     "metadata": {},
     "output_type": "display_data"
    },
    {
     "data": {
      "text/plain": [
       "[[1434654000, 33.57, 52, 40, 'Clouds', 5.1]]"
      ]
     },
     "metadata": {},
     "output_type": "display_data"
    },
    {
     "data": {
      "text/plain": [
       "[[1276801200, 32.09, 52, 20, 'Clouds', 3.1]]"
      ]
     },
     "metadata": {},
     "output_type": "display_data"
    },
    {
     "data": {
      "text/plain": [
       "[[1596135600, 29.81, 55, 40, 'Rain', 6.2]]"
      ]
     },
     "metadata": {},
     "output_type": "display_data"
    },
    {
     "data": {
      "text/plain": [
       "[[1369940400, 28.01, 47, 40, 'Clouds', 3.6]]"
      ]
     },
     "metadata": {},
     "output_type": "display_data"
    },
    {
     "data": {
      "text/plain": [
       "[[1442516400, 27.41, 39, 1, 'Clear', 2.6]]"
      ]
     },
     "metadata": {},
     "output_type": "display_data"
    },
    {
     "data": {
      "text/plain": [
       "[[1495134000, 30.34, 51, 75, 'Clouds', 3.1]]"
      ]
     },
     "metadata": {},
     "output_type": "display_data"
    },
    {
     "data": {
      "text/plain": [
       "[[1596740400, 31.66, 51, 90, 'Clouds', 2.6]]"
      ]
     },
     "metadata": {},
     "output_type": "display_data"
    },
    {
     "data": {
      "text/plain": [
       "[[1270753200, 17.37, 93, 90, 'Thunderstorm', 6.2]]"
      ]
     },
     "metadata": {},
     "output_type": "display_data"
    },
    {
     "data": {
      "text/plain": [
       "[[1341514800, 36, 35, 20, 'Clouds', 4.6]]"
      ]
     },
     "metadata": {},
     "output_type": "display_data"
    },
    {
     "data": {
      "text/plain": [
       "[[1526583600, 24.94, 83, 75, 'Clouds', 1.54]]"
      ]
     },
     "metadata": {},
     "output_type": "display_data"
    },
    {
     "data": {
      "text/plain": [
       "[[1535655600, 30.72, 55, 1, 'Clear', 2.57]]"
      ]
     },
     "metadata": {},
     "output_type": "display_data"
    },
    {
     "data": {
      "text/plain": [
       "[[1554404400, 20.55, 37, 1, 'Clear', 4.6]]"
      ]
     },
     "metadata": {},
     "output_type": "display_data"
    },
    {
     "data": {
      "text/plain": [
       "[[1274382000, 26.73, 44, 1, 'Clear', 1.61]]"
      ]
     },
     "metadata": {},
     "output_type": "display_data"
    },
    {
     "data": {
      "text/plain": [
       "[[1373569200, 24.62, 81, 75, 'Clouds', 2.1]]"
      ]
     },
     "metadata": {},
     "output_type": "display_data"
    },
    {
     "data": {
      "text/plain": [
       "[[1430420400, 22.26, 36, 1, 'Clear', 5.1]]"
      ]
     },
     "metadata": {},
     "output_type": "display_data"
    },
    {
     "data": {
      "text/plain": [
       "[[1466103600, 32.8, 52, 20, 'Clouds', 5.1]]"
      ]
     },
     "metadata": {},
     "output_type": "display_data"
    },
    {
     "data": {
      "text/plain": [
       "[[1564686000, 32.54, 39, 75, 'Thunderstorm', 2.6]]"
      ]
     },
     "metadata": {},
     "output_type": "display_data"
    },
    {
     "data": {
      "text/plain": [
       "[[1601578800, 25.26, 45, 1, 'Clear', 4.6]]"
      ]
     },
     "metadata": {},
     "output_type": "display_data"
    },
    {
     "data": {
      "text/plain": [
       "[[1279220400, 33.13, 38, 40, 'Clouds', 2.1]]"
      ]
     },
     "metadata": {},
     "output_type": "display_data"
    },
    {
     "data": {
      "text/plain": [
       "[[1304622000, 18.58, 34, 1, 'Clear', 1.5]]"
      ]
     },
     "metadata": {},
     "output_type": "display_data"
    },
    {
     "data": {
      "text/plain": [
       "[[1400785200, 29.21, 49, 1, 'Clear', 4.6]]"
      ]
     },
     "metadata": {},
     "output_type": "display_data"
    },
    {
     "data": {
      "text/plain": [
       "[[1432234800, 25.57, 51, 40, 'Clouds', 6.7]]"
      ]
     },
     "metadata": {},
     "output_type": "display_data"
    },
    {
     "data": {
      "text/plain": [
       "[[1464289200, 30.23, 38, 40, 'Clouds', 1.85]]"
      ]
     },
     "metadata": {},
     "output_type": "display_data"
    },
    {
     "data": {
      "text/plain": [
       "[[1311879600, 31.53, 53, 1, 'Clear', 3.6]]"
      ]
     },
     "metadata": {},
     "output_type": "display_data"
    },
    {
     "data": {
      "text/plain": [
       "[[1411671600, 24.19, 57, 90, 'Clouds', 2.6]]"
      ]
     },
     "metadata": {},
     "output_type": "display_data"
    },
    {
     "data": {
      "text/plain": [
       "[[1470337200, 32.46, 50, 40, 'Clouds', 1.5]]"
      ]
     },
     "metadata": {},
     "output_type": "display_data"
    },
    {
     "data": {
      "text/plain": [
       "[[1495738800, 21.41, 45, 40, 'Clouds', 6.7]]"
      ]
     },
     "metadata": {},
     "output_type": "display_data"
    },
    {
     "data": {
      "text/plain": [
       "[[1560452400, 25.23, 41, 40, 'Clouds', 4.1]]"
      ]
     },
     "metadata": {},
     "output_type": "display_data"
    },
    {
     "data": {
      "text/plain": [
       "[[1284058800, 31.91, 42, 1, 'Clear', 2.6]]"
      ]
     },
     "metadata": {},
     "output_type": "display_data"
    },
    {
     "data": {
      "text/plain": [
       "[[1558033200, 28.14, 50, 75, 'Clouds', 2.1]]"
      ]
     },
     "metadata": {},
     "output_type": "display_data"
    },
    {
     "data": {
      "text/plain": [
       "[[1570129200, 35.03, 32, 75, 'Clouds', 2.1]]"
      ]
     },
     "metadata": {},
     "output_type": "display_data"
    },
    {
     "data": {
      "text/plain": [
       "[[1271962800, 24.38, 28, 1, 'Clear', 2.76]]"
      ]
     },
     "metadata": {},
     "output_type": "display_data"
    },
    {
     "data": {
      "text/plain": [
       "[[1274986800, 30.36, 46, 40, 'Clouds', 1.74]]"
      ]
     },
     "metadata": {},
     "output_type": "display_data"
    },
    {
     "data": {
      "text/plain": [
       "[[1279825200, 33.77, 51, 1, 'Clear', 2.1]]"
      ]
     },
     "metadata": {},
     "output_type": "display_data"
    },
    {
     "data": {
      "text/plain": [
       "[[1281034800, 35.01, 46, 1, 'Clear', 4.6]]"
      ]
     },
     "metadata": {},
     "output_type": "display_data"
    },
    {
     "data": {
      "text/plain": [
       "[[1282244400, 32.02, 57, 75, 'Clouds', 5.7]]"
      ]
     },
     "metadata": {},
     "output_type": "display_data"
    },
    {
     "data": {
      "text/plain": [
       "[[1283454000, 32.05, 39, 20, 'Clouds', 1.5]]"
      ]
     },
     "metadata": {},
     "output_type": "display_data"
    },
    {
     "data": {
      "text/plain": [
       "[[1302807600, 23.48, 28, 1, 'Clear', 2.1]]"
      ]
     },
     "metadata": {},
     "output_type": "display_data"
    },
    {
     "data": {
      "text/plain": [
       "[[1305226800, 31.54, 37, 1, 'Clear', 1.5]]"
      ]
     },
     "metadata": {},
     "output_type": "display_data"
    },
    {
     "data": {
      "text/plain": [
       "[[1307646000, 33.72, 38, 1, 'Clear', 2.6]]"
      ]
     },
     "metadata": {},
     "output_type": "display_data"
    },
    {
     "data": {
      "text/plain": [
       "[[1308250800, 30.57, 51, 20, 'Clouds', 4.6]]"
      ]
     },
     "metadata": {},
     "output_type": "display_data"
    },
    {
     "data": {
      "text/plain": [
       "[[1310065200, 32.27, 39, 20, 'Clouds', 3.1]]"
      ]
     },
     "metadata": {},
     "output_type": "display_data"
    },
    {
     "data": {
      "text/plain": [
       "[[1313694000, 33, 42, 20, 'Clouds', 1.5]]"
      ]
     },
     "metadata": {},
     "output_type": "display_data"
    },
    {
     "data": {
      "text/plain": [
       "[[1314903600, 32.19, 45, 1, 'Clear', 2.1]]"
      ]
     },
     "metadata": {},
     "output_type": "display_data"
    },
    {
     "data": {
      "text/plain": [
       "[[1336071600, 27.78, 48, 20, 'Clouds', 2.6]]"
      ]
     },
     "metadata": {},
     "output_type": "display_data"
    },
    {
     "data": {
      "text/plain": [
       "[[1337281200, 27.77, 40, 20, 'Clouds', 2.6]]"
      ]
     },
     "metadata": {},
     "output_type": "display_data"
    },
    {
     "data": {
      "text/plain": [
       "[[1340910000, 35.29, 32, 1, 'Clear', 2.52]]"
      ]
     },
     "metadata": {},
     "output_type": "display_data"
    },
    {
     "data": {
      "text/plain": [
       "[[1342724400, 31.13, 51, 20, 'Clouds', 3.6]]"
      ]
     },
     "metadata": {},
     "output_type": "display_data"
    },
    {
     "data": {
      "text/plain": [
       "[[1343934000, 34.62, 36, 1, 'Clear', 3.1]]"
      ]
     },
     "metadata": {},
     "output_type": "display_data"
    },
    {
     "data": {
      "text/plain": [
       "[[1345143600, 30.97, 40, 1, 'Clear', 2.1]]"
      ]
     },
     "metadata": {},
     "output_type": "display_data"
    },
    {
     "data": {
      "text/plain": [
       "[[1346958000, 27.77, 69, 20, 'Clouds', 2.1]]"
      ]
     },
     "metadata": {},
     "output_type": "display_data"
    },
    {
     "data": {
      "text/plain": [
       "[[1348772400, 29.05, 37, 90, 'Clouds', 0.82]]"
      ]
     },
     "metadata": {},
     "output_type": "display_data"
    },
    {
     "data": {
      "text/plain": [
       "[[1365102000, 5.29, 88, 90, 'Rain', 4.6]]"
      ]
     },
     "metadata": {},
     "output_type": "display_data"
    },
    {
     "data": {
      "text/plain": [
       "[[1367521200, 18.63, 70, 90, 'Clouds', 7.2]]"
      ]
     },
     "metadata": {},
     "output_type": "display_data"
    },
    {
     "data": {
      "text/plain": [
       "[[1371754800, 28.19, 49, 1, 'Clear', 4.6]]"
      ]
     },
     "metadata": {},
     "output_type": "display_data"
    },
    {
     "data": {
      "text/plain": [
       "[[1372964400, 23.3, 88, 75, 'Rain', 2.6]]"
      ]
     },
     "metadata": {},
     "output_type": "display_data"
    },
    {
     "data": {
      "text/plain": [
       "[[1375383600, 28.39, 69, 75, 'Clouds', 2.6]]"
      ]
     },
     "metadata": {},
     "output_type": "display_data"
    },
    {
     "data": {
      "text/plain": [
       "[[1380222000, 23.88, 61, 75, 'Clouds', 3.1]]"
      ]
     },
     "metadata": {},
     "output_type": "display_data"
    },
    {
     "data": {
      "text/plain": [
       "[[1380826800, 27.11, 42, 20, 'Clouds', 2.6]]"
      ]
     },
     "metadata": {},
     "output_type": "display_data"
    },
    {
     "data": {
      "text/plain": [
       "[[1397156400, 22.2, 23, 1, 'Clear', 5.7]]"
      ]
     },
     "metadata": {},
     "output_type": "display_data"
    },
    {
     "data": {
      "text/plain": [
       "[[1406228400, 27.09, 89, 75, 'Thunderstorm', 5.66]]"
      ]
     },
     "metadata": {},
     "output_type": "display_data"
    },
    {
     "data": {
      "text/plain": [
       "[[1408042800, 27.9, 47, 20, 'Clouds', 3.6]]"
      ]
     },
     "metadata": {},
     "output_type": "display_data"
    },
    {
     "data": {
      "text/plain": [
       "[[1434049200, 28.88, 54, 1, 'Clear', 3.6]]"
      ]
     },
     "metadata": {},
     "output_type": "display_data"
    },
    {
     "data": {
      "text/plain": [
       "[[1435863600, 28.62, 60, 75, 'Rain', 6.2]]"
      ]
     },
     "metadata": {},
     "output_type": "display_data"
    },
    {
     "data": {
      "text/plain": [
       "[[1438887600, 27.94, 71, 1, 'Rain', 4.1]]"
      ]
     },
     "metadata": {},
     "output_type": "display_data"
    },
    {
     "data": {
      "text/plain": [
       "[[1441911600, 28.71, 62, 75, 'Thunderstorm', 8.2]]"
      ]
     },
     "metadata": {},
     "output_type": "display_data"
    },
    {
     "data": {
      "text/plain": [
       "[[1443726000, 21.29, 78, 90, 'Clouds', 2.1]]"
      ]
     },
     "metadata": {},
     "output_type": "display_data"
    },
    {
     "data": {
      "text/plain": [
       "[[1461265200, 24.92, 44, 75, 'Clouds', 5.1]]"
      ]
     },
     "metadata": {},
     "output_type": "display_data"
    },
    {
     "data": {
      "text/plain": [
       "[[1463079600, 28.49, 42, 1, 'Clear', 3.6]]"
      ]
     },
     "metadata": {},
     "output_type": "display_data"
    },
    {
     "data": {
      "text/plain": [
       "[[1464894000, 30.27, 46, 1, 'Clear', 3.1]]"
      ]
     },
     "metadata": {},
     "output_type": "display_data"
    },
    {
     "data": {
      "text/plain": [
       "[[1466708400, 32.52, 45, 75, 'Clouds', 4.6]]"
      ]
     },
     "metadata": {},
     "output_type": "display_data"
    },
    {
     "data": {
      "text/plain": [
       "[[1467313200, 32.31, 38, 1, 'Clear', 2.6]]"
      ]
     },
     "metadata": {},
     "output_type": "display_data"
    },
    {
     "data": {
      "text/plain": [
       "[[1469732400, 30.02, 55, 90, 'Clouds', 4.6]]"
      ]
     },
     "metadata": {},
     "output_type": "display_data"
    },
    {
     "data": {
      "text/plain": [
       "[[1471546800, 34.2, 38, 75, 'Clouds', 2.6]]"
      ]
     },
     "metadata": {},
     "output_type": "display_data"
    },
    {
     "data": {
      "text/plain": [
       "[[1472756400, 31.7, 51, 40, 'Thunderstorm', 2.6]]"
      ]
     },
     "metadata": {},
     "output_type": "display_data"
    },
    {
     "data": {
      "text/plain": [
       "[[1475175600, 23.92, 33, 1, 'Clear', 4.6]]"
      ]
     },
     "metadata": {},
     "output_type": "display_data"
    },
    {
     "data": {
      "text/plain": [
       "[[1492714800, 27.35, 47, 20, 'Clouds', 3.6]]"
      ]
     },
     "metadata": {},
     "output_type": "display_data"
    },
    {
     "data": {
      "text/plain": [
       "[[1493924400, 18.55, 88, 90, 'Rain', 4.12]]"
      ]
     },
     "metadata": {},
     "output_type": "display_data"
    },
    {
     "data": {
      "text/plain": [
       "[[1496948400, 24.94, 53, 20, 'Clouds', 2.6]]"
      ]
     },
     "metadata": {},
     "output_type": "display_data"
    },
    {
     "data": {
      "text/plain": [
       "[[1498158000, 27.27, 77, 75, 'Clouds', 4.6]]"
      ]
     },
     "metadata": {},
     "output_type": "display_data"
    },
    {
     "data": {
      "text/plain": [
       "[[1501786800, 28.64, 62, 20, 'Clouds', 2.06]]"
      ]
     },
     "metadata": {},
     "output_type": "display_data"
    },
    {
     "data": {
      "text/plain": [
       "[[1504810800, 23.72, 38, 1, 'Clear', 2.06]]"
      ]
     },
     "metadata": {},
     "output_type": "display_data"
    },
    {
     "data": {
      "text/plain": [
       "[[1506020400, 30.81, 46, 1, 'Clear', 1.54]]"
      ]
     },
     "metadata": {},
     "output_type": "display_data"
    },
    {
     "data": {
      "text/plain": [
       "[[1522350000, 22.66, 57, 75, 'Clouds', 8.75]]"
      ]
     },
     "metadata": {},
     "output_type": "display_data"
    },
    {
     "data": {
      "text/plain": [
       "[[1524164400, 17.38, 42, 1, 'Clear', 7.2]]"
      ]
     },
     "metadata": {},
     "output_type": "display_data"
    },
    {
     "data": {
      "text/plain": [
       "[[1527793200, 28.89, 62, 40, 'Clouds', 3.09]]"
      ]
     },
     "metadata": {},
     "output_type": "display_data"
    },
    {
     "data": {
      "text/plain": [
       "[[1529002800, 27.99, 66, 20, 'Clouds', 1.21]]"
      ]
     },
     "metadata": {},
     "output_type": "display_data"
    },
    {
     "data": {
      "text/plain": [
       "[[1532631600, 31.9, 38, 1, 'Clear', 1.75]]"
      ]
     },
     "metadata": {},
     "output_type": "display_data"
    },
    {
     "data": {
      "text/plain": [
       "[[1534446000, 31.74, 52, 1, 'Clear', 2.57]]"
      ]
     },
     "metadata": {},
     "output_type": "display_data"
    },
    {
     "data": {
      "text/plain": [
       "[[1537470000, 33.01, 44, 20, 'Clouds', 1.54]]"
      ]
     },
     "metadata": {},
     "output_type": "display_data"
    },
    {
     "data": {
      "text/plain": [
       "[[1555009200, 27.23, 29, 1, 'Clear', 6.7]]"
      ]
     },
     "metadata": {},
     "output_type": "display_data"
    },
    {
     "data": {
      "text/plain": [
       "[[1555614000, 24.98, 48, 40, 'Clouds', 7.2]]"
      ]
     },
     "metadata": {},
     "output_type": "display_data"
    },
    {
     "data": {
      "text/plain": [
       "[[1556823600, 27.8, 36, 1, 'Clear', 3.6]]"
      ]
     },
     "metadata": {},
     "output_type": "display_data"
    },
    {
     "data": {
      "text/plain": [
       "[[1562266800, 33.79, 38, 20, 'Clouds', 2.1]]"
      ]
     },
     "metadata": {},
     "output_type": "display_data"
    },
    {
     "data": {
      "text/plain": [
       "[[1563476400, 30.46, 64, 75, 'Thunderstorm', 6.2]]"
      ]
     },
     "metadata": {},
     "output_type": "display_data"
    },
    {
     "data": {
      "text/plain": [
       "[[1565895600, 32.8, 40, 20, 'Clouds', 3.1]]"
      ]
     },
     "metadata": {},
     "output_type": "display_data"
    },
    {
     "data": {
      "text/plain": [
       "[[1566500400, 32.74, 45, 20, 'Clouds', 2.6]]"
      ]
     },
     "metadata": {},
     "output_type": "display_data"
    },
    {
     "data": {
      "text/plain": [
       "[[1567710000, 33.07, 28, 1, 'Clear', 4.1]]"
      ]
     },
     "metadata": {},
     "output_type": "display_data"
    },
    {
     "data": {
      "text/plain": [
       "[[1568919600, 26.32, 40, 1, 'Clear', 3.1]]"
      ]
     },
     "metadata": {},
     "output_type": "display_data"
    },
    {
     "data": {
      "text/plain": [
       "[[1600974000, 18.31, 89, 90, 'Rain', 4.1]]"
      ]
     },
     "metadata": {},
     "output_type": "display_data"
    },
    {
     "data": {
      "text/plain": [
       "[[1602788400, 25.76, 62, 75, 'Clouds', 2.6]]"
      ]
     },
     "metadata": {},
     "output_type": "display_data"
    },
    {
     "data": {
      "text/plain": [
       "[[1302807600, 23.48, 28, 1, 'Clear', 2.1]]"
      ]
     },
     "metadata": {},
     "output_type": "display_data"
    },
    {
     "data": {
      "text/plain": [
       "[[1377716400, 30.53, 48, 20, 'Clouds', 1.5]]"
      ]
     },
     "metadata": {},
     "output_type": "display_data"
    },
    {
     "data": {
      "text/plain": [
       "[[1467226800, 33.07, 38, 1, 'Clear', 3.1]]"
      ]
     },
     "metadata": {},
     "output_type": "display_data"
    },
    {
     "data": {
      "text/plain": [
       "[[1366225200, 27.56, 48, 75, 'Clouds', 1.88]]"
      ]
     },
     "metadata": {},
     "output_type": "display_data"
    },
    {
     "data": {
      "text/plain": [
       "[[1563994800, 28.5, 38, 40, 'Clouds', 2.5]]"
      ]
     },
     "metadata": {},
     "output_type": "display_data"
    },
    {
     "data": {
      "text/plain": [
       "[[1369249200, 30.03, 41, 1, 'Clear', 5.7]]"
      ]
     },
     "metadata": {},
     "output_type": "display_data"
    },
    {
     "data": {
      "text/plain": [
       "[[1471460400, 32.85, 44, 75, 'Clouds', 3.1]]"
      ]
     },
     "metadata": {},
     "output_type": "display_data"
    },
    {
     "data": {
      "text/plain": [
       "[[1434567600, 34.52, 41, 75, 'Clouds', 2.1]]"
      ]
     },
     "metadata": {},
     "output_type": "display_data"
    },
    {
     "data": {
      "text/plain": [
       "[[1536174000, 30.11, 59, 1, 'Clear', 3.6]]"
      ]
     },
     "metadata": {},
     "output_type": "display_data"
    },
    {
     "data": {
      "text/plain": [
       "[[1339614000, 30.86, 47, 40, 'Clouds', 1.06]]"
      ]
     },
     "metadata": {},
     "output_type": "display_data"
    },
    {
     "data": {
      "text/plain": [
       "[[1598468400, 30.03, 67, 40, 'Clouds', 1.36]]"
      ]
     },
     "metadata": {},
     "output_type": "display_data"
    },
    {
     "data": {
      "text/plain": [
       "[[1598468400, 30.03, 67, 40, 'Clouds', 1.36]]"
      ]
     },
     "metadata": {},
     "output_type": "display_data"
    },
    {
     "data": {
      "text/plain": [
       "[[1276714800, 31.31, 52, 20, 'Clouds', 4.1]]"
      ]
     },
     "metadata": {},
     "output_type": "display_data"
    },
    {
     "data": {
      "text/plain": [
       "[[1432148400, 29.75, 45, 40, 'Clouds', 3.1]]"
      ]
     },
     "metadata": {},
     "output_type": "display_data"
    },
    {
     "data": {
      "text/plain": [
       "[[1535569200, 30.45, 62, 75, 'Clouds', 4.12]]"
      ]
     },
     "metadata": {},
     "output_type": "display_data"
    },
    {
     "data": {
      "text/plain": [
       "[[1596049200, 28.09, 71, 90, 'Rain', 3.6]]"
      ]
     },
     "metadata": {},
     "output_type": "display_data"
    },
    {
     "data": {
      "text/plain": [
       "[[1308769200, 31.89, 46, 75, 'Clouds', 4.1]]"
      ]
     },
     "metadata": {},
     "output_type": "display_data"
    },
    {
     "data": {
      "text/plain": [
       "[[1369854000, 27.74, 40, 1, 'Clear', 2.6]]"
      ]
     },
     "metadata": {},
     "output_type": "display_data"
    },
    {
     "data": {
      "text/plain": [
       "[[1442430000, 25.5, 45, 40, 'Clouds', 4.6]]"
      ]
     },
     "metadata": {},
     "output_type": "display_data"
    },
    {
     "data": {
      "text/plain": [
       "[[1495047600, 31.04, 36, 20, 'Clouds', 4.6]]"
      ]
     },
     "metadata": {},
     "output_type": "display_data"
    },
    {
     "data": {
      "text/plain": [
       "[[1531335600, 32.08, 56, 75, 'Clouds', 2.06]]"
      ]
     },
     "metadata": {},
     "output_type": "display_data"
    },
    {
     "data": {
      "text/plain": [
       "[[1596654000, 30.75, 53, 75, 'Thunderstorm', 2.6]]"
      ]
     },
     "metadata": {},
     "output_type": "display_data"
    },
    {
     "data": {
      "text/plain": [
       "[[1499281200, 32.21, 53, 40, 'Clouds', 3.6]]"
      ]
     },
     "metadata": {},
     "output_type": "display_data"
    },
    {
     "data": {
      "text/plain": [
       "[[1401908400, 30.02, 53, 20, 'Clouds', 3.6]]"
      ]
     },
     "metadata": {},
     "output_type": "display_data"
    },
    {
     "data": {
      "text/plain": [
       "[[1503514800, 30.79, 55, 40, 'Clouds', 5.66]]"
      ]
     },
     "metadata": {},
     "output_type": "display_data"
    },
    {
     "data": {
      "text/plain": [
       "[[1504724400, 22.54, 53, 20, 'Clouds', 4.63]]"
      ]
     },
     "metadata": {},
     "output_type": "display_data"
    },
    {
     "data": {
      "text/plain": [
       "[[1504724400, 22.54, 53, 20, 'Clouds', 4.63]]"
      ]
     },
     "metadata": {},
     "output_type": "display_data"
    },
    {
     "data": {
      "text/plain": [
       "[[1270666800, 26.13, 32, 1, 'Clear', 6.2]]"
      ]
     },
     "metadata": {},
     "output_type": "display_data"
    },
    {
     "data": {
      "text/plain": [
       "[[1341428400, 33.9, 38, 40, 'Rain', 2.1]]"
      ]
     },
     "metadata": {},
     "output_type": "display_data"
    },
    {
     "data": {
      "text/plain": [
       "[[1500490800, 32.55, 49, 40, 'Clouds', 3.09]]"
      ]
     },
     "metadata": {},
     "output_type": "display_data"
    },
    {
     "data": {
      "text/plain": [
       "[[1526497200, 23.9, 83, 20, 'Clouds', 1.54]]"
      ]
     },
     "metadata": {},
     "output_type": "display_data"
    },
    {
     "data": {
      "text/plain": [
       "[[1554318000, 21.3, 24, 1, 'Clear', 3.6]]"
      ]
     },
     "metadata": {},
     "output_type": "display_data"
    },
    {
     "data": {
      "text/plain": [
       "[[1274295600, 24.69, 41, 1, 'Clear', 3.6]]"
      ]
     },
     "metadata": {},
     "output_type": "display_data"
    },
    {
     "data": {
      "text/plain": [
       "[[1466017200, 28.3, 84, 75, 'Rain', 3.64]]"
      ]
     },
     "metadata": {},
     "output_type": "display_data"
    },
    {
     "data": {
      "text/plain": [
       "[[1530126000, 31.18, 59, 75, 'Clouds', 3.09]]"
      ]
     },
     "metadata": {},
     "output_type": "display_data"
    },
    {
     "data": {
      "text/plain": [
       "[[1601492400, 21.43, 42, 1, 'Clear', 3.6]]"
      ]
     },
     "metadata": {},
     "output_type": "display_data"
    },
    {
     "data": {
      "text/plain": [
       "[[1304535600, 17.81, 37, 1, 'Clear', 6.2]]"
      ]
     },
     "metadata": {},
     "output_type": "display_data"
    },
    {
     "data": {
      "text/plain": [
       "[[1304535600, 17.81, 37, 1, 'Clear', 6.2]]"
      ]
     },
     "metadata": {},
     "output_type": "display_data"
    },
    {
     "data": {
      "text/plain": [
       "[[1380135600, 17.92, 93, 90, 'Rain', 3.1]]"
      ]
     },
     "metadata": {},
     "output_type": "display_data"
    },
    {
     "data": {
      "text/plain": [
       "[[1400698800, 29.26, 29, 1, 'Clear', 6.7]]"
      ]
     },
     "metadata": {},
     "output_type": "display_data"
    },
    {
     "data": {
      "text/plain": [
       "[[1464202800, 29.66, 32, 1, 'Clear', 3.1]]"
      ]
     },
     "metadata": {},
     "output_type": "display_data"
    },
    {
     "data": {
      "text/plain": [
       "[[1311793200, 33.77, 45, 40, 'Clouds', 3.1]]"
      ]
     },
     "metadata": {},
     "output_type": "display_data"
    },
    {
     "data": {
      "text/plain": [
       "[[1370458800, 28.32, 59, 40, 'Clouds', 2.6]]"
      ]
     },
     "metadata": {},
     "output_type": "display_data"
    },
    {
     "data": {
      "text/plain": [
       "[[1411585200, 24.11, 37, 1, 'Clear', 2.1]]"
      ]
     },
     "metadata": {},
     "output_type": "display_data"
    },
    {
     "data": {
      "text/plain": [
       "[[1470250800, 31.6, 43, 40, 'Clouds', 4.6]]"
      ]
     },
     "metadata": {},
     "output_type": "display_data"
    },
    {
     "data": {
      "text/plain": [
       "[[1495652400, 24.85, 56, 40, 'Rain', 7.2]]"
      ]
     },
     "metadata": {},
     "output_type": "display_data"
    },
    {
     "data": {
      "text/plain": [
       "[[1560366000, 22.13, 68, 90, 'Clouds', 4.1]]"
      ]
     },
     "metadata": {},
     "output_type": "display_data"
    },
    {
     "data": {
      "text/plain": [
       "[[1338404400, 30.54, 40, 1, 'Clear', 2.1]]"
      ]
     },
     "metadata": {},
     "output_type": "display_data"
    },
    {
     "data": {
      "text/plain": [
       "[[1399489200, 29.42, 26, 1, 'Clear', 4.6]]"
      ]
     },
     "metadata": {},
     "output_type": "display_data"
    },
    {
     "data": {
      "text/plain": [
       "[[1537383600, 33.1, 43, 20, 'Clouds', 0.8]]"
      ]
     },
     "metadata": {},
     "output_type": "display_data"
    },
    {
     "data": {
      "text/plain": [
       "[[1557946800, 22.93, 38, 1, 'Clear', 2.1]]"
      ]
     },
     "metadata": {},
     "output_type": "display_data"
    },
    {
     "data": {
      "text/plain": [
       "[[1570647600, 22.32, 57, 40, 'Clouds', 2.1]]"
      ]
     },
     "metadata": {},
     "output_type": "display_data"
    },
    {
     "data": {
      "text/plain": [
       "[[1271876400, 21.22, 36, 40, 'Clouds', 3.1]]"
      ]
     },
     "metadata": {},
     "output_type": "display_data"
    },
    {
     "data": {
      "text/plain": [
       "[[1274900400, 28.38, 49, 20, 'Clouds', 5.1]]"
      ]
     },
     "metadata": {},
     "output_type": "display_data"
    },
    {
     "data": {
      "text/plain": [
       "[[1275505200, 28.88, 60, 20, 'Haze', 4.1]]"
      ]
     },
     "metadata": {},
     "output_type": "display_data"
    },
    {
     "data": {
      "text/plain": [
       "[[1277924400, 29.48, 55, 1, 'Clear', 1.05]]"
      ]
     },
     "metadata": {},
     "output_type": "display_data"
    },
    {
     "data": {
      "text/plain": [
       "[[1279738800, 33.38, 49, 40, 'Thunderstorm', 5.1]]"
      ]
     },
     "metadata": {},
     "output_type": "display_data"
    },
    {
     "data": {
      "text/plain": [
       "[[1280948400, 34.17, 51, 1, 'Clear', 1.5]]"
      ]
     },
     "metadata": {},
     "output_type": "display_data"
    },
    {
     "data": {
      "text/plain": [
       "[[1282158000, 32.71, 53, 40, 'Clouds', 4.1]]"
      ]
     },
     "metadata": {},
     "output_type": "display_data"
    },
    {
     "data": {
      "text/plain": [
       "[[1283367600, 32.17, 39, 1, 'Clear', 3.1]]"
      ]
     },
     "metadata": {},
     "output_type": "display_data"
    },
    {
     "data": {
      "text/plain": [
       "[[1284577200, 32.03, 26, 20, 'Clouds', 4.1]]"
      ]
     },
     "metadata": {},
     "output_type": "display_data"
    },
    {
     "data": {
      "text/plain": [
       "[[1285786800, 24.54, 51, 75, 'Clouds', 5.1]]"
      ]
     },
     "metadata": {},
     "output_type": "display_data"
    },
    {
     "data": {
      "text/plain": [
       "[[1302721200, 22.42, 30, 1, 'Clear', 4.1]]"
      ]
     },
     "metadata": {},
     "output_type": "display_data"
    },
    {
     "data": {
      "text/plain": [
       "[[1305140400, 31.09, 41, 1, 'Clear', 2.6]]"
      ]
     },
     "metadata": {},
     "output_type": "display_data"
    },
    {
     "data": {
      "text/plain": [
       "[[1306954800, 35.49, 35, 1, 'Clear', 3.1]]"
      ]
     },
     "metadata": {},
     "output_type": "display_data"
    },
    {
     "data": {
      "text/plain": [
       "[[1307559600, 32.73, 34, 1, 'Clear', 3.6]]"
      ]
     },
     "metadata": {},
     "output_type": "display_data"
    },
    {
     "data": {
      "text/plain": [
       "[[1308164400, 32.73, 36, 1, 'Clear', 3.1]]"
      ]
     },
     "metadata": {},
     "output_type": "display_data"
    },
    {
     "data": {
      "text/plain": [
       "[[1309978800, 29.06, 53, 1, 'Clear', 2.6]]"
      ]
     },
     "metadata": {},
     "output_type": "display_data"
    },
    {
     "data": {
      "text/plain": [
       "[[1313002800, 32.99, 48, 1, 'Clear', 4.1]]"
      ]
     },
     "metadata": {},
     "output_type": "display_data"
    },
    {
     "data": {
      "text/plain": [
       "[[1313607600, 32.19, 38, 20, 'Clouds', 4.1]]"
      ]
     },
     "metadata": {},
     "output_type": "display_data"
    },
    {
     "data": {
      "text/plain": [
       "[[1314817200, 31.29, 46, 20, 'Clouds', 4.1]]"
      ]
     },
     "metadata": {},
     "output_type": "display_data"
    },
    {
     "data": {
      "text/plain": [
       "[[1316026800, 31.95, 27, 20, 'Clouds', 1.5]]"
      ]
     },
     "metadata": {},
     "output_type": "display_data"
    },
    {
     "data": {
      "text/plain": [
       "[[1316631600, 28.2, 53, 20, 'Clouds', 3.1]]"
      ]
     },
     "metadata": {},
     "output_type": "display_data"
    },
    {
     "data": {
      "text/plain": [
       "[[1317236400, 25.57, 62, 20, 'Clouds', 3.6]]"
      ]
     },
     "metadata": {},
     "output_type": "display_data"
    },
    {
     "data": {
      "text/plain": [
       "[[1334775600, 17.56, 78, 90, 'Clouds', 2.6]]"
      ]
     },
     "metadata": {},
     "output_type": "display_data"
    },
    {
     "data": {
      "text/plain": [
       "[[1335985200, 29.93, 43, 75, 'Clouds', 3.1]]"
      ]
     },
     "metadata": {},
     "output_type": "display_data"
    },
    {
     "data": {
      "text/plain": [
       "[[1337194800, 26.7, 40, 1, 'Clear', 4.6]]"
      ]
     },
     "metadata": {},
     "output_type": "display_data"
    },
    {
     "data": {
      "text/plain": [
       "[[1340823600, 30.75, 34, 1, 'Clear', 1.6]]"
      ]
     },
     "metadata": {},
     "output_type": "display_data"
    },
    {
     "data": {
      "text/plain": [
       "[[1342638000, 31.67, 55, 20, 'Clouds', 2.6]]"
      ]
     },
     "metadata": {},
     "output_type": "display_data"
    },
    {
     "data": {
      "text/plain": [
       "[[1343847600, 33.07, 50, 1, 'Clear', 3.6]]"
      ]
     },
     "metadata": {},
     "output_type": "display_data"
    },
    {
     "data": {
      "text/plain": [
       "[[1345057200, 27.56, 60, 1, 'Clear', 3.1]]"
      ]
     },
     "metadata": {},
     "output_type": "display_data"
    },
    {
     "data": {
      "text/plain": [
       "[[1346871600, 28.02, 65, 75, 'Clouds', 3.6]]"
      ]
     },
     "metadata": {},
     "output_type": "display_data"
    },
    {
     "data": {
      "text/plain": [
       "[[1348686000, 27.93, 38, 1, 'Clear', 0.11]]"
      ]
     },
     "metadata": {},
     "output_type": "display_data"
    },
    {
     "data": {
      "text/plain": [
       "[[1365015600, 15.22, 30, 75, 'Clouds', 3.6]]"
      ]
     },
     "metadata": {},
     "output_type": "display_data"
    },
    {
     "data": {
      "text/plain": [
       "[[1367434800, 20.06, 58, 90, 'Clouds', 5.7]]"
      ]
     },
     "metadata": {},
     "output_type": "display_data"
    },
    {
     "data": {
      "text/plain": [
       "[[1371668400, 25.9, 69, 75, 'Clouds', 2.1]]"
      ]
     },
     "metadata": {},
     "output_type": "display_data"
    },
    {
     "data": {
      "text/plain": [
       "[[1372878000, 20.13, 93, 90, 'Rain', 2.6]]"
      ]
     },
     "metadata": {},
     "output_type": "display_data"
    },
    {
     "data": {
      "text/plain": [
       "[[1375297200, 23.27, 83, 90, 'Rain', 1.44]]"
      ]
     },
     "metadata": {},
     "output_type": "display_data"
    },
    {
     "data": {
      "text/plain": [
       "[[1376506800, 26.51, 64, 1, 'Clear', 3.1]]"
      ]
     },
     "metadata": {},
     "output_type": "display_data"
    },
    {
     "data": {
      "text/plain": [
       "[[1378321200, 30.29, 49, 20, 'Clouds', 2.6]]"
      ]
     },
     "metadata": {},
     "output_type": "display_data"
    },
    {
     "data": {
      "text/plain": [
       "[[1397070000, 17.99, 36, 20, 'Clouds', 4.6]]"
      ]
     },
     "metadata": {},
     "output_type": "display_data"
    },
    {
     "data": {
      "text/plain": [
       "[[1398279600, 23.26, 23, 1, 'Clear', 4.6]]"
      ]
     },
     "metadata": {},
     "output_type": "display_data"
    },
    {
     "data": {
      "text/plain": [
       "[[1403118000, 32.51, 42, 1, 'Clear', 3.6]]"
      ]
     },
     "metadata": {},
     "output_type": "display_data"
    },
    {
     "data": {
      "text/plain": [
       "[[1404327600, 33.19, 41, 1, 'Clear', 1.18]]"
      ]
     },
     "metadata": {},
     "output_type": "display_data"
    },
    {
     "data": {
      "text/plain": [
       "[[1406142000, 29.89, 61, 75, 'Clouds', 1.07]]"
      ]
     },
     "metadata": {},
     "output_type": "display_data"
    },
    {
     "data": {
      "text/plain": [
       "[[1407956400, 27.87, 38, 1, 'Clear', 4.1]]"
      ]
     },
     "metadata": {},
     "output_type": "display_data"
    },
    {
     "data": {
      "text/plain": [
       "[[1409770800, 31.09, 48, 75, 'Clouds', 2.1]]"
      ]
     },
     "metadata": {},
     "output_type": "display_data"
    },
    {
     "data": {
      "text/plain": [
       "[[1410980400, 27.85, 50, 1, 'Clear', 4.1]]"
      ]
     },
     "metadata": {},
     "output_type": "display_data"
    },
    {
     "data": {
      "text/plain": [
       "[[1429124400, 23.68, 64, 20, 'Clouds', 0.46]]"
      ]
     },
     "metadata": {},
     "output_type": "display_data"
    },
    {
     "data": {
      "text/plain": [
       "[[1430334000, 15.44, 69, 90, 'Clouds', 3.1]]"
      ]
     },
     "metadata": {},
     "output_type": "display_data"
    },
    {
     "data": {
      "text/plain": [
       "[[1430938800, 26.48, 36, 20, 'Clouds', 5.1]]"
      ]
     },
     "metadata": {},
     "output_type": "display_data"
    },
    {
     "data": {
      "text/plain": [
       "[[1433962800, 28.71, 53, 1, 'Clear', 1.6]]"
      ]
     },
     "metadata": {},
     "output_type": "display_data"
    },
    {
     "data": {
      "text/plain": [
       "[[1435777200, 28.19, 60, 75, 'Clouds', 2.1]]"
      ]
     },
     "metadata": {},
     "output_type": "display_data"
    },
    {
     "data": {
      "text/plain": [
       "[[1437591600, 32.51, 52, 75, 'Clouds', 3.6]]"
      ]
     },
     "metadata": {},
     "output_type": "display_data"
    },
    {
     "data": {
      "text/plain": [
       "[[1438801200, 34.64, 37, 1, 'Clear', 3.6]]"
      ]
     },
     "metadata": {},
     "output_type": "display_data"
    },
    {
     "data": {
      "text/plain": [
       "[[1440615600, 28.63, 47, 75, 'Clouds', 3.1]]"
      ]
     },
     "metadata": {},
     "output_type": "display_data"
    },
    {
     "data": {
      "text/plain": [
       "[[1441220400, 31.15, 51, 40, 'Clouds', 2.1]]"
      ]
     },
     "metadata": {},
     "output_type": "display_data"
    },
    {
     "data": {
      "text/plain": [
       "[[1443639600, 28, 60, 1, 'Clear', 4.6]]"
      ]
     },
     "metadata": {},
     "output_type": "display_data"
    },
    {
     "data": {
      "text/plain": [
       "[[1459969200, 17.47, 49, 1, 'Clear', 6.2]]"
      ]
     },
     "metadata": {},
     "output_type": "display_data"
    },
    {
     "data": {
      "text/plain": [
       "[[1461178800, 26.47, 37, 75, 'Clouds', 2.6]]"
      ]
     },
     "metadata": {},
     "output_type": "display_data"
    },
    {
     "data": {
      "text/plain": [
       "[[1462993200, 28.62, 45, 75, 'Clouds', 1.38]]"
      ]
     },
     "metadata": {},
     "output_type": "display_data"
    },
    {
     "data": {
      "text/plain": [
       "[[1464807600, 32.32, 35, 40, 'Clouds', 4.1]]"
      ]
     },
     "metadata": {},
     "output_type": "display_data"
    },
    {
     "data": {
      "text/plain": [
       "[[1472670000, 32.51, 41, 40, 'Clouds', 4.1]]"
      ]
     },
     "metadata": {},
     "output_type": "display_data"
    },
    {
     "data": {
      "text/plain": [
       "[[1473879600, 31.85, 39, 20, 'Clouds', 1.5]]"
      ]
     },
     "metadata": {},
     "output_type": "display_data"
    },
    {
     "data": {
      "text/plain": [
       "[[1475089200, 28.69, 37, 1, 'Clear', 2.1]]"
      ]
     },
     "metadata": {},
     "output_type": "display_data"
    },
    {
     "data": {
      "text/plain": [
       "[[1492628400, 24.33, 60, 75, 'Clouds', 3.6]]"
      ]
     },
     "metadata": {},
     "output_type": "display_data"
    },
    {
     "data": {
      "text/plain": [
       "[[1493838000, 27.72, 25, 1, 'Clear', 4.1]]"
      ]
     },
     "metadata": {},
     "output_type": "display_data"
    },
    {
     "data": {
      "text/plain": [
       "[[1496862000, 26.06, 52, 75, 'Clouds', 4.6]]"
      ]
     },
     "metadata": {},
     "output_type": "display_data"
    },
    {
     "data": {
      "text/plain": [
       "[[1498071600, 25.31, 79, 75, 'Clouds', 2.1]]"
      ]
     },
     "metadata": {},
     "output_type": "display_data"
    },
    {
     "data": {
      "text/plain": [
       "[[1501700400, 28.98, 48, 1, 'Clear', 0.63]]"
      ]
     },
     "metadata": {},
     "output_type": "display_data"
    },
    {
     "data": {
      "text/plain": [
       "[[1502305200, 24.58, 79, 90, 'Clouds', 4.63]]"
      ]
     },
     "metadata": {},
     "output_type": "display_data"
    },
    {
     "data": {
      "text/plain": [
       "[[1505934000, 30.82, 48, 20, 'Clouds', 2.1]]"
      ]
     },
     "metadata": {},
     "output_type": "display_data"
    },
    {
     "data": {
      "text/plain": [
       "[[1522868400, 13.23, 38, 1, 'Clear', 5.14]]"
      ]
     },
     "metadata": {},
     "output_type": "display_data"
    },
    {
     "data": {
      "text/plain": [
       "[[1524078000, 27.27, 23, 1, 'Clear', 6.69]]"
      ]
     },
     "metadata": {},
     "output_type": "display_data"
    },
    {
     "data": {
      "text/plain": [
       "[[1527706800, 25.95, 79, 40, 'Rain', 2.57]]"
      ]
     },
     "metadata": {},
     "output_type": "display_data"
    },
    {
     "data": {
      "text/plain": [
       "[[1528916400, 29.02, 62, 40, 'Clouds', 3.09]]"
      ]
     },
     "metadata": {},
     "output_type": "display_data"
    },
    {
     "data": {
      "text/plain": [
       "[[1533150000, 24.14, 94, 75, 'Clouds', 2.06]]"
      ]
     },
     "metadata": {},
     "output_type": "display_data"
    },
    {
     "data": {
      "text/plain": [
       "[[1534359600, 31.91, 46, 1, 'Clear', 0.37]]"
      ]
     },
     "metadata": {},
     "output_type": "display_data"
    },
    {
     "data": {
      "text/plain": [
       "[[1555527600, 26.03, 32, 1, 'Clear', 4.1]]"
      ]
     },
     "metadata": {},
     "output_type": "display_data"
    },
    {
     "data": {
      "text/plain": [
       "[[1556737200, 27.36, 56, 20, 'Clouds', 3.1]]"
      ]
     },
     "metadata": {},
     "output_type": "display_data"
    },
    {
     "data": {
      "text/plain": [
       "[[1559156400, 33.56, 31, 1, 'Clear', 5.1]]"
      ]
     },
     "metadata": {},
     "output_type": "display_data"
    },
    {
     "data": {
      "text/plain": [
       "[[1560970800, 29.49, 65, 75, 'Clouds', 3.04]]"
      ]
     },
     "metadata": {},
     "output_type": "display_data"
    },
    {
     "data": {
      "text/plain": [
       "[[1562180400, 30.81, 53, 1, 'Clear', 3.6]]"
      ]
     },
     "metadata": {},
     "output_type": "display_data"
    },
    {
     "data": {
      "text/plain": [
       "[[1565809200, 31.83, 53, 20, 'Clouds', 3.1]]"
      ]
     },
     "metadata": {},
     "output_type": "display_data"
    },
    {
     "data": {
      "text/plain": [
       "[[1566414000, 32.61, 41, 40, 'Clouds', 4.1]]"
      ]
     },
     "metadata": {},
     "output_type": "display_data"
    },
    {
     "data": {
      "text/plain": [
       "[[1568833200, 28.48, 57, 75, 'Clouds', 5.7]]"
      ]
     },
     "metadata": {},
     "output_type": "display_data"
    },
    {
     "data": {
      "text/plain": [
       "[[1597863600, 30.59, 46, 20, 'Clouds', 3.1]]"
      ]
     },
     "metadata": {},
     "output_type": "display_data"
    },
    {
     "data": {
      "text/plain": [
       "[[1599678000, 27.72, 60, 90, 'Clouds', 3.6]]"
      ]
     },
     "metadata": {},
     "output_type": "display_data"
    },
    {
     "data": {
      "text/plain": [
       "[[1600887600, 23, 46, 1, 'Clear', 3.1]]"
      ]
     },
     "metadata": {},
     "output_type": "display_data"
    },
    {
     "data": {
      "text/plain": [
       "[[1602097200, 26.84, 47, 1, 'Clear', 3.6]]"
      ]
     },
     "metadata": {},
     "output_type": "display_data"
    },
    {
     "data": {
      "text/plain": [
       "[[1602702000, 25.71, 46, 1, 'Clear', 2.1]]"
      ]
     },
     "metadata": {},
     "output_type": "display_data"
    },
    {
     "data": {
      "text/plain": [
       "[[1285786800, 24.54, 51, 75, 'Clouds', 5.1]]"
      ]
     },
     "metadata": {},
     "output_type": "display_data"
    },
    {
     "data": {
      "text/plain": [
       "[[1302721200, 22.42, 30, 1, 'Clear', 4.1]]"
      ]
     },
     "metadata": {},
     "output_type": "display_data"
    },
    {
     "data": {
      "text/plain": [
       "[[1316026800, 31.95, 27, 20, 'Clouds', 1.5]]"
      ]
     },
     "metadata": {},
     "output_type": "display_data"
    },
    {
     "data": {
      "text/plain": [
       "[[1377630000, 28.97, 53, 75, 'Clouds', 3.6]]"
      ]
     },
     "metadata": {},
     "output_type": "display_data"
    },
    {
     "data": {
      "text/plain": [
       "[[1467140400, 30.14, 61, 40, 'Thunderstorm', 5.1]]"
      ]
     },
     "metadata": {},
     "output_type": "display_data"
    },
    {
     "data": {
      "text/plain": [
       "[[1366138800, 25.85, 52, 75, 'Clouds', 3.6]]"
      ]
     },
     "metadata": {},
     "output_type": "display_data"
    },
    {
     "data": {
      "text/plain": [
       "[[1563908400, 26.56, 67, 75, 'Rain', 6.2]]"
      ]
     },
     "metadata": {},
     "output_type": "display_data"
    },
    {
     "data": {
      "text/plain": [
       "[[1369162800, 30.1, 51, 20, 'Clouds', 2.6]]"
      ]
     },
     "metadata": {},
     "output_type": "display_data"
    },
    {
     "data": {
      "text/plain": [
       "[[1471374000, 30.88, 60, 75, 'Thunderstorm', 5.1]]"
      ]
     },
     "metadata": {},
     "output_type": "display_data"
    },
    {
     "data": {
      "text/plain": [
       "[[1401217200, 27.6, 67, 75, 'Rain', 2.1]]"
      ]
     },
     "metadata": {},
     "output_type": "display_data"
    },
    {
     "data": {
      "text/plain": [
       "[[1461697200, 26.82, 45, 20, 'Clouds', 4.1]]"
      ]
     },
     "metadata": {},
     "output_type": "display_data"
    },
    {
     "data": {
      "text/plain": [
       "[[1536087600, 29, 66, 40, 'Clouds', 3.09]]"
      ]
     },
     "metadata": {},
     "output_type": "display_data"
    },
    {
     "data": {
      "text/plain": [
       "[[1339527600, 28.01, 52, 1, 'Clear', 7.2]]"
      ]
     },
     "metadata": {},
     "output_type": "display_data"
    },
    {
     "data": {
      "text/plain": [
       "[[1598382000, 23.35, 90, 90, 'Rain', 2.6]]"
      ]
     },
     "metadata": {},
     "output_type": "display_data"
    },
    {
     "data": {
      "text/plain": [
       "[[1276628400, 34.25, 49, 75, 'Clouds', 2.1]]"
      ]
     },
     "metadata": {},
     "output_type": "display_data"
    },
    {
     "data": {
      "text/plain": [
       "[[1432062000, 28.78, 51, 20, 'Clouds', 2.6]]"
      ]
     },
     "metadata": {},
     "output_type": "display_data"
    },
    {
     "data": {
      "text/plain": [
       "[[1535482800, 30.28, 52, 20, 'Clouds', 2.57]]"
      ]
     },
     "metadata": {},
     "output_type": "display_data"
    },
    {
     "data": {
      "text/plain": [
       "[[1308682800, 34.23, 35, 40, 'Clouds', 4.1]]"
      ]
     },
     "metadata": {},
     "output_type": "display_data"
    },
    {
     "data": {
      "text/plain": [
       "[[1442343600, 25.95, 40, 1, 'Clear', 2.97]]"
      ]
     },
     "metadata": {},
     "output_type": "display_data"
    },
    {
     "data": {
      "text/plain": [
       "[[1531249200, 32.06, 52, 40, 'Clouds', 1.47]]"
      ]
     },
     "metadata": {},
     "output_type": "display_data"
    },
    {
     "data": {
      "text/plain": [
       "[[1567537200, 33.08, 34, 75, 'Clouds', 2.6]]"
      ]
     },
     "metadata": {},
     "output_type": "display_data"
    },
    {
     "data": {
      "text/plain": [
       "[[1596567600, 31.18, 49, 40, 'Clouds', 2.05]]"
      ]
     },
     "metadata": {},
     "output_type": "display_data"
    },
    {
     "data": {
      "text/plain": [
       "[[1305658800, 15.77, 51, 90, 'Clouds', 6.2]]"
      ]
     },
     "metadata": {},
     "output_type": "display_data"
    },
    {
     "data": {
      "text/plain": [
       "[[1499194800, 31.9, 57, 20, 'Clouds', 4.1]]"
      ]
     },
     "metadata": {},
     "output_type": "display_data"
    },
    {
     "data": {
      "text/plain": [
       "[[1401822000, 27.64, 60, 90, 'Clouds', 2.6]]"
      ]
     },
     "metadata": {},
     "output_type": "display_data"
    },
    {
     "data": {
      "text/plain": [
       "[[1503428400, 32.68, 53, 1, 'Clear', 1.54]]"
      ]
     },
     "metadata": {},
     "output_type": "display_data"
    },
    {
     "data": {
      "text/plain": [
       "[[1504638000, 29.69, 58, 20, 'Clouds', 3.09]]"
      ]
     },
     "metadata": {},
     "output_type": "display_data"
    },
    {
     "data": {
      "text/plain": [
       "[[1341342000, 35.37, 35, 1, 'Clear', 2.1]]"
      ]
     },
     "metadata": {},
     "output_type": "display_data"
    },
    {
     "data": {
      "text/plain": [
       "[[1500404400, 31.05, 59, 20, 'Clouds', 0.6]]"
      ]
     },
     "metadata": {},
     "output_type": "display_data"
    },
    {
     "data": {
      "text/plain": [
       "[[1526410800, 25.36, 61, 90, 'Clouds', 5.14]]"
      ]
     },
     "metadata": {},
     "output_type": "display_data"
    },
    {
     "data": {
      "text/plain": [
       "[[1337108400, 25.2, 55, 20, 'Clouds', 2.6]]"
      ]
     },
     "metadata": {},
     "output_type": "display_data"
    },
    {
     "data": {
      "text/plain": [
       "[[1465930800, 24.61, 66, 90, 'Thunderstorm', 3.31]]"
      ]
     },
     "metadata": {},
     "output_type": "display_data"
    },
    {
     "data": {
      "text/plain": [
       "[[1530039600, 31.81, 59, 40, 'Clouds', 1.54]]"
      ]
     },
     "metadata": {},
     "output_type": "display_data"
    },
    {
     "data": {
      "text/plain": [
       "[[1304449200, 27.55, 47, 75, 'Clouds', 6.7]]"
      ]
     },
     "metadata": {},
     "output_type": "display_data"
    },
    {
     "data": {
      "text/plain": [
       "[[1380049200, 19.78, 73, 90, 'Clouds', 3.1]]"
      ]
     },
     "metadata": {},
     "output_type": "display_data"
    },
    {
     "data": {
      "text/plain": [
       "[[1400612400, 26.74, 49, 20, 'Clouds', 3.1]]"
      ]
     },
     "metadata": {},
     "output_type": "display_data"
    },
    {
     "data": {
      "text/plain": [
       "[[1464116400, 27.9, 32, 20, 'Clouds', 4.1]]"
      ]
     },
     "metadata": {},
     "output_type": "display_data"
    },
    {
     "data": {
      "text/plain": [
       "[[1311706800, 32.17, 55, 40, 'Clouds', 1.35]]"
      ]
     },
     "metadata": {},
     "output_type": "display_data"
    },
    {
     "data": {
      "text/plain": [
       "[[1370372400, 30.02, 45, 40, 'Clouds', 1.5]]"
      ]
     },
     "metadata": {},
     "output_type": "display_data"
    },
    {
     "data": {
      "text/plain": [
       "[[1411498800, 24.39, 45, 40, 'Clouds', 5.1]]"
      ]
     },
     "metadata": {},
     "output_type": "display_data"
    },
    {
     "data": {
      "text/plain": [
       "[[1470164400, 25, 83, 90, 'Thunderstorm', 10.29]]"
      ]
     },
     "metadata": {},
     "output_type": "display_data"
    },
    {
     "data": {
      "text/plain": [
       "[[1495566000, 21.76, 81, 75, 'Clouds', 3.1]]"
      ]
     },
     "metadata": {},
     "output_type": "display_data"
    },
    {
     "data": {
      "text/plain": [
       "[[1560279600, 28.23, 51, 1, 'Clear', 4.1]]"
      ]
     },
     "metadata": {},
     "output_type": "display_data"
    },
    {
     "data": {
      "text/plain": [
       "[[1338318000, 26.88, 61, 75, 'Clouds', 4.6]]"
      ]
     },
     "metadata": {},
     "output_type": "display_data"
    },
    {
     "data": {
      "text/plain": [
       "[[1399402800, 29.74, 34, 1, 'Clear', 3.1]]"
      ]
     },
     "metadata": {},
     "output_type": "display_data"
    },
    {
     "data": {
      "text/plain": [
       "[[1537297200, 31.94, 49, 20, 'Clouds', 4.12]]"
      ]
     },
     "metadata": {},
     "output_type": "display_data"
    },
    {
     "data": {
      "text/plain": [
       "[[1557860400, 21.09, 40, 1, 'Clear', 5.1]]"
      ]
     },
     "metadata": {},
     "output_type": "display_data"
    },
    {
     "data": {
      "text/plain": [
       "[[1271790000, 16.38, 83, 90, 'Clouds', 2.1]]"
      ]
     },
     "metadata": {},
     "output_type": "display_data"
    },
    {
     "data": {
      "text/plain": [
       "[[1274209200, 26.7, 48, 20, 'Clouds', 5.7]]"
      ]
     },
     "metadata": {},
     "output_type": "display_data"
    },
    {
     "data": {
      "text/plain": [
       "[[1274814000, 26.43, 45, 40, 'Clouds', 2.96]]"
      ]
     },
     "metadata": {},
     "output_type": "display_data"
    },
    {
     "data": {
      "text/plain": [
       "[[1275418800, 28.42, 56, 75, 'Haze', 2.1]]"
      ]
     },
     "metadata": {},
     "output_type": "display_data"
    },
    {
     "data": {
      "text/plain": [
       "[[1277838000, 32.83, 48, 40, 'Clouds', 2.1]]"
      ]
     },
     "metadata": {},
     "output_type": "display_data"
    },
    {
     "data": {
      "text/plain": [
       "[[1279652400, 32.2, 59, 75, 'Thunderstorm', 6.7]]"
      ]
     },
     "metadata": {},
     "output_type": "display_data"
    },
    {
     "data": {
      "text/plain": [
       "[[1280862000, 33.05, 61, 1, 'Haze', 4.1]]"
      ]
     },
     "metadata": {},
     "output_type": "display_data"
    },
    {
     "data": {
      "text/plain": [
       "[[1282071600, 31.1, 59, 40, 'Clouds', 2.1]]"
      ]
     },
     "metadata": {},
     "output_type": "display_data"
    },
    {
     "data": {
      "text/plain": [
       "[[1283281200, 31.09, 39, 1, 'Clear', 3.08]]"
      ]
     },
     "metadata": {},
     "output_type": "display_data"
    },
    {
     "data": {
      "text/plain": [
       "[[1284490800, 31.45, 26, 1, 'Clear', 0.87]]"
      ]
     },
     "metadata": {},
     "output_type": "display_data"
    },
    {
     "data": {
      "text/plain": [
       "[[1285700400, 23.52, 44, 1, 'Clear', 3.1]]"
      ]
     },
     "metadata": {},
     "output_type": "display_data"
    },
    {
     "data": {
      "text/plain": [
       "[[1302634800, 19.61, 41, 20, 'Clouds', 8.2]]"
      ]
     },
     "metadata": {},
     "output_type": "display_data"
    },
    {
     "data": {
      "text/plain": [
       "[[1305054000, 31.33, 39, 1, 'Clear', 4.1]]"
      ]
     },
     "metadata": {},
     "output_type": "display_data"
    },
    {
     "data": {
      "text/plain": [
       "[[1306868400, 32.61, 42, 40, 'Clouds', 2.1]]"
      ]
     },
     "metadata": {},
     "output_type": "display_data"
    },
    {
     "data": {
      "text/plain": [
       "[[1307473200, 32.63, 32, 1, 'Clear', 2.6]]"
      ]
     },
     "metadata": {},
     "output_type": "display_data"
    },
    {
     "data": {
      "text/plain": [
       "[[1308078000, 32.35, 31, 1, 'Clear', 5.1]]"
      ]
     },
     "metadata": {},
     "output_type": "display_data"
    },
    {
     "data": {
      "text/plain": [
       "[[1309892400, 30.64, 49, 20, 'Clouds', 1.5]]"
      ]
     },
     "metadata": {},
     "output_type": "display_data"
    },
    {
     "data": {
      "text/plain": [
       "[[1312916400, 30.88, 63, 20, 'Clouds', 4.1]]"
      ]
     },
     "metadata": {},
     "output_type": "display_data"
    },
    {
     "data": {
      "text/plain": [
       "[[1313521200, 30.84, 38, 1, 'Clear', 1.5]]"
      ]
     },
     "metadata": {},
     "output_type": "display_data"
    },
    {
     "data": {
      "text/plain": [
       "[[1314730800, 30.42, 49, 75, 'Clouds', 5.7]]"
      ]
     },
     "metadata": {},
     "output_type": "display_data"
    },
    {
     "data": {
      "text/plain": [
       "[[1315940400, 29.98, 38, 20, 'Clouds', 1.01]]"
      ]
     },
     "metadata": {},
     "output_type": "display_data"
    },
    {
     "data": {
      "text/plain": [
       "[[1316545200, 24.85, 64, 75, 'Clouds', 2.6]]"
      ]
     },
     "metadata": {},
     "output_type": "display_data"
    },
    {
     "data": {
      "text/plain": [
       "[[1317150000, 27.74, 47, 1, 'Clear', 2.6]]"
      ]
     },
     "metadata": {},
     "output_type": "display_data"
    },
    {
     "data": {
      "text/plain": [
       "[[1334689200, 25.04, 50, 40, 'Clouds', 2.6]]"
      ]
     },
     "metadata": {},
     "output_type": "display_data"
    },
    {
     "data": {
      "text/plain": [
       "[[1335898800, 29.97, 46, 40, 'Clouds', 1.5]]"
      ]
     },
     "metadata": {},
     "output_type": "display_data"
    },
    {
     "data": {
      "text/plain": [
       "[[1340737200, 30.83, 41, 1, 'Clear', 4.1]]"
      ]
     },
     "metadata": {},
     "output_type": "display_data"
    },
    {
     "data": {
      "text/plain": [
       "[[1342551600, 28.91, 72, 1, 'Clear', 2.6]]"
      ]
     },
     "metadata": {},
     "output_type": "display_data"
    },
    {
     "data": {
      "text/plain": [
       "[[1343761200, 27.28, 63, 75, 'Clouds', 2.1]]"
      ]
     },
     "metadata": {},
     "output_type": "display_data"
    },
    {
     "data": {
      "text/plain": [
       "[[1344970800, 27.46, 64, 75, 'Clouds', 3.1]]"
      ]
     },
     "metadata": {},
     "output_type": "display_data"
    },
    {
     "data": {
      "text/plain": [
       "[[1346785200, 24.7, 81, 90, 'Clouds', 2.6]]"
      ]
     },
     "metadata": {},
     "output_type": "display_data"
    },
    {
     "data": {
      "text/plain": [
       "[[1348599600, 26.53, 35, 1, 'Clear', 1.6]]"
      ]
     },
     "metadata": {},
     "output_type": "display_data"
    },
    {
     "data": {
      "text/plain": [
       "[[1367348400, 24.25, 40, 20, 'Clouds', 1.68]]"
      ]
     },
     "metadata": {},
     "output_type": "display_data"
    },
    {
     "data": {
      "text/plain": [
       "[[1371582000, 27.73, 60, 20, 'Clouds', 4.6]]"
      ]
     },
     "metadata": {},
     "output_type": "display_data"
    },
    {
     "data": {
      "text/plain": [
       "[[1371582000, 27.73, 60, 20, 'Clouds', 4.6]]"
      ]
     },
     "metadata": {},
     "output_type": "display_data"
    },
    {
     "data": {
      "text/plain": [
       "[[1372791600, 27.87, 62, 90, 'Clouds', 2.6]]"
      ]
     },
     "metadata": {},
     "output_type": "display_data"
    },
    {
     "data": {
      "text/plain": [
       "[[1375210800, 31.36, 37, 1, 'Clear', 0.36]]"
      ]
     },
     "metadata": {},
     "output_type": "display_data"
    },
    {
     "data": {
      "text/plain": [
       "[[1376420400, 29.37, 61, 75, 'Clouds', 2.6]]"
      ]
     },
     "metadata": {},
     "output_type": "display_data"
    },
    {
     "data": {
      "text/plain": [
       "[[1378234800, 29.78, 55, 1, 'Clear', 2.1]]"
      ]
     },
     "metadata": {},
     "output_type": "display_data"
    },
    {
     "data": {
      "text/plain": [
       "[[1396983600, 16.4, 39, 20, 'Clouds', 6.7]]"
      ]
     },
     "metadata": {},
     "output_type": "display_data"
    },
    {
     "data": {
      "text/plain": [
       "[[1398193200, 17.91, 87, 90, 'Rain', 2.1]]"
      ]
     },
     "metadata": {},
     "output_type": "display_data"
    },
    {
     "data": {
      "text/plain": [
       "[[1403031600, 31.55, 46, 20, 'Clouds', 1.5]]"
      ]
     },
     "metadata": {},
     "output_type": "display_data"
    },
    {
     "data": {
      "text/plain": [
       "[[1404241200, 31.49, 55, 1, 'Clear', 3.6]]"
      ]
     },
     "metadata": {},
     "output_type": "display_data"
    },
    {
     "data": {
      "text/plain": [
       "[[1406055600, 27.58, 63, 75, 'Clouds', 2.1]]"
      ]
     },
     "metadata": {},
     "output_type": "display_data"
    },
    {
     "data": {
      "text/plain": [
       "[[1407870000, 30.03, 61, 40, 'Clouds', 2.6]]"
      ]
     },
     "metadata": {},
     "output_type": "display_data"
    },
    {
     "data": {
      "text/plain": [
       "[[1409684400, 26.09, 76, 75, 'Thunderstorm', 1.5]]"
      ]
     },
     "metadata": {},
     "output_type": "display_data"
    },
    {
     "data": {
      "text/plain": [
       "[[1410894000, 28.58, 58, 20, 'Clouds', 4.1]]"
      ]
     },
     "metadata": {},
     "output_type": "display_data"
    },
    {
     "data": {
      "text/plain": [
       "[[1429038000, 27.01, 54, 40, 'Clouds', 4.1]]"
      ]
     },
     "metadata": {},
     "output_type": "display_data"
    },
    {
     "data": {
      "text/plain": [
       "[[1430247600, 21.5, 36, 1, 'Clear', 4.1]]"
      ]
     },
     "metadata": {},
     "output_type": "display_data"
    },
    {
     "data": {
      "text/plain": [
       "[[1430852400, 26.86, 39, 20, 'Clouds', 3.6]]"
      ]
     },
     "metadata": {},
     "output_type": "display_data"
    },
    {
     "data": {
      "text/plain": [
       "[[1433876400, 29.85, 61, 75, 'Thunderstorm', 3.6]]"
      ]
     },
     "metadata": {},
     "output_type": "display_data"
    },
    {
     "data": {
      "text/plain": [
       "[[1435690800, 28.77, 51, 1, 'Clear', 5.1]]"
      ]
     },
     "metadata": {},
     "output_type": "display_data"
    },
    {
     "data": {
      "text/plain": [
       "[[1437505200, 33.81, 52, 40, 'Clouds', 5.7]]"
      ]
     },
     "metadata": {},
     "output_type": "display_data"
    },
    {
     "data": {
      "text/plain": [
       "[[1438714800, 35.12, 33, 1, 'Clear', 0.91]]"
      ]
     },
     "metadata": {},
     "output_type": "display_data"
    },
    {
     "data": {
      "text/plain": [
       "[[1440529200, 28.18, 38, 1, 'Clear', 6.2]]"
      ]
     },
     "metadata": {},
     "output_type": "display_data"
    },
    {
     "data": {
      "text/plain": [
       "[[1441134000, 29.81, 51, 1, 'Clear', 0.3]]"
      ]
     },
     "metadata": {},
     "output_type": "display_data"
    },
    {
     "data": {
      "text/plain": [
       "[[1443553200, 23.92, 81, 90, 'Clouds', 1.5]]"
      ]
     },
     "metadata": {},
     "output_type": "display_data"
    },
    {
     "data": {
      "text/plain": [
       "[[1461092400, 26.86, 28, 75, 'Clouds', 0.35]]"
      ]
     },
     "metadata": {},
     "output_type": "display_data"
    },
    {
     "data": {
      "text/plain": [
       "[[1462906800, 26.32, 56, 75, 'Clouds', 3.6]]"
      ]
     },
     "metadata": {},
     "output_type": "display_data"
    },
    {
     "data": {
      "text/plain": [
       "[[1464721200, 31.98, 36, 1, 'Clear', 3.6]]"
      ]
     },
     "metadata": {},
     "output_type": "display_data"
    },
    {
     "data": {
      "text/plain": [
       "[[1472583600, 30.58, 44, 40, 'Clouds', 4.1]]"
      ]
     },
     "metadata": {},
     "output_type": "display_data"
    },
    {
     "data": {
      "text/plain": [
       "[[1473793200, 29.35, 51, 1, 'Clear', 2.6]]"
      ]
     },
     "metadata": {},
     "output_type": "display_data"
    },
    {
     "data": {
      "text/plain": [
       "[[1475002800, 30.03, 46, 20, 'Clouds', 2.1]]"
      ]
     },
     "metadata": {},
     "output_type": "display_data"
    },
    {
     "data": {
      "text/plain": [
       "[[1492542000, 23.64, 66, 75, 'Rain', 4.6]]"
      ]
     },
     "metadata": {},
     "output_type": "display_data"
    },
    {
     "data": {
      "text/plain": [
       "[[1493751600, 24.87, 20, 1, 'Clear', 5.7]]"
      ]
     },
     "metadata": {},
     "output_type": "display_data"
    },
    {
     "data": {
      "text/plain": [
       "[[1496775600, 24.74, 87, 75, 'Rain', 2.6]]"
      ]
     },
     "metadata": {},
     "output_type": "display_data"
    },
    {
     "data": {
      "text/plain": [
       "[[1497985200, 22.39, 96, 90, 'Rain', 4.1]]"
      ]
     },
     "metadata": {},
     "output_type": "display_data"
    },
    {
     "data": {
      "text/plain": [
       "[[1501614000, 29.68, 43, 20, 'Clouds', 1.56]]"
      ]
     },
     "metadata": {},
     "output_type": "display_data"
    },
    {
     "data": {
      "text/plain": [
       "[[1502218800, 23.02, 100, 90, 'Rain', 1.54]]"
      ]
     },
     "metadata": {},
     "output_type": "display_data"
    },
    {
     "data": {
      "text/plain": [
       "[[1505847600, 30.2, 49, 1, 'Clear', 0.65]]"
      ]
     },
     "metadata": {},
     "output_type": "display_data"
    },
    {
     "data": {
      "text/plain": [
       "[[1522782000, 24.29, 57, 75, 'Clouds', 4.63]]"
      ]
     },
     "metadata": {},
     "output_type": "display_data"
    },
    {
     "data": {
      "text/plain": [
       "[[1523991600, 21.67, 35, 1, 'Clear', 6.69]]"
      ]
     },
     "metadata": {},
     "output_type": "display_data"
    },
    {
     "data": {
      "text/plain": [
       "[[1527620400, 26.54, 81, 75, 'Thunderstorm', 11.8]]"
      ]
     },
     "metadata": {},
     "output_type": "display_data"
    },
    {
     "data": {
      "text/plain": [
       "[[1528830000, 26.53, 66, 90, 'Clouds', 3.09]]"
      ]
     },
     "metadata": {},
     "output_type": "display_data"
    },
    {
     "data": {
      "text/plain": [
       "[[1533063600, 24.24, 89, 75, 'Thunderstorm', 3.09]]"
      ]
     },
     "metadata": {},
     "output_type": "display_data"
    },
    {
     "data": {
      "text/plain": [
       "[[1534273200, 31.01, 46, 1, 'Clear', 1.73]]"
      ]
     },
     "metadata": {},
     "output_type": "display_data"
    },
    {
     "data": {
      "text/plain": [
       "[[1555441200, 23.1, 28, 1, 'Clear', 2.6]]"
      ]
     },
     "metadata": {},
     "output_type": "display_data"
    },
    {
     "data": {
      "text/plain": [
       "[[1556650800, 29.05, 43, 20, 'Clouds', 1.5]]"
      ]
     },
     "metadata": {},
     "output_type": "display_data"
    },
    {
     "data": {
      "text/plain": [
       "[[1559070000, 33.15, 31, 1, 'Clear', 4.6]]"
      ]
     },
     "metadata": {},
     "output_type": "display_data"
    },
    {
     "data": {
      "text/plain": [
       "[[1560884400, 27.23, 69, 40, 'Clouds', 2.6]]"
      ]
     },
     "metadata": {},
     "output_type": "display_data"
    },
    {
     "data": {
      "text/plain": [
       "[[1562094000, 33.83, 41, 40, 'Clouds', 1.91]]"
      ]
     },
     "metadata": {},
     "output_type": "display_data"
    },
    {
     "data": {
      "text/plain": [
       "[[1565722800, 35.21, 44, 40, 'Clouds', 3.6]]"
      ]
     },
     "metadata": {},
     "output_type": "display_data"
    },
    {
     "data": {
      "text/plain": [
       "[[1566327600, 31.99, 43, 1, 'Clear', 0.99]]"
      ]
     },
     "metadata": {},
     "output_type": "display_data"
    },
    {
     "data": {
      "text/plain": [
       "[[1568746800, 34.32, 36, 1, 'Clear', 2.6]]"
      ]
     },
     "metadata": {},
     "output_type": "display_data"
    },
    {
     "data": {
      "text/plain": [
       "[[1597777200, 31.28, 43, 1, 'Clear', 3.1]]"
      ]
     },
     "metadata": {},
     "output_type": "display_data"
    },
    {
     "data": {
      "text/plain": [
       "[[1599591600, 29.22, 38, 1, 'Clear', 4.6]]"
      ]
     },
     "metadata": {},
     "output_type": "display_data"
    },
    {
     "data": {
      "text/plain": [
       "[[1600801200, 20.72, 47, 1, 'Clear', 1.5]]"
      ]
     },
     "metadata": {},
     "output_type": "display_data"
    },
    {
     "data": {
      "text/plain": [
       "[[1602010800, 25.21, 41, 1, 'Clear', 1.46]]"
      ]
     },
     "metadata": {},
     "output_type": "display_data"
    },
    {
     "data": {
      "text/plain": [
       "[[1602615600, 24.38, 43, 1, 'Clear', 5.1]]"
      ]
     },
     "metadata": {},
     "output_type": "display_data"
    },
    {
     "data": {
      "text/plain": [
       "[[1285700400, 23.52, 44, 1, 'Clear', 3.1]]"
      ]
     },
     "metadata": {},
     "output_type": "display_data"
    },
    {
     "data": {
      "text/plain": [
       "[[1302634800, 19.61, 41, 20, 'Clouds', 8.2]]"
      ]
     },
     "metadata": {},
     "output_type": "display_data"
    },
    {
     "data": {
      "text/plain": [
       "[[1315940400, 29.98, 38, 20, 'Clouds', 1.01]]"
      ]
     },
     "metadata": {},
     "output_type": "display_data"
    },
    {
     "data": {
      "text/plain": [
       "[[1467054000, 32.57, 46, 1, 'Clear', 1.5]]"
      ]
     },
     "metadata": {},
     "output_type": "display_data"
    },
    {
     "data": {
      "text/plain": [
       "[[1369076400, 28.07, 56, 20, 'Clouds', 1.61]]"
      ]
     },
     "metadata": {},
     "output_type": "display_data"
    },
    {
     "data": {
      "text/plain": [
       "[[1401130800, 26.32, 62, 75, 'Clouds', 3.1]]"
      ]
     },
     "metadata": {},
     "output_type": "display_data"
    },
    {
     "data": {
      "text/plain": [
       "[[1461610800, 25.87, 45, 75, 'Clouds', 3.1]]"
      ]
     },
     "metadata": {},
     "output_type": "display_data"
    },
    {
     "data": {
      "text/plain": [
       "[[1536001200, 31.07, 52, 75, 'Clouds', 3.6]]"
      ]
     },
     "metadata": {},
     "output_type": "display_data"
    },
    {
     "data": {
      "text/plain": [
       "[[1339441200, 24.86, 79, 75, 'Rain', 2.1]]"
      ]
     },
     "metadata": {},
     "output_type": "display_data"
    },
    {
     "data": {
      "text/plain": [
       "[[1308596400, 32.7, 48, 75, 'Clouds', 2.1]]"
      ]
     },
     "metadata": {},
     "output_type": "display_data"
    },
    {
     "data": {
      "text/plain": [
       "[[1567450800, 32.18, 39, 40, 'Clouds', 3.65]]"
      ]
     },
     "metadata": {},
     "output_type": "display_data"
    },
    {
     "data": {
      "text/plain": [
       "[[1305572400, 16.55, 72, 75, 'Clouds', 5.7]]"
      ]
     },
     "metadata": {},
     "output_type": "display_data"
    },
    {
     "data": {
      "text/plain": [
       "[[1503342000, 30.86, 52, 20, 'Clouds', 2.06]]"
      ]
     },
     "metadata": {},
     "output_type": "display_data"
    },
    {
     "data": {
      "text/plain": [
       "[[1504551600, 29.11, 52, 1, 'Clear', 3.6]]"
      ]
     },
     "metadata": {},
     "output_type": "display_data"
    },
    {
     "data": {
      "text/plain": [
       "[[1270494000, 29.14, 36, 20, 'Clouds', 2.6]]"
      ]
     },
     "metadata": {},
     "output_type": "display_data"
    },
    {
     "data": {
      "text/plain": [
       "[[1341255600, 31.67, 46, 20, 'Clouds', 5.7]]"
      ]
     },
     "metadata": {},
     "output_type": "display_data"
    },
    {
     "data": {
      "text/plain": [
       "[[1500318000, 30.53, 66, 20, 'Clouds', 2.57]]"
      ]
     },
     "metadata": {},
     "output_type": "display_data"
    },
    {
     "data": {
      "text/plain": [
       "[[1554145200, 14.78, 22, 1, 'Clear', 4.1]]"
      ]
     },
     "metadata": {},
     "output_type": "display_data"
    },
    {
     "data": {
      "text/plain": [
       "[[1337022000, 25.38, 56, 20, 'Clouds', 3.6]]"
      ]
     },
     "metadata": {},
     "output_type": "display_data"
    },
    {
     "data": {
      "text/plain": [
       "[[1465844400, 34.4, 38, 1, 'Clear', 3.6]]"
      ]
     },
     "metadata": {},
     "output_type": "display_data"
    },
    {
     "data": {
      "text/plain": [
       "[[1529953200, 27.1, 89, 40, 'Thunderstorm', 2.57]]"
      ]
     },
     "metadata": {},
     "output_type": "display_data"
    },
    {
     "data": {
      "text/plain": [
       "[[1304362800, 26.8, 50, 40, 'Clouds', 2.1]]"
      ]
     },
     "metadata": {},
     "output_type": "display_data"
    },
    {
     "data": {
      "text/plain": [
       "[[1379962800, 26, 46, 40, 'Clouds', 3.6]]"
      ]
     },
     "metadata": {},
     "output_type": "display_data"
    },
    {
     "data": {
      "text/plain": [
       "[[1400526000, 20.21, 62, 75, 'Clouds', 2.6]]"
      ]
     },
     "metadata": {},
     "output_type": "display_data"
    },
    {
     "data": {
      "text/plain": [
       "[[1311620400, 27.35, 88, 40, 'Rain', 1.5]]"
      ]
     },
     "metadata": {},
     "output_type": "display_data"
    },
    {
     "data": {
      "text/plain": [
       "[[1335812400, 30.23, 36, 1, 'Clear', 4.1]]"
      ]
     },
     "metadata": {},
     "output_type": "display_data"
    },
    {
     "data": {
      "text/plain": [
       "[[1370286000, 28.07, 56, 75, 'Clouds', 4.1]]"
      ]
     },
     "metadata": {},
     "output_type": "display_data"
    },
    {
     "data": {
      "text/plain": [
       "[[1411412400, 25.71, 42, 1, 'Clear', 4.1]]"
      ]
     },
     "metadata": {},
     "output_type": "display_data"
    },
    {
     "data": {
      "text/plain": [
       "[[1495479600, 22.88, 94, 90, 'Thunderstorm', 1.01]]"
      ]
     },
     "metadata": {},
     "output_type": "display_data"
    },
    {
     "data": {
      "text/plain": [
       "[[1560193200, 25.46, 90, 75, 'Rain', 2.1]]"
      ]
     },
     "metadata": {},
     "output_type": "display_data"
    },
    {
     "data": {
      "text/plain": [
       "[[1338231600, 30.1, 47, 20, 'Clouds', 4.1]]"
      ]
     },
     "metadata": {},
     "output_type": "display_data"
    },
    {
     "data": {
      "text/plain": [
       "[[1399316400, 30.29, 30, 1, 'Clear', 4.6]]"
      ]
     },
     "metadata": {},
     "output_type": "display_data"
    },
    {
     "data": {
      "text/plain": [
       "[[1537210800, 31.83, 52, 75, 'Clouds', 4.12]]"
      ]
     },
     "metadata": {},
     "output_type": "display_data"
    },
    {
     "data": {
      "text/plain": [
       "[[1274122800, 26.98, 56, 20, 'Clouds', 3.1]]"
      ]
     },
     "metadata": {},
     "output_type": "display_data"
    },
    {
     "data": {
      "text/plain": [
       "[[1275332400, 27.26, 58, 75, 'Haze', 4.6]]"
      ]
     },
     "metadata": {},
     "output_type": "display_data"
    },
    {
     "data": {
      "text/plain": [
       "[[1277751600, 33.77, 40, 20, 'Clouds', 3.6]]"
      ]
     },
     "metadata": {},
     "output_type": "display_data"
    },
    {
     "data": {
      "text/plain": [
       "[[1280775600, 29.06, 69, 90, 'Haze', 3.1]]"
      ]
     },
     "metadata": {},
     "output_type": "display_data"
    },
    {
     "data": {
      "text/plain": [
       "[[1281985200, 30.13, 67, 40, 'Clouds', 2.6]]"
      ]
     },
     "metadata": {},
     "output_type": "display_data"
    },
    {
     "data": {
      "text/plain": [
       "[[1283194800, 28.33, 39, 1, 'Clear', 2.6]]"
      ]
     },
     "metadata": {},
     "output_type": "display_data"
    },
    {
     "data": {
      "text/plain": [
       "[[1284404400, 28.91, 38, 1, 'Clear', 3.6]]"
      ]
     },
     "metadata": {},
     "output_type": "display_data"
    },
    {
     "data": {
      "text/plain": [
       "[[1285614000, 23.82, 57, 75, 'Clouds', 4.1]]"
      ]
     },
     "metadata": {},
     "output_type": "display_data"
    },
    {
     "data": {
      "text/plain": [
       "[[1286823600, 29.27, 27, 1, 'Clear', 2.6]]"
      ]
     },
     "metadata": {},
     "output_type": "display_data"
    },
    {
     "data": {
      "text/plain": [
       "[[1306782000, 31.9, 43, 1, 'Clear', 3.1]]"
      ]
     },
     "metadata": {},
     "output_type": "display_data"
    },
    {
     "data": {
      "text/plain": [
       "[[1309806000, 28.75, 76, 78, 'Rain', 2.21]]"
      ]
     },
     "metadata": {},
     "output_type": "display_data"
    },
    {
     "data": {
      "text/plain": [
       "[[1312830000, 33.63, 54, 1, 'Clear', 4.6]]"
      ]
     },
     "metadata": {},
     "output_type": "display_data"
    },
    {
     "data": {
      "text/plain": [
       "[[1313434800, 29.22, 47, 20, 'Clouds', 4.1]]"
      ]
     },
     "metadata": {},
     "output_type": "display_data"
    },
    {
     "data": {
      "text/plain": [
       "[[1315854000, 28.74, 41, 1, 'Clear', 2.85]]"
      ]
     },
     "metadata": {},
     "output_type": "display_data"
    },
    {
     "data": {
      "text/plain": [
       "[[1316458800, 23.05, 53, 20, 'Clouds', 3.1]]"
      ]
     },
     "metadata": {},
     "output_type": "display_data"
    },
    {
     "data": {
      "text/plain": [
       "[[1317063600, 29.05, 47, 40, 'Clouds', 5.1]]"
      ]
     },
     "metadata": {},
     "output_type": "display_data"
    },
    {
     "data": {
      "text/plain": [
       "[[1334602800, 22.28, 68, 90, 'Clouds', 4.1]]"
      ]
     },
     "metadata": {},
     "output_type": "display_data"
    },
    {
     "data": {
      "text/plain": [
       "[[1343674800, 33.38, 32, 1, 'Clear', 3.1]]"
      ]
     },
     "metadata": {},
     "output_type": "display_data"
    },
    {
     "data": {
      "text/plain": [
       "[[1344884400, 29.79, 33, 1, 'Clear', 2.1]]"
      ]
     },
     "metadata": {},
     "output_type": "display_data"
    },
    {
     "data": {
      "text/plain": [
       "[[1346698800, 27.71, 65, 40, 'Clouds', 5.1]]"
      ]
     },
     "metadata": {},
     "output_type": "display_data"
    },
    {
     "data": {
      "text/plain": [
       "[[1364842800, 21.39, 29, 1, 'Clear', 3.1]]"
      ]
     },
     "metadata": {},
     "output_type": "display_data"
    },
    {
     "data": {
      "text/plain": [
       "[[1367262000, 21.7, 57, 40, 'Clouds', 1.5]]"
      ]
     },
     "metadata": {},
     "output_type": "display_data"
    },
    {
     "data": {
      "text/plain": [
       "[[1371495600, 28.62, 61, 1, 'Rain', 1.5]]"
      ]
     },
     "metadata": {},
     "output_type": "display_data"
    },
    {
     "data": {
      "text/plain": [
       "[[1375124400, 28.67, 32, 1, 'Clear', 4.6]]"
      ]
     },
     "metadata": {},
     "output_type": "display_data"
    },
    {
     "data": {
      "text/plain": [
       "[[1376334000, 28.01, 76, 1, 'Thunderstorm', 2.15]]"
      ]
     },
     "metadata": {},
     "output_type": "display_data"
    },
    {
     "data": {
      "text/plain": [
       "[[1378148400, 24.61, 83, 75, 'Clouds', 2.1]]"
      ]
     },
     "metadata": {},
     "output_type": "display_data"
    },
    {
     "data": {
      "text/plain": [
       "[[1398106800, 24, 33, 1, 'Clear', 0.83]]"
      ]
     },
     "metadata": {},
     "output_type": "display_data"
    },
    {
     "data": {
      "text/plain": [
       "[[1402945200, 31.52, 40, 1, 'Clear', 0.57]]"
      ]
     },
     "metadata": {},
     "output_type": "display_data"
    },
    {
     "data": {
      "text/plain": [
       "[[1404154800, 24.26, 84, 75, 'Rain', 1.34]]"
      ]
     },
     "metadata": {},
     "output_type": "display_data"
    },
    {
     "data": {
      "text/plain": [
       "[[1405969200, 27.61, 66, 75, 'Clouds', 2.1]]"
      ]
     },
     "metadata": {},
     "output_type": "display_data"
    },
    {
     "data": {
      "text/plain": [
       "[[1406574000, 31.53, 43, 20, 'Clouds', 6.2]]"
      ]
     },
     "metadata": {},
     "output_type": "display_data"
    },
    {
     "data": {
      "text/plain": [
       "[[1407783600, 27.69, 71, 90, 'Clouds', 2.6]]"
      ]
     },
     "metadata": {},
     "output_type": "display_data"
    },
    {
     "data": {
      "text/plain": [
       "[[1409598000, 31.22, 55, 75, 'Clouds', 2.6]]"
      ]
     },
     "metadata": {},
     "output_type": "display_data"
    },
    {
     "data": {
      "text/plain": [
       "[[1410807600, 24.97, 76, 90, 'Clouds', 2.1]]"
      ]
     },
     "metadata": {},
     "output_type": "display_data"
    },
    {
     "data": {
      "text/plain": [
       "[[1428951600, 22, 89, 90, 'Rain', 3.15]]"
      ]
     },
     "metadata": {},
     "output_type": "display_data"
    },
    {
     "data": {
      "text/plain": [
       "[[1430161200, 20.9, 28, 20, 'Clouds', 4.1]]"
      ]
     },
     "metadata": {},
     "output_type": "display_data"
    },
    {
     "data": {
      "text/plain": [
       "[[1430766000, 26.69, 31, 20, 'Clouds', 1.33]]"
      ]
     },
     "metadata": {},
     "output_type": "display_data"
    },
    {
     "data": {
      "text/plain": [
       "[[1433790000, 30.48, 47, 40, 'Clouds', 4.1]]"
      ]
     },
     "metadata": {},
     "output_type": "display_data"
    },
    {
     "data": {
      "text/plain": [
       "[[1437418800, 33.79, 48, 40, 'Clouds', 3.1]]"
      ]
     },
     "metadata": {},
     "output_type": "display_data"
    },
    {
     "data": {
      "text/plain": [
       "[[1438628400, 33.69, 42, 75, 'Clouds', 1.5]]"
      ]
     },
     "metadata": {},
     "output_type": "display_data"
    },
    {
     "data": {
      "text/plain": [
       "[[1440442800, 31.22, 55, 1, 'Clear', 5.1]]"
      ]
     },
     "metadata": {},
     "output_type": "display_data"
    },
    {
     "data": {
      "text/plain": [
       "[[1441047600, 24.99, 73, 90, 'Clouds', 1.06]]"
      ]
     },
     "metadata": {},
     "output_type": "display_data"
    },
    {
     "data": {
      "text/plain": [
       "[[1459796400, 23.44, 24, 1, 'Clear', 4.6]]"
      ]
     },
     "metadata": {},
     "output_type": "display_data"
    },
    {
     "data": {
      "text/plain": [
       "[[1464634800, 32.12, 35, 20, 'Clouds', 3.1]]"
      ]
     },
     "metadata": {},
     "output_type": "display_data"
    },
    {
     "data": {
      "text/plain": [
       "[[1473706800, 31.51, 48, 20, 'Clouds', 2.1]]"
      ]
     },
     "metadata": {},
     "output_type": "display_data"
    },
    {
     "data": {
      "text/plain": [
       "[[1492455600, 24.77, 68, 75, 'Clouds', 3.1]]"
      ]
     },
     "metadata": {},
     "output_type": "display_data"
    },
    {
     "data": {
      "text/plain": [
       "[[1493665200, 20.64, 47, 75, 'Clouds', 5.7]]"
      ]
     },
     "metadata": {},
     "output_type": "display_data"
    },
    {
     "data": {
      "text/plain": [
       "[[1496689200, 27.68, 65, 20, 'Clouds', 2.6]]"
      ]
     },
     "metadata": {},
     "output_type": "display_data"
    },
    {
     "data": {
      "text/plain": [
       "[[1497898800, 29.31, 63, 1, 'Clear', 3.1]]"
      ]
     },
     "metadata": {},
     "output_type": "display_data"
    },
    {
     "data": {
      "text/plain": [
       "[[1522695600, 25.98, 22, 1, 'Clear', 5.1]]"
      ]
     },
     "metadata": {},
     "output_type": "display_data"
    },
    {
     "data": {
      "text/plain": [
       "[[1523905200, 7.88, 49, 75, 'Clouds', 8.23]]"
      ]
     },
     "metadata": {},
     "output_type": "display_data"
    },
    {
     "data": {
      "text/plain": [
       "[[1527534000, 26.26, 79, 75, 'Clouds', 3.6]]"
      ]
     },
     "metadata": {},
     "output_type": "display_data"
    },
    {
     "data": {
      "text/plain": [
       "[[1527534000, 26.26, 79, 75, 'Clouds', 3.6]]"
      ]
     },
     "metadata": {},
     "output_type": "display_data"
    },
    {
     "data": {
      "text/plain": [
       "[[1532977200, 29.64, 70, 75, 'Clouds', 2.06]]"
      ]
     },
     "metadata": {},
     "output_type": "display_data"
    },
    {
     "data": {
      "text/plain": [
       "[[1534186800, 30.67, 46, 1, 'Clear', 3.09]]"
      ]
     },
     "metadata": {},
     "output_type": "display_data"
    },
    {
     "data": {
      "text/plain": [
       "[[1534186800, 30.67, 46, 1, 'Clear', 3.09]]"
      ]
     },
     "metadata": {},
     "output_type": "display_data"
    },
    {
     "data": {
      "text/plain": [
       "[[1539025200, 28.82, 62, 75, 'Rain', 6.17]]"
      ]
     },
     "metadata": {},
     "output_type": "display_data"
    },
    {
     "data": {
      "text/plain": [
       "[[1556564400, 28.42, 39, 1, 'Clear', 3.6]]"
      ]
     },
     "metadata": {},
     "output_type": "display_data"
    },
    {
     "data": {
      "text/plain": [
       "[[1560798000, 31.84, 44, 40, 'Clouds', 3.1]]"
      ]
     },
     "metadata": {},
     "output_type": "display_data"
    },
    {
     "data": {
      "text/plain": [
       "[[1596481200, 23.57, 93, 90, 'Thunderstorm', 4.6]]"
      ]
     },
     "metadata": {},
     "output_type": "display_data"
    },
    {
     "data": {
      "text/plain": [
       "[[1597690800, 30.74, 51, 40, 'Clouds', 2.1]]"
      ]
     },
     "metadata": {},
     "output_type": "display_data"
    },
    {
     "data": {
      "text/plain": [
       "[[1599505200, 28.65, 38, 1, 'Clear', 1.5]]"
      ]
     },
     "metadata": {},
     "output_type": "display_data"
    },
    {
     "data": {
      "text/plain": [
       "[[1600714800, 20.6, 36, 1, 'Clear', 4.6]]"
      ]
     },
     "metadata": {},
     "output_type": "display_data"
    },
    {
     "data": {
      "text/plain": [
       "[[1602529200, 25.37, 60, 75, 'Clouds', 3.1]]"
      ]
     },
     "metadata": {},
     "output_type": "display_data"
    },
    {
     "data": {
      "text/plain": [
       "[[1285614000, 23.82, 57, 75, 'Clouds', 4.1]]"
      ]
     },
     "metadata": {},
     "output_type": "display_data"
    },
    {
     "data": {
      "text/plain": [
       "[[1315854000, 28.74, 41, 1, 'Clear', 2.85]]"
      ]
     },
     "metadata": {},
     "output_type": "display_data"
    },
    {
     "ename": "ValueError",
     "evalue": "Length of values (5) does not match length of index (908)",
     "output_type": "error",
     "traceback": [
      "\u001b[1;31m---------------------------------------------------------------------------\u001b[0m",
      "\u001b[1;31mValueError\u001b[0m                                Traceback (most recent call last)",
      "\u001b[1;32m<ipython-input-22-dde62e71f9d3>\u001b[0m in \u001b[0;36m<module>\u001b[1;34m\u001b[0m\n\u001b[0;32m     25\u001b[0m \u001b[1;31m#end for\u001b[0m\u001b[1;33m\u001b[0m\u001b[1;33m\u001b[0m\u001b[1;33m\u001b[0m\u001b[0m\n\u001b[0;32m     26\u001b[0m \u001b[0mgameweather_data\u001b[0m\u001b[1;33m.\u001b[0m\u001b[0mcolumns\u001b[0m \u001b[1;33m=\u001b[0m \u001b[1;33m[\u001b[0m\u001b[1;34m'Timestamp'\u001b[0m\u001b[1;33m,\u001b[0m\u001b[1;34m'Temperature'\u001b[0m\u001b[1;33m,\u001b[0m \u001b[1;34m'Humidity'\u001b[0m\u001b[1;33m,\u001b[0m \u001b[1;34m'Cloudiness'\u001b[0m\u001b[1;33m,\u001b[0m \u001b[1;34m'Weather'\u001b[0m\u001b[1;33m,\u001b[0m \u001b[1;34m'Wind Speed'\u001b[0m\u001b[1;33m]\u001b[0m\u001b[1;33m\u001b[0m\u001b[1;33m\u001b[0m\u001b[0m\n\u001b[1;32m---> 27\u001b[1;33m \u001b[0mgameweather_data\u001b[0m\u001b[1;33m.\u001b[0m \u001b[0minsert\u001b[0m\u001b[1;33m(\u001b[0m\u001b[1;36m0\u001b[0m\u001b[1;33m,\u001b[0m \u001b[1;34m'Game_IDs'\u001b[0m\u001b[1;33m,\u001b[0m \u001b[0mgame_ids\u001b[0m\u001b[1;33m)\u001b[0m\u001b[1;33m\u001b[0m\u001b[1;33m\u001b[0m\u001b[0m\n\u001b[0m\u001b[0;32m     28\u001b[0m \u001b[0mgameweather_data\u001b[0m \u001b[1;33m=\u001b[0m \u001b[0mgameweather_data\u001b[0m\u001b[1;33m.\u001b[0m\u001b[0mreset_index\u001b[0m\u001b[1;33m(\u001b[0m\u001b[0mdrop\u001b[0m \u001b[1;33m=\u001b[0m \u001b[1;32mTrue\u001b[0m\u001b[1;33m)\u001b[0m\u001b[1;33m\u001b[0m\u001b[1;33m\u001b[0m\u001b[0m\n\u001b[0;32m     29\u001b[0m \u001b[1;33m\u001b[0m\u001b[0m\n",
      "\u001b[1;32m~\\Anaconda3\\lib\\site-packages\\pandas\\core\\frame.py\u001b[0m in \u001b[0;36minsert\u001b[1;34m(self, loc, column, value, allow_duplicates)\u001b[0m\n\u001b[0;32m   3760\u001b[0m             )\n\u001b[0;32m   3761\u001b[0m         \u001b[0mself\u001b[0m\u001b[1;33m.\u001b[0m\u001b[0m_ensure_valid_index\u001b[0m\u001b[1;33m(\u001b[0m\u001b[0mvalue\u001b[0m\u001b[1;33m)\u001b[0m\u001b[1;33m\u001b[0m\u001b[1;33m\u001b[0m\u001b[0m\n\u001b[1;32m-> 3762\u001b[1;33m         \u001b[0mvalue\u001b[0m \u001b[1;33m=\u001b[0m \u001b[0mself\u001b[0m\u001b[1;33m.\u001b[0m\u001b[0m_sanitize_column\u001b[0m\u001b[1;33m(\u001b[0m\u001b[0mcolumn\u001b[0m\u001b[1;33m,\u001b[0m \u001b[0mvalue\u001b[0m\u001b[1;33m,\u001b[0m \u001b[0mbroadcast\u001b[0m\u001b[1;33m=\u001b[0m\u001b[1;32mFalse\u001b[0m\u001b[1;33m)\u001b[0m\u001b[1;33m\u001b[0m\u001b[1;33m\u001b[0m\u001b[0m\n\u001b[0m\u001b[0;32m   3763\u001b[0m         \u001b[0mself\u001b[0m\u001b[1;33m.\u001b[0m\u001b[0m_mgr\u001b[0m\u001b[1;33m.\u001b[0m\u001b[0minsert\u001b[0m\u001b[1;33m(\u001b[0m\u001b[0mloc\u001b[0m\u001b[1;33m,\u001b[0m \u001b[0mcolumn\u001b[0m\u001b[1;33m,\u001b[0m \u001b[0mvalue\u001b[0m\u001b[1;33m,\u001b[0m \u001b[0mallow_duplicates\u001b[0m\u001b[1;33m=\u001b[0m\u001b[0mallow_duplicates\u001b[0m\u001b[1;33m)\u001b[0m\u001b[1;33m\u001b[0m\u001b[1;33m\u001b[0m\u001b[0m\n\u001b[0;32m   3764\u001b[0m \u001b[1;33m\u001b[0m\u001b[0m\n",
      "\u001b[1;32m~\\Anaconda3\\lib\\site-packages\\pandas\\core\\frame.py\u001b[0m in \u001b[0;36m_sanitize_column\u001b[1;34m(self, key, value, broadcast)\u001b[0m\n\u001b[0;32m   3897\u001b[0m \u001b[1;33m\u001b[0m\u001b[0m\n\u001b[0;32m   3898\u001b[0m             \u001b[1;31m# turn me into an ndarray\u001b[0m\u001b[1;33m\u001b[0m\u001b[1;33m\u001b[0m\u001b[1;33m\u001b[0m\u001b[0m\n\u001b[1;32m-> 3899\u001b[1;33m             \u001b[0mvalue\u001b[0m \u001b[1;33m=\u001b[0m \u001b[0msanitize_index\u001b[0m\u001b[1;33m(\u001b[0m\u001b[0mvalue\u001b[0m\u001b[1;33m,\u001b[0m \u001b[0mself\u001b[0m\u001b[1;33m.\u001b[0m\u001b[0mindex\u001b[0m\u001b[1;33m)\u001b[0m\u001b[1;33m\u001b[0m\u001b[1;33m\u001b[0m\u001b[0m\n\u001b[0m\u001b[0;32m   3900\u001b[0m             \u001b[1;32mif\u001b[0m \u001b[1;32mnot\u001b[0m \u001b[0misinstance\u001b[0m\u001b[1;33m(\u001b[0m\u001b[0mvalue\u001b[0m\u001b[1;33m,\u001b[0m \u001b[1;33m(\u001b[0m\u001b[0mnp\u001b[0m\u001b[1;33m.\u001b[0m\u001b[0mndarray\u001b[0m\u001b[1;33m,\u001b[0m \u001b[0mIndex\u001b[0m\u001b[1;33m)\u001b[0m\u001b[1;33m)\u001b[0m\u001b[1;33m:\u001b[0m\u001b[1;33m\u001b[0m\u001b[1;33m\u001b[0m\u001b[0m\n\u001b[0;32m   3901\u001b[0m                 \u001b[1;32mif\u001b[0m \u001b[0misinstance\u001b[0m\u001b[1;33m(\u001b[0m\u001b[0mvalue\u001b[0m\u001b[1;33m,\u001b[0m \u001b[0mlist\u001b[0m\u001b[1;33m)\u001b[0m \u001b[1;32mand\u001b[0m \u001b[0mlen\u001b[0m\u001b[1;33m(\u001b[0m\u001b[0mvalue\u001b[0m\u001b[1;33m)\u001b[0m \u001b[1;33m>\u001b[0m \u001b[1;36m0\u001b[0m\u001b[1;33m:\u001b[0m\u001b[1;33m\u001b[0m\u001b[1;33m\u001b[0m\u001b[0m\n",
      "\u001b[1;32m~\\Anaconda3\\lib\\site-packages\\pandas\\core\\internals\\construction.py\u001b[0m in \u001b[0;36msanitize_index\u001b[1;34m(data, index)\u001b[0m\n\u001b[0;32m    749\u001b[0m     \"\"\"\n\u001b[0;32m    750\u001b[0m     \u001b[1;32mif\u001b[0m \u001b[0mlen\u001b[0m\u001b[1;33m(\u001b[0m\u001b[0mdata\u001b[0m\u001b[1;33m)\u001b[0m \u001b[1;33m!=\u001b[0m \u001b[0mlen\u001b[0m\u001b[1;33m(\u001b[0m\u001b[0mindex\u001b[0m\u001b[1;33m)\u001b[0m\u001b[1;33m:\u001b[0m\u001b[1;33m\u001b[0m\u001b[1;33m\u001b[0m\u001b[0m\n\u001b[1;32m--> 751\u001b[1;33m         raise ValueError(\n\u001b[0m\u001b[0;32m    752\u001b[0m             \u001b[1;34m\"Length of values \"\u001b[0m\u001b[1;33m\u001b[0m\u001b[1;33m\u001b[0m\u001b[0m\n\u001b[0;32m    753\u001b[0m             \u001b[1;34mf\"({len(data)}) \"\u001b[0m\u001b[1;33m\u001b[0m\u001b[1;33m\u001b[0m\u001b[0m\n",
      "\u001b[1;31mValueError\u001b[0m: Length of values (5) does not match length of index (908)"
     ]
    }
   ],
   "source": [
    "gameweather_data = pd.DataFrame()\n",
    "\n",
    "for timestamp in timestamp_list:\n",
    "    \n",
    "    #Organizes location and date object for api call\n",
    "    #timestamp = timestamp_list[i]\n",
    "    \n",
    "    for value in openweather_data:\n",
    "        try:\n",
    "            if timestamp == value['dt']:\n",
    "                weather = [[value['dt'],\n",
    "                            value['main']['temp'], \n",
    "                            value['main']['humidity'], \n",
    "                            value['clouds']['all'],\n",
    "                            value['weather'][0]['main'],\n",
    "                            value['wind']['speed']]]\n",
    "                \n",
    "                display(weather)\n",
    "                gameweather_data = gameweather_data.append(weather)\n",
    "            \n",
    "    \n",
    "        except (KeyError, IndexError):\n",
    "            print(\"Missing field/result... skipping.\")\n",
    "\n",
    "#end for\n",
    "gameweather_data.columns = ['Timestamp','Temperature', 'Humidity', 'Cloudiness', 'Weather', 'Wind Speed']\n",
    "gameweather_data. insert(0, 'Game_IDs', game_ids)\n",
    "gameweather_data = gameweather_data.reset_index(drop = True)\n",
    "\n",
    "display(gameweather_data)\n"
   ]
  },
  {
   "cell_type": "code",
   "execution_count": 26,
   "metadata": {},
   "outputs": [
    {
     "data": {
      "text/plain": [
       "'08-01-2020'"
      ]
     },
     "metadata": {},
     "output_type": "display_data"
    },
    {
     "data": {
      "text/plain": [
       "822182580.0"
      ]
     },
     "metadata": {},
     "output_type": "display_data"
    }
   ],
   "source": [
    "##MOCK DATA FOR INPUT##\n",
    "mock_data = {'Game_ID':  ['1', '2', '3', '4', '5'],\n",
    "        'Location': ['new york', 'los angeles', 'chicago', 'houston', 'miami', ],\n",
    "        'Date': ['03-21-1996', '08-01-2020', '01-20-1980', '12-01-2001', '11-15-2008']\n",
    "        }\n",
    "mock_data_df = pd.DataFrame(mock_data)\n",
    "cities = mock_data_df['Location']\n",
    "times = mock_data_df['Date']\n",
    "\n",
    "display(mock_data_df['Date'][1])\n",
    "\n",
    "\n",
    "#Organizes location\n",
    "city_name = mock_data_df['Location'][0]\n",
    "\n",
    "#Timestamp conversion\n",
    "date = mock_data_df['Date'][0]\n",
    "datetime_obj = dt.strptime(date, '%M-%d-%Y')\n",
    "timestamp = (datetime_obj - dt(1970, 1, 1)).total_seconds()\n",
    "display(timestamp)"
   ]
  },
  {
   "cell_type": "code",
   "execution_count": null,
   "metadata": {},
   "outputs": [],
   "source": []
  }
 ],
 "metadata": {
  "kernelspec": {
   "display_name": "PythonData",
   "language": "python",
   "name": "pythondata"
  },
  "language_info": {
   "codemirror_mode": {
    "name": "ipython",
    "version": 3
   },
   "file_extension": ".py",
   "mimetype": "text/x-python",
   "name": "python",
   "nbconvert_exporter": "python",
   "pygments_lexer": "ipython3",
   "version": "3.8.5"
  }
 },
 "nbformat": 4,
 "nbformat_minor": 4
}
